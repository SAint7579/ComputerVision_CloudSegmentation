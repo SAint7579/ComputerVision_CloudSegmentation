{
 "cells": [
  {
   "cell_type": "code",
   "execution_count": 340,
   "metadata": {},
   "outputs": [],
   "source": [
    "import numpy as np\n",
    "import torch\n",
    "from torch.utils.data import Dataset, DataLoader\n",
    "import torch.nn as nn\n",
    "import torch.nn.functional as F\n",
    "import pytorch_lightning as pl\n",
    "\n",
    "\n",
    "import sys\n",
    "sys.path.append('../Utilities/')\n",
    "\n",
    "from tqdm.notebook import tqdm\n",
    "\n",
    "import importlib\n",
    "import data_utils\n",
    "importlib.reload(data_utils)\n",
    "\n",
    "## Import MDS from sklearn\n",
    "from sklearn.manifold import MDS\n",
    "from sklearn.metrics import accuracy_score, f1_score\n",
    "mds = MDS(n_components=1, random_state=0, normalized_stress='auto')"
   ]
  },
  {
   "cell_type": "code",
   "execution_count": 341,
   "metadata": {},
   "outputs": [
    {
     "name": "stdout",
     "output_type": "stream",
     "text": [
      "UNet1D(\n",
      "  (encoder): ModuleList(\n",
      "    (0): Sequential(\n",
      "      (0): Conv1d(6, 32, kernel_size=(5,), stride=(1,), padding=(2,))\n",
      "      (1): ReLU()\n",
      "    )\n",
      "    (1): Sequential(\n",
      "      (0): Conv1d(32, 64, kernel_size=(5,), stride=(1,), padding=(2,))\n",
      "      (1): ReLU()\n",
      "    )\n",
      "    (2): Sequential(\n",
      "      (0): Conv1d(64, 128, kernel_size=(5,), stride=(1,), padding=(2,))\n",
      "      (1): ReLU()\n",
      "    )\n",
      "  )\n",
      "  (decoder): ModuleList(\n",
      "    (0): ModuleList(\n",
      "      (0): ConvTranspose1d(256, 128, kernel_size=(2,), stride=(2,))\n",
      "      (1): Conv1d(256, 128, kernel_size=(5,), stride=(1,), padding=(2,))\n",
      "      (2): ReLU()\n",
      "    )\n",
      "    (1): ModuleList(\n",
      "      (0): ConvTranspose1d(128, 64, kernel_size=(2,), stride=(2,))\n",
      "      (1): Conv1d(128, 64, kernel_size=(5,), stride=(1,), padding=(2,))\n",
      "      (2): ReLU()\n",
      "    )\n",
      "    (2): ModuleList(\n",
      "      (0): ConvTranspose1d(64, 32, kernel_size=(2,), stride=(2,))\n",
      "      (1): Conv1d(64, 32, kernel_size=(5,), stride=(1,), padding=(2,))\n",
      "      (2): ReLU()\n",
      "    )\n",
      "  )\n",
      "  (bottleneck): Sequential(\n",
      "    (0): Conv1d(128, 256, kernel_size=(1,), stride=(1,))\n",
      "    (1): ReLU()\n",
      "  )\n",
      "  (logits): Conv1d(32, 1, kernel_size=(1,), stride=(1,))\n",
      ")\n"
     ]
    }
   ],
   "source": [
    "class UNet1D(nn.Module):\n",
    "    def __init__(self, in_channels, out_channels, depth=2, num_layers=2):\n",
    "        super(UNet1D, self).__init__()\n",
    "\n",
    "        self.in_channels = in_channels\n",
    "        self.out_channels = out_channels\n",
    "        self.num_layers = num_layers\n",
    "        self.depth = depth\n",
    "        self.encoder = nn.ModuleList()\n",
    "        self.decoder = nn.ModuleList()\n",
    "        self.num_start_filters = 32\n",
    "\n",
    "        self._create_unet(self.in_channels, self.num_start_filters)\n",
    "\n",
    "        self.encoder_output_shape = int(np.floor(300/(2**depth)))\n",
    "        self.encoder_feature_maps = int(self.num_start_filters * 2 ** (self.depth - 1))\n",
    "\n",
    "        self.bottleneck = nn.Sequential(\n",
    "            nn.Conv1d(self.encoder_feature_maps, 2 * self.encoder_feature_maps, kernel_size=1, padding=0),\n",
    "            nn.ReLU()\n",
    "        )\n",
    "\n",
    "        self.logits = nn.Conv1d(self.num_start_filters, self.out_channels, 1, 1)\n",
    "\n",
    "    def _create_encoder_block(self, in_channels, out_channels):\n",
    "        return nn.Sequential(\n",
    "            nn.Conv1d(in_channels, out_channels, kernel_size=5, padding=2),\n",
    "            nn.ReLU()\n",
    "        )\n",
    "\n",
    "    def _create_decoder_block(self, in_channels, out_channels):\n",
    "        return nn.ModuleList(\n",
    "            [nn.ConvTranspose1d(in_channels, in_channels//2, kernel_size=2, stride=2),\n",
    "            nn.Conv1d(in_channels, out_channels, kernel_size=5, padding=2),\n",
    "            nn.ReLU()])\n",
    "\n",
    "    def _create_unet(self, in_channels, out_channels):\n",
    "        for _ in range(self.depth):\n",
    "            self.encoder.append(self._create_encoder_block(in_channels, out_channels))\n",
    "            in_channels, out_channels = out_channels, out_channels*2\n",
    "\n",
    "        out_channels = in_channels\n",
    "        in_channels = in_channels * 2\n",
    "        for _ in range(self.depth):\n",
    "            self.decoder.append(self._create_decoder_block(in_channels, out_channels))\n",
    "            in_channels, out_channels = out_channels, out_channels//2\n",
    "\n",
    "    def forward(self, x):\n",
    "        encoded = []\n",
    "        for enc in self.encoder:\n",
    "            x = enc(x)\n",
    "            encoded.append(x)\n",
    "            x = nn.MaxPool1d(kernel_size=2, stride=2)(x)\n",
    "            \n",
    "        x = self.bottleneck(x)  # Bottleneck layer\n",
    "        # x = torch.reshape(x, (-1, self.encoder_feature_maps*2, self.encoder_output_shape))\n",
    "\n",
    "\n",
    "        for dec in self.decoder:\n",
    "            ## Adding input with encoder concatenation\n",
    "            enc_output = encoded.pop()\n",
    "            x = dec[0](x)\n",
    "            ## Pad the decoder output to match the encoder output\n",
    "            diff = enc_output.shape[2] - x.shape[2]\n",
    "            x = F.pad(x, (diff // 2, diff - diff // 2))\n",
    "            x = torch.cat((enc_output, x), dim=1)\n",
    "            x = dec[1](x)\n",
    "            x = dec[2](x)\n",
    "        ## Add softmax to logits\n",
    "        # x = self.softmax(x)\n",
    "\n",
    "        return self.logits(x)\n",
    "\n",
    "input_channels = 6 \n",
    "output_channels = 1\n",
    "depth = 3\n",
    "num_layers = 2\n",
    "\n",
    "model = UNet1D(input_channels, output_channels, depth, num_layers)\n",
    "print(model)"
   ]
  },
  {
   "cell_type": "code",
   "execution_count": 342,
   "metadata": {},
   "outputs": [],
   "source": [
    "def count_parameters(model):\n",
    "    return sum(p.numel() for p in model.parameters())"
   ]
  },
  {
   "cell_type": "code",
   "execution_count": 343,
   "metadata": {},
   "outputs": [
    {
     "name": "stdout",
     "output_type": "stream",
     "text": [
      "Input shape: torch.Size([1, 6, 300])\n",
      "Output shape: torch.Size([1, 1, 300])\n"
     ]
    }
   ],
   "source": [
    "# Generate synthetic data\n",
    "num_superpixels = 300\n",
    "num_features = 6\n",
    "synthetic_data = np.random.rand(num_superpixels, num_features)\n",
    "synthetic_data = torch.tensor(synthetic_data, dtype=torch.float32)\n",
    "\n",
    "#Reshape\n",
    "synthetic_data = synthetic_data.unsqueeze(0).transpose(1, 2)\n",
    "\n",
    "# Pass the synthetic data through the U-Net model\n",
    "with torch.no_grad():\n",
    "    output = model(synthetic_data)\n",
    "\n",
    "print(\"Input shape:\", synthetic_data.shape)\n",
    "print(\"Output shape:\", output.shape)"
   ]
  },
  {
   "cell_type": "markdown",
   "metadata": {},
   "source": [
    "### Creating LightningModule "
   ]
  },
  {
   "cell_type": "code",
   "execution_count": 402,
   "metadata": {},
   "outputs": [],
   "source": [
    "class DiceBCELoss(nn.Module):\n",
    "    def __init__(self, weight=None, size_average=True):\n",
    "        super(DiceBCELoss, self).__init__()\n",
    "\n",
    "    def forward(self, inputs, targets, smooth=1):\n",
    "        \n",
    "        #comment out if your model contains a sigmoid or equivalent activation layer\n",
    "        inputs = F.sigmoid(inputs)       \n",
    "        \n",
    "        #flatten label and prediction tensors\n",
    "        inputs = inputs.view(-1)\n",
    "        targets = targets.view(-1)\n",
    "        \n",
    "        intersection = (inputs * targets).sum()                            \n",
    "        dice_loss = 1 - (2.*intersection + smooth)/(inputs.sum() + targets.sum() + smooth)  \n",
    "        BCE = F.binary_cross_entropy(inputs, targets, reduction='mean')\n",
    "        Dice_BCE = dice_loss + BCE\n",
    "        \n",
    "        return Dice_BCE"
   ]
  },
  {
   "cell_type": "code",
   "execution_count": 478,
   "metadata": {},
   "outputs": [],
   "source": [
    "class CloudSegmentationModel(pl.LightningModule):\n",
    "    def __init__(self, depth=2):\n",
    "        super(CloudSegmentationModel, self).__init__()\n",
    "        self.unet = UNet1D(in_channels=6, out_channels=1, depth=depth)\n",
    "        \n",
    "    def forward(self, x):\n",
    "        return nn.Sigmoid()(self.unet(x))\n",
    "\n",
    "    def accuracy_score(self, y_true, y_pred):\n",
    "        y_true = y_true.cpu().detach().numpy()\n",
    "        y_pred = y_pred.cpu().detach().numpy()\n",
    "        y_pred = np.where(y_pred > 0.5, 1, 0)\n",
    "        return accuracy_score(y_true, y_pred)\n",
    "\n",
    "    def training_step(self, batch, batch_idx):\n",
    "        superpixel, label = batch\n",
    "        output = self(superpixel)\n",
    "        loss = nn.BCELoss()(output, label)\n",
    "\n",
    "        # Calculate accuracy\n",
    "        predicted = torch.round(output)\n",
    "        correct = (predicted == label).sum().item()\n",
    "        total = label.size(0) * label.size(1) * label.size(2)\n",
    "        accuracy = correct / total\n",
    "\n",
    "        self.log('train_loss', loss, on_step=False, on_epoch=True)\n",
    "        self.log('train_accuracy', accuracy, on_step=False, on_epoch=True)\n",
    "        return loss\n",
    "\n",
    "    def validation_step(self, batch, batch_idx):\n",
    "        superpixel, label = batch\n",
    "        output = self(superpixel)\n",
    "        loss = nn.BCELoss()(output, label)\n",
    "\n",
    "        # Calculate accuracy\n",
    "        predicted = torch.round(output)\n",
    "        correct = (predicted == label).sum().item()\n",
    "        total = label.size(0) * label.size(1) * label.size(2)\n",
    "        accuracy = correct / total\n",
    "\n",
    "        self.log('val_loss', loss, on_step=False, on_epoch=True)\n",
    "        self.log('val_accuracy', accuracy, on_step=False, on_epoch=True)\n",
    "\n",
    "\n",
    "    def configure_optimizers(self):\n",
    "        return torch.optim.Adam(self.parameters(), lr=0.001)"
   ]
  },
  {
   "cell_type": "code",
   "execution_count": 479,
   "metadata": {},
   "outputs": [
    {
     "name": "stdout",
     "output_type": "stream",
     "text": [
      "Parameters:  91521\n",
      "Input shape: torch.Size([1, 6, 300])\n",
      "Output shape: torch.Size([1, 1, 300])\n"
     ]
    }
   ],
   "source": [
    "model = CloudSegmentationModel()\n",
    "print(\"Parameters: \",count_parameters(model))\n",
    "\n",
    "with torch.no_grad():\n",
    "    output = model(synthetic_data)\n",
    "\n",
    "print(\"Input shape:\", synthetic_data.shape)\n",
    "print(\"Output shape:\", output.shape)"
   ]
  },
  {
   "cell_type": "markdown",
   "metadata": {},
   "source": [
    "### Creating Dataset"
   ]
  },
  {
   "cell_type": "code",
   "execution_count": 347,
   "metadata": {},
   "outputs": [
    {
     "name": "stderr",
     "output_type": "stream",
     "text": [
      "c:\\Users\\GP65\\anaconda3\\lib\\site-packages\\rasterio\\__init__.py:333: NotGeoreferencedWarning: Dataset has no geotransform, gcps, or rpcs. The identity matrix will be returned.\n",
      "  dataset = DatasetReader(path, driver=driver, sharing=sharing, **kwargs)\n"
     ]
    }
   ],
   "source": [
    "patches,mask = data_utils.get_patch(path_to_folders_images = \"../Dataset/Natural_False_Color/\", path_to_folders_labels = \"../Dataset/Entire_scene_gts/\")"
   ]
  },
  {
   "cell_type": "code",
   "execution_count": 349,
   "metadata": {},
   "outputs": [
    {
     "data": {
      "application/vnd.jupyter.widget-view+json": {
       "model_id": "70a33f8aae2345b88093fe0106016de0",
       "version_major": 2,
       "version_minor": 0
      },
      "text/plain": [
       "  0%|          | 0/1472 [00:00<?, ?it/s]"
      ]
     },
     "metadata": {},
     "output_type": "display_data"
    },
    {
     "name": "stdout",
     "output_type": "stream",
     "text": [
      "                                                                   \r"
     ]
    }
   ],
   "source": [
    "X = []\n",
    "y = []\n",
    "raw = []\n",
    "slic_map = []\n",
    "original_ordering = []\n",
    "\n",
    "for i,j in tqdm(list(zip(patches,mask))):\n",
    "    # try:\n",
    "    segmented_image_rgb, properties, labels, segmented_binary_array, segments = data_utils.convert_image_array_to_slic_with_properties(i,j,n_segments=300) \n",
    "\n",
    "    ## Getting the X and y arrays\n",
    "    raw.append(segmented_image_rgb)\n",
    "    slic_map.append(segments)\n",
    "    X_array = np.array([list(list(i.values())[1]) + list(i.values())[2:-1] for i in properties])\n",
    "    y_array = np.array(labels)\n",
    "\n",
    "    ## Normalizing the X_array columwise\n",
    "    X_array[:,0] = X_array[:,0]/255\n",
    "    X_array[:,1] = X_array[:,1]/255\n",
    "    X_array[:,2] = X_array[:,2]/255\n",
    "    X_array[:,3] = X_array[:,3]/512\n",
    "    X_array[:,4] = X_array[:,4]/512\n",
    "    X_array[:,5] = X_array[:,5]/1000\n",
    "\n",
    "    ## Ordering\n",
    "    ordering = mds.fit_transform(X_array[:,3:5]).reshape(-1)\n",
    "    original_ordering.append(ordering.argsort())\n",
    "    X_array = X_array[ordering.argsort()]\n",
    "    y_array = y_array[ordering.argsort()]\n",
    "\n",
    "\n",
    "    ## Pad the X_array with -1 and y_array with 0 upto 300\n",
    "    X_array = np.pad(X_array,((0,300-X_array.shape[0]),(0,0)),mode='constant',constant_values=-1)\n",
    "    y_array = np.pad(y_array,(0,300-y_array.shape[0]),mode='constant',constant_values=0).reshape(-1,1)\n",
    "\n",
    "\n",
    "    ## Appending\n",
    "    X.append(X_array)\n",
    "    y.append(y_array)\n",
    "    \n",
    "    # except KeyboardInterrupt:\n",
    "    #     break\n",
    "    # except:\n",
    "    #     pass"
   ]
  },
  {
   "cell_type": "code",
   "execution_count": 434,
   "metadata": {},
   "outputs": [],
   "source": [
    "def unpad_and_plot(X,y,original_ordering,slic_map):\n",
    "    label = y[[X[:,0] != -1]]\n",
    "    label = label[original_ordering.argsort()]\n",
    "    plt.imshow(data_utils.reverse_segmentation(slic_map,label))\n",
    "    plt.show()\n",
    "\n",
    "def unpad_and_map(X,y,original_ordering,slic_map):\n",
    "    label = y[[X[:,0] != -1]]\n",
    "    label = label[original_ordering.argsort()]\n",
    "    map = data_utils.reverse_segmentation(slic_map,label)\n",
    "    return map"
   ]
  },
  {
   "cell_type": "code",
   "execution_count": 358,
   "metadata": {},
   "outputs": [],
   "source": [
    "# np.save('../Dataset/X.npy', np.array(X))\n",
    "# np.save('../Dataset/Y.npy', np.array(y))\n",
    "# np.save('../Dataset/raw.npy', np.array(raw))\n",
    "# np.save('../Dataset/slic_map.npy', np.array(slic_map))\n",
    "# np.save('../Dataset/original_ordering.npy', np.array(original_ordering))\n",
    "\n",
    "\n",
    "X = np.load('../Dataset/X.npy')\n",
    "y = np.load('../Dataset/Y.npy')\n",
    "raw = np.load('../Dataset/raw.npy')\n",
    "slic_map = np.load('../Dataset/slic_map.npy')\n",
    "original_ordering = np.load('../Dataset/original_ordering.npy', allow_pickle=True)"
   ]
  },
  {
   "cell_type": "code",
   "execution_count": 360,
   "metadata": {},
   "outputs": [],
   "source": [
    "# ##plot segmented_image_rgb\n",
    "# plt.imshow(raw[16])\n",
    "# plt.show()\n",
    "# unpad_and_plot(X[16],y[16],original_ordering[16],slic_map[16])"
   ]
  },
  {
   "cell_type": "code",
   "execution_count": 361,
   "metadata": {},
   "outputs": [],
   "source": [
    "class CustomDataset(Dataset):\n",
    "    def __init__(self, X, y):\n",
    "        self.X = X\n",
    "        self.y = y\n",
    "\n",
    "    def __len__(self):\n",
    "        return len(self.X)\n",
    "\n",
    "    def __getitem__(self, idx):\n",
    "        x_item = torch.tensor(self.X[idx], dtype=torch.float32).T\n",
    "        y_item = torch.tensor(self.y[idx], dtype=torch.float32).T\n",
    "        return x_item, y_item\n",
    "\n",
    "def create_dataloader(X, y, batch_size=32, shuffle=True):\n",
    "    dataset = CustomDataset(X, y)\n",
    "    dataloader = DataLoader(dataset, batch_size=batch_size, shuffle=shuffle)\n",
    "    return dataloader"
   ]
  },
  {
   "cell_type": "code",
   "execution_count": 362,
   "metadata": {},
   "outputs": [],
   "source": [
    "## Divide X and Y into train and test sets\n",
    "test_index = np.random.choice(range(len(X)), size=200, replace=False)\n",
    "train_index = [i for i in range(len(X)) if i not in test_index]\n",
    "\n",
    "X_train = X[train_index]\n",
    "X_test = X[test_index]\n",
    "y_train = y[train_index]\n",
    "y_test = y[test_index]"
   ]
  },
  {
   "cell_type": "code",
   "execution_count": 363,
   "metadata": {},
   "outputs": [],
   "source": [
    "train_loader = create_dataloader(X_train,y_train,batch_size=64,shuffle=True)\n",
    "test_loader = create_dataloader(X_test,y_test,batch_size=64,shuffle=True)"
   ]
  },
  {
   "cell_type": "markdown",
   "metadata": {},
   "source": [
    "## Training with PL"
   ]
  },
  {
   "cell_type": "code",
   "execution_count": 480,
   "metadata": {},
   "outputs": [],
   "source": [
    "import matplotlib.pyplot as plt\n",
    "from pytorch_lightning import Trainer\n",
    "from pytorch_lightning.callbacks import EarlyStopping, ModelCheckpoint\n",
    "from pytorch_lightning.callbacks.progress import TQDMProgressBar\n",
    "from pytorch_lightning.loggers import TensorBoardLogger"
   ]
  },
  {
   "cell_type": "code",
   "execution_count": 481,
   "metadata": {},
   "outputs": [],
   "source": [
    "# Initialize the model and trainer\n",
    "segmentationModel = CloudSegmentationModel(depth=2)"
   ]
  },
  {
   "cell_type": "code",
   "execution_count": 482,
   "metadata": {},
   "outputs": [],
   "source": [
    "logger = TensorBoardLogger('lightning_logs/', name='sgd_tagger')"
   ]
  },
  {
   "cell_type": "code",
   "execution_count": 483,
   "metadata": {},
   "outputs": [],
   "source": [
    "checkpoint_callback = ModelCheckpoint(\n",
    "    dirpath = './/model_checkpt/',\n",
    "    filename = 'best-checkpoint',\n",
    "    save_top_k=1,\n",
    "    verbose = True,\n",
    "    monitor='val_loss',\n",
    "    mode='min'\n",
    ")"
   ]
  },
  {
   "cell_type": "code",
   "execution_count": 484,
   "metadata": {},
   "outputs": [
    {
     "name": "stderr",
     "output_type": "stream",
     "text": [
      "GPU available: True (cuda), used: True\n",
      "TPU available: False, using: 0 TPU cores\n",
      "IPU available: False, using: 0 IPUs\n",
      "HPU available: False, using: 0 HPUs\n",
      "LOCAL_RANK: 0 - CUDA_VISIBLE_DEVICES: [0]\n",
      "\n",
      "  | Name | Type   | Params\n",
      "--------------------------------\n",
      "0 | unet | UNet1D | 91.5 K\n",
      "--------------------------------\n",
      "91.5 K    Trainable params\n",
      "0         Non-trainable params\n",
      "91.5 K    Total params\n",
      "0.366     Total estimated model params size (MB)\n"
     ]
    },
    {
     "name": "stdout",
     "output_type": "stream",
     "text": [
      "                                                                           "
     ]
    },
    {
     "name": "stderr",
     "output_type": "stream",
     "text": [
      "c:\\Users\\GP65\\anaconda3\\lib\\site-packages\\pytorch_lightning\\trainer\\connectors\\data_connector.py:236: PossibleUserWarning: The dataloader, train_dataloader, does not have many workers which may be a bottleneck. Consider increasing the value of the `num_workers` argument` (try 12 which is the number of cpus on this machine) in the `DataLoader` init to improve performance.\n",
      "  rank_zero_warn(\n",
      "c:\\Users\\GP65\\anaconda3\\lib\\site-packages\\pytorch_lightning\\trainer\\trainer.py:1892: PossibleUserWarning: The number of training batches (20) is smaller than the logging interval Trainer(log_every_n_steps=50). Set a lower value for log_every_n_steps if you want to see logs for the training epoch.\n",
      "  rank_zero_warn(\n"
     ]
    },
    {
     "name": "stdout",
     "output_type": "stream",
     "text": [
      "Epoch 0: 100%|██████████| 24/24 [00:00<00:00, 33.88it/s, loss=0.629, v_num=6]"
     ]
    },
    {
     "name": "stderr",
     "output_type": "stream",
     "text": [
      "Epoch 0, global step 20: 'val_loss' reached 0.57870 (best 0.57870), saving model to 'D:\\\\Projects\\\\ComputerVision_CloudSegmentation\\\\Superpixel-UNET\\\\model_checkpt\\\\best-checkpoint-v6.ckpt' as top 1\n"
     ]
    },
    {
     "name": "stdout",
     "output_type": "stream",
     "text": [
      "Epoch 1: 100%|██████████| 24/24 [00:00<00:00, 44.24it/s, loss=0.538, v_num=6]"
     ]
    },
    {
     "name": "stderr",
     "output_type": "stream",
     "text": [
      "Epoch 1, global step 40: 'val_loss' reached 0.50179 (best 0.50179), saving model to 'D:\\\\Projects\\\\ComputerVision_CloudSegmentation\\\\Superpixel-UNET\\\\model_checkpt\\\\best-checkpoint-v6.ckpt' as top 1\n"
     ]
    },
    {
     "name": "stdout",
     "output_type": "stream",
     "text": [
      "Epoch 2: 100%|██████████| 24/24 [00:00<00:00, 48.63it/s, loss=0.507, v_num=6]"
     ]
    },
    {
     "name": "stderr",
     "output_type": "stream",
     "text": [
      "Epoch 2, global step 60: 'val_loss' reached 0.49571 (best 0.49571), saving model to 'D:\\\\Projects\\\\ComputerVision_CloudSegmentation\\\\Superpixel-UNET\\\\model_checkpt\\\\best-checkpoint-v6.ckpt' as top 1\n"
     ]
    },
    {
     "name": "stdout",
     "output_type": "stream",
     "text": [
      "Epoch 3: 100%|██████████| 24/24 [00:00<00:00, 50.58it/s, loss=0.493, v_num=6]"
     ]
    },
    {
     "name": "stderr",
     "output_type": "stream",
     "text": [
      "Epoch 3, global step 80: 'val_loss' reached 0.47932 (best 0.47932), saving model to 'D:\\\\Projects\\\\ComputerVision_CloudSegmentation\\\\Superpixel-UNET\\\\model_checkpt\\\\best-checkpoint-v6.ckpt' as top 1\n"
     ]
    },
    {
     "name": "stdout",
     "output_type": "stream",
     "text": [
      "Epoch 4: 100%|██████████| 24/24 [00:00<00:00, 50.85it/s, loss=0.486, v_num=6]"
     ]
    },
    {
     "name": "stderr",
     "output_type": "stream",
     "text": [
      "Epoch 4, global step 100: 'val_loss' reached 0.46841 (best 0.46841), saving model to 'D:\\\\Projects\\\\ComputerVision_CloudSegmentation\\\\Superpixel-UNET\\\\model_checkpt\\\\best-checkpoint-v6.ckpt' as top 1\n"
     ]
    },
    {
     "name": "stdout",
     "output_type": "stream",
     "text": [
      "Epoch 5: 100%|██████████| 24/24 [00:00<00:00, 48.00it/s, loss=0.467, v_num=6]"
     ]
    },
    {
     "name": "stderr",
     "output_type": "stream",
     "text": [
      "Epoch 5, global step 120: 'val_loss' reached 0.46012 (best 0.46012), saving model to 'D:\\\\Projects\\\\ComputerVision_CloudSegmentation\\\\Superpixel-UNET\\\\model_checkpt\\\\best-checkpoint-v6.ckpt' as top 1\n"
     ]
    },
    {
     "name": "stdout",
     "output_type": "stream",
     "text": [
      "Epoch 6: 100%|██████████| 24/24 [00:00<00:00, 48.53it/s, loss=0.452, v_num=6]"
     ]
    },
    {
     "name": "stderr",
     "output_type": "stream",
     "text": [
      "Epoch 6, global step 140: 'val_loss' reached 0.44379 (best 0.44379), saving model to 'D:\\\\Projects\\\\ComputerVision_CloudSegmentation\\\\Superpixel-UNET\\\\model_checkpt\\\\best-checkpoint-v6.ckpt' as top 1\n"
     ]
    },
    {
     "name": "stdout",
     "output_type": "stream",
     "text": [
      "Epoch 7: 100%|██████████| 24/24 [00:00<00:00, 53.33it/s, loss=0.43, v_num=6] "
     ]
    },
    {
     "name": "stderr",
     "output_type": "stream",
     "text": [
      "Epoch 7, global step 160: 'val_loss' reached 0.39972 (best 0.39972), saving model to 'D:\\\\Projects\\\\ComputerVision_CloudSegmentation\\\\Superpixel-UNET\\\\model_checkpt\\\\best-checkpoint-v6.ckpt' as top 1\n"
     ]
    },
    {
     "name": "stdout",
     "output_type": "stream",
     "text": [
      "Epoch 8: 100%|██████████| 24/24 [00:00<00:00, 50.74it/s, loss=0.401, v_num=6]"
     ]
    },
    {
     "name": "stderr",
     "output_type": "stream",
     "text": [
      "Epoch 8, global step 180: 'val_loss' was not in top 1\n"
     ]
    },
    {
     "name": "stdout",
     "output_type": "stream",
     "text": [
      "Epoch 9: 100%|██████████| 24/24 [00:00<00:00, 49.63it/s, loss=0.373, v_num=6]"
     ]
    },
    {
     "name": "stderr",
     "output_type": "stream",
     "text": [
      "Epoch 9, global step 200: 'val_loss' reached 0.34744 (best 0.34744), saving model to 'D:\\\\Projects\\\\ComputerVision_CloudSegmentation\\\\Superpixel-UNET\\\\model_checkpt\\\\best-checkpoint-v6.ckpt' as top 1\n"
     ]
    },
    {
     "name": "stdout",
     "output_type": "stream",
     "text": [
      "Epoch 10: 100%|██████████| 24/24 [00:00<00:00, 48.44it/s, loss=0.342, v_num=6]"
     ]
    },
    {
     "name": "stderr",
     "output_type": "stream",
     "text": [
      "Epoch 10, global step 220: 'val_loss' reached 0.32724 (best 0.32724), saving model to 'D:\\\\Projects\\\\ComputerVision_CloudSegmentation\\\\Superpixel-UNET\\\\model_checkpt\\\\best-checkpoint-v6.ckpt' as top 1\n"
     ]
    },
    {
     "name": "stdout",
     "output_type": "stream",
     "text": [
      "Epoch 11: 100%|██████████| 24/24 [00:00<00:00, 50.31it/s, loss=0.333, v_num=6]"
     ]
    },
    {
     "name": "stderr",
     "output_type": "stream",
     "text": [
      "Epoch 11, global step 240: 'val_loss' reached 0.31585 (best 0.31585), saving model to 'D:\\\\Projects\\\\ComputerVision_CloudSegmentation\\\\Superpixel-UNET\\\\model_checkpt\\\\best-checkpoint-v6.ckpt' as top 1\n"
     ]
    },
    {
     "name": "stdout",
     "output_type": "stream",
     "text": [
      "Epoch 12: 100%|██████████| 24/24 [00:00<00:00, 48.00it/s, loss=0.309, v_num=6]"
     ]
    },
    {
     "name": "stderr",
     "output_type": "stream",
     "text": [
      "Epoch 12, global step 260: 'val_loss' reached 0.30697 (best 0.30697), saving model to 'D:\\\\Projects\\\\ComputerVision_CloudSegmentation\\\\Superpixel-UNET\\\\model_checkpt\\\\best-checkpoint-v6.ckpt' as top 1\n"
     ]
    },
    {
     "name": "stdout",
     "output_type": "stream",
     "text": [
      "Epoch 13: 100%|██████████| 24/24 [00:00<00:00, 49.28it/s, loss=0.301, v_num=6]"
     ]
    },
    {
     "name": "stderr",
     "output_type": "stream",
     "text": [
      "Epoch 13, global step 280: 'val_loss' was not in top 1\n"
     ]
    },
    {
     "name": "stdout",
     "output_type": "stream",
     "text": [
      "Epoch 14: 100%|██████████| 24/24 [00:00<00:00, 51.50it/s, loss=0.301, v_num=6]"
     ]
    },
    {
     "name": "stderr",
     "output_type": "stream",
     "text": [
      "Epoch 14, global step 300: 'val_loss' reached 0.30081 (best 0.30081), saving model to 'D:\\\\Projects\\\\ComputerVision_CloudSegmentation\\\\Superpixel-UNET\\\\model_checkpt\\\\best-checkpoint-v6.ckpt' as top 1\n"
     ]
    },
    {
     "name": "stdout",
     "output_type": "stream",
     "text": [
      "Epoch 15: 100%|██████████| 24/24 [00:00<00:00, 45.63it/s, loss=0.287, v_num=6]"
     ]
    },
    {
     "name": "stderr",
     "output_type": "stream",
     "text": [
      "Epoch 15, global step 320: 'val_loss' was not in top 1\n"
     ]
    },
    {
     "name": "stdout",
     "output_type": "stream",
     "text": [
      "Epoch 16: 100%|██████████| 24/24 [00:00<00:00, 45.80it/s, loss=0.289, v_num=6]"
     ]
    },
    {
     "name": "stderr",
     "output_type": "stream",
     "text": [
      "Epoch 16, global step 340: 'val_loss' reached 0.29738 (best 0.29738), saving model to 'D:\\\\Projects\\\\ComputerVision_CloudSegmentation\\\\Superpixel-UNET\\\\model_checkpt\\\\best-checkpoint-v6.ckpt' as top 1\n"
     ]
    },
    {
     "name": "stdout",
     "output_type": "stream",
     "text": [
      "Epoch 17: 100%|██████████| 24/24 [00:00<00:00, 45.76it/s, loss=0.284, v_num=6]"
     ]
    },
    {
     "name": "stderr",
     "output_type": "stream",
     "text": [
      "Epoch 17, global step 360: 'val_loss' reached 0.28344 (best 0.28344), saving model to 'D:\\\\Projects\\\\ComputerVision_CloudSegmentation\\\\Superpixel-UNET\\\\model_checkpt\\\\best-checkpoint-v6.ckpt' as top 1\n"
     ]
    },
    {
     "name": "stdout",
     "output_type": "stream",
     "text": [
      "Epoch 18: 100%|██████████| 24/24 [00:00<00:00, 49.16it/s, loss=0.283, v_num=6]"
     ]
    },
    {
     "name": "stderr",
     "output_type": "stream",
     "text": [
      "Epoch 18, global step 380: 'val_loss' reached 0.27686 (best 0.27686), saving model to 'D:\\\\Projects\\\\ComputerVision_CloudSegmentation\\\\Superpixel-UNET\\\\model_checkpt\\\\best-checkpoint-v6.ckpt' as top 1\n"
     ]
    },
    {
     "name": "stdout",
     "output_type": "stream",
     "text": [
      "Epoch 19: 100%|██████████| 24/24 [00:00<00:00, 45.57it/s, loss=0.287, v_num=6]"
     ]
    },
    {
     "name": "stderr",
     "output_type": "stream",
     "text": [
      "Epoch 19, global step 400: 'val_loss' was not in top 1\n"
     ]
    },
    {
     "name": "stdout",
     "output_type": "stream",
     "text": [
      "Epoch 20: 100%|██████████| 24/24 [00:00<00:00, 43.39it/s, loss=0.28, v_num=6] "
     ]
    },
    {
     "name": "stderr",
     "output_type": "stream",
     "text": [
      "Epoch 20, global step 420: 'val_loss' was not in top 1\n"
     ]
    },
    {
     "name": "stdout",
     "output_type": "stream",
     "text": [
      "Epoch 21: 100%|██████████| 24/24 [00:00<00:00, 49.38it/s, loss=0.267, v_num=6]"
     ]
    },
    {
     "name": "stderr",
     "output_type": "stream",
     "text": [
      "Epoch 21, global step 440: 'val_loss' was not in top 1\n"
     ]
    },
    {
     "name": "stdout",
     "output_type": "stream",
     "text": [
      "Epoch 22: 100%|██████████| 24/24 [00:00<00:00, 49.19it/s, loss=0.267, v_num=6]"
     ]
    },
    {
     "name": "stderr",
     "output_type": "stream",
     "text": [
      "Epoch 22, global step 460: 'val_loss' reached 0.27028 (best 0.27028), saving model to 'D:\\\\Projects\\\\ComputerVision_CloudSegmentation\\\\Superpixel-UNET\\\\model_checkpt\\\\best-checkpoint-v6.ckpt' as top 1\n"
     ]
    },
    {
     "name": "stdout",
     "output_type": "stream",
     "text": [
      "Epoch 23: 100%|██████████| 24/24 [00:00<00:00, 48.49it/s, loss=0.261, v_num=6]"
     ]
    },
    {
     "name": "stderr",
     "output_type": "stream",
     "text": [
      "Epoch 23, global step 480: 'val_loss' reached 0.27010 (best 0.27010), saving model to 'D:\\\\Projects\\\\ComputerVision_CloudSegmentation\\\\Superpixel-UNET\\\\model_checkpt\\\\best-checkpoint-v6.ckpt' as top 1\n"
     ]
    },
    {
     "name": "stdout",
     "output_type": "stream",
     "text": [
      "Epoch 24: 100%|██████████| 24/24 [00:00<00:00, 46.60it/s, loss=0.258, v_num=6]"
     ]
    },
    {
     "name": "stderr",
     "output_type": "stream",
     "text": [
      "Epoch 24, global step 500: 'val_loss' reached 0.26638 (best 0.26638), saving model to 'D:\\\\Projects\\\\ComputerVision_CloudSegmentation\\\\Superpixel-UNET\\\\model_checkpt\\\\best-checkpoint-v6.ckpt' as top 1\n"
     ]
    },
    {
     "name": "stdout",
     "output_type": "stream",
     "text": [
      "Epoch 25: 100%|██████████| 24/24 [00:00<00:00, 46.33it/s, loss=0.26, v_num=6] "
     ]
    },
    {
     "name": "stderr",
     "output_type": "stream",
     "text": [
      "Epoch 25, global step 520: 'val_loss' was not in top 1\n"
     ]
    },
    {
     "name": "stdout",
     "output_type": "stream",
     "text": [
      "Epoch 26: 100%|██████████| 24/24 [00:00<00:00, 47.73it/s, loss=0.277, v_num=6]"
     ]
    },
    {
     "name": "stderr",
     "output_type": "stream",
     "text": [
      "Epoch 26, global step 540: 'val_loss' was not in top 1\n"
     ]
    },
    {
     "name": "stdout",
     "output_type": "stream",
     "text": [
      "Epoch 27: 100%|██████████| 24/24 [00:00<00:00, 44.94it/s, loss=0.267, v_num=6]"
     ]
    },
    {
     "name": "stderr",
     "output_type": "stream",
     "text": [
      "Epoch 27, global step 560: 'val_loss' was not in top 1\n"
     ]
    },
    {
     "name": "stdout",
     "output_type": "stream",
     "text": [
      "Epoch 28: 100%|██████████| 24/24 [00:00<00:00, 46.41it/s, loss=0.265, v_num=6]"
     ]
    },
    {
     "name": "stderr",
     "output_type": "stream",
     "text": [
      "Epoch 28, global step 580: 'val_loss' was not in top 1\n"
     ]
    },
    {
     "name": "stdout",
     "output_type": "stream",
     "text": [
      "Epoch 29: 100%|██████████| 24/24 [00:00<00:00, 44.78it/s, loss=0.262, v_num=6]"
     ]
    },
    {
     "name": "stderr",
     "output_type": "stream",
     "text": [
      "Epoch 29, global step 600: 'val_loss' reached 0.26573 (best 0.26573), saving model to 'D:\\\\Projects\\\\ComputerVision_CloudSegmentation\\\\Superpixel-UNET\\\\model_checkpt\\\\best-checkpoint-v6.ckpt' as top 1\n"
     ]
    },
    {
     "name": "stdout",
     "output_type": "stream",
     "text": [
      "Epoch 30: 100%|██████████| 24/24 [00:00<00:00, 46.42it/s, loss=0.255, v_num=6]"
     ]
    },
    {
     "name": "stderr",
     "output_type": "stream",
     "text": [
      "Epoch 30, global step 620: 'val_loss' was not in top 1\n"
     ]
    },
    {
     "name": "stdout",
     "output_type": "stream",
     "text": [
      "Epoch 31: 100%|██████████| 24/24 [00:00<00:00, 49.26it/s, loss=0.257, v_num=6]"
     ]
    },
    {
     "name": "stderr",
     "output_type": "stream",
     "text": [
      "Epoch 31, global step 640: 'val_loss' was not in top 1\n"
     ]
    },
    {
     "name": "stdout",
     "output_type": "stream",
     "text": [
      "Epoch 32: 100%|██████████| 24/24 [00:00<00:00, 46.51it/s, loss=0.251, v_num=6]"
     ]
    },
    {
     "name": "stderr",
     "output_type": "stream",
     "text": [
      "Epoch 32, global step 660: 'val_loss' was not in top 1\n"
     ]
    },
    {
     "name": "stdout",
     "output_type": "stream",
     "text": [
      "Epoch 33: 100%|██████████| 24/24 [00:00<00:00, 46.78it/s, loss=0.248, v_num=6]"
     ]
    },
    {
     "name": "stderr",
     "output_type": "stream",
     "text": [
      "Epoch 33, global step 680: 'val_loss' reached 0.26098 (best 0.26098), saving model to 'D:\\\\Projects\\\\ComputerVision_CloudSegmentation\\\\Superpixel-UNET\\\\model_checkpt\\\\best-checkpoint-v6.ckpt' as top 1\n"
     ]
    },
    {
     "name": "stdout",
     "output_type": "stream",
     "text": [
      "Epoch 34: 100%|██████████| 24/24 [00:00<00:00, 47.24it/s, loss=0.251, v_num=6]"
     ]
    },
    {
     "name": "stderr",
     "output_type": "stream",
     "text": [
      "Epoch 34, global step 700: 'val_loss' was not in top 1\n"
     ]
    },
    {
     "name": "stdout",
     "output_type": "stream",
     "text": [
      "Epoch 35: 100%|██████████| 24/24 [00:00<00:00, 47.53it/s, loss=0.247, v_num=6]"
     ]
    },
    {
     "name": "stderr",
     "output_type": "stream",
     "text": [
      "Epoch 35, global step 720: 'val_loss' reached 0.25752 (best 0.25752), saving model to 'D:\\\\Projects\\\\ComputerVision_CloudSegmentation\\\\Superpixel-UNET\\\\model_checkpt\\\\best-checkpoint-v6.ckpt' as top 1\n"
     ]
    },
    {
     "name": "stdout",
     "output_type": "stream",
     "text": [
      "Epoch 36: 100%|██████████| 24/24 [00:00<00:00, 49.08it/s, loss=0.252, v_num=6]"
     ]
    },
    {
     "name": "stderr",
     "output_type": "stream",
     "text": [
      "Epoch 36, global step 740: 'val_loss' was not in top 1\n"
     ]
    },
    {
     "name": "stdout",
     "output_type": "stream",
     "text": [
      "Epoch 37: 100%|██████████| 24/24 [00:00<00:00, 49.59it/s, loss=0.252, v_num=6]"
     ]
    },
    {
     "name": "stderr",
     "output_type": "stream",
     "text": [
      "Epoch 37, global step 760: 'val_loss' was not in top 1\n"
     ]
    },
    {
     "name": "stdout",
     "output_type": "stream",
     "text": [
      "Epoch 38: 100%|██████████| 24/24 [00:00<00:00, 53.39it/s, loss=0.251, v_num=6]"
     ]
    },
    {
     "name": "stderr",
     "output_type": "stream",
     "text": [
      "Epoch 38, global step 780: 'val_loss' was not in top 1\n"
     ]
    },
    {
     "name": "stdout",
     "output_type": "stream",
     "text": [
      "Epoch 39: 100%|██████████| 24/24 [00:00<00:00, 47.22it/s, loss=0.251, v_num=6]"
     ]
    },
    {
     "name": "stderr",
     "output_type": "stream",
     "text": [
      "Epoch 39, global step 800: 'val_loss' was not in top 1\n"
     ]
    },
    {
     "name": "stdout",
     "output_type": "stream",
     "text": [
      "Epoch 40: 100%|██████████| 24/24 [00:00<00:00, 45.63it/s, loss=0.253, v_num=6]"
     ]
    },
    {
     "name": "stderr",
     "output_type": "stream",
     "text": [
      "Epoch 40, global step 820: 'val_loss' was not in top 1\n"
     ]
    },
    {
     "name": "stdout",
     "output_type": "stream",
     "text": [
      "Epoch 41: 100%|██████████| 24/24 [00:00<00:00, 49.92it/s, loss=0.257, v_num=6]"
     ]
    },
    {
     "name": "stderr",
     "output_type": "stream",
     "text": [
      "Epoch 41, global step 840: 'val_loss' reached 0.25592 (best 0.25592), saving model to 'D:\\\\Projects\\\\ComputerVision_CloudSegmentation\\\\Superpixel-UNET\\\\model_checkpt\\\\best-checkpoint-v6.ckpt' as top 1\n"
     ]
    },
    {
     "name": "stdout",
     "output_type": "stream",
     "text": [
      "Epoch 42: 100%|██████████| 24/24 [00:00<00:00, 51.44it/s, loss=0.247, v_num=6]"
     ]
    },
    {
     "name": "stderr",
     "output_type": "stream",
     "text": [
      "Epoch 42, global step 860: 'val_loss' reached 0.25185 (best 0.25185), saving model to 'D:\\\\Projects\\\\ComputerVision_CloudSegmentation\\\\Superpixel-UNET\\\\model_checkpt\\\\best-checkpoint-v6.ckpt' as top 1\n"
     ]
    },
    {
     "name": "stdout",
     "output_type": "stream",
     "text": [
      "Epoch 43: 100%|██████████| 24/24 [00:00<00:00, 46.87it/s, loss=0.241, v_num=6]"
     ]
    },
    {
     "name": "stderr",
     "output_type": "stream",
     "text": [
      "Epoch 43, global step 880: 'val_loss' was not in top 1\n"
     ]
    },
    {
     "name": "stdout",
     "output_type": "stream",
     "text": [
      "Epoch 44: 100%|██████████| 24/24 [00:00<00:00, 52.98it/s, loss=0.243, v_num=6]"
     ]
    },
    {
     "name": "stderr",
     "output_type": "stream",
     "text": [
      "Epoch 44, global step 900: 'val_loss' was not in top 1\n"
     ]
    },
    {
     "name": "stdout",
     "output_type": "stream",
     "text": [
      "Epoch 45: 100%|██████████| 24/24 [00:00<00:00, 48.29it/s, loss=0.243, v_num=6]"
     ]
    },
    {
     "name": "stderr",
     "output_type": "stream",
     "text": [
      "Epoch 45, global step 920: 'val_loss' was not in top 1\n"
     ]
    },
    {
     "name": "stdout",
     "output_type": "stream",
     "text": [
      "Epoch 46: 100%|██████████| 24/24 [00:00<00:00, 48.39it/s, loss=0.241, v_num=6]"
     ]
    },
    {
     "name": "stderr",
     "output_type": "stream",
     "text": [
      "Epoch 46, global step 940: 'val_loss' was not in top 1\n"
     ]
    },
    {
     "name": "stdout",
     "output_type": "stream",
     "text": [
      "Epoch 47: 100%|██████████| 24/24 [00:00<00:00, 43.49it/s, loss=0.238, v_num=6]"
     ]
    },
    {
     "name": "stderr",
     "output_type": "stream",
     "text": [
      "Epoch 47, global step 960: 'val_loss' reached 0.24967 (best 0.24967), saving model to 'D:\\\\Projects\\\\ComputerVision_CloudSegmentation\\\\Superpixel-UNET\\\\model_checkpt\\\\best-checkpoint-v6.ckpt' as top 1\n"
     ]
    },
    {
     "name": "stdout",
     "output_type": "stream",
     "text": [
      "Epoch 48: 100%|██████████| 24/24 [00:00<00:00, 38.86it/s, loss=0.241, v_num=6]"
     ]
    },
    {
     "name": "stderr",
     "output_type": "stream",
     "text": [
      "Epoch 48, global step 980: 'val_loss' was not in top 1\n"
     ]
    },
    {
     "name": "stdout",
     "output_type": "stream",
     "text": [
      "Epoch 49: 100%|██████████| 24/24 [00:00<00:00, 48.06it/s, loss=0.237, v_num=6]"
     ]
    },
    {
     "name": "stderr",
     "output_type": "stream",
     "text": [
      "Epoch 49, global step 1000: 'val_loss' was not in top 1\n"
     ]
    },
    {
     "name": "stdout",
     "output_type": "stream",
     "text": [
      "Epoch 50: 100%|██████████| 24/24 [00:00<00:00, 46.20it/s, loss=0.237, v_num=6]"
     ]
    },
    {
     "name": "stderr",
     "output_type": "stream",
     "text": [
      "Epoch 50, global step 1020: 'val_loss' reached 0.24966 (best 0.24966), saving model to 'D:\\\\Projects\\\\ComputerVision_CloudSegmentation\\\\Superpixel-UNET\\\\model_checkpt\\\\best-checkpoint-v6.ckpt' as top 1\n"
     ]
    },
    {
     "name": "stdout",
     "output_type": "stream",
     "text": [
      "Epoch 51: 100%|██████████| 24/24 [00:00<00:00, 52.17it/s, loss=0.245, v_num=6]"
     ]
    },
    {
     "name": "stderr",
     "output_type": "stream",
     "text": [
      "Epoch 51, global step 1040: 'val_loss' was not in top 1\n"
     ]
    },
    {
     "name": "stdout",
     "output_type": "stream",
     "text": [
      "Epoch 52: 100%|██████████| 24/24 [00:00<00:00, 53.57it/s, loss=0.251, v_num=6]"
     ]
    },
    {
     "name": "stderr",
     "output_type": "stream",
     "text": [
      "Epoch 52, global step 1060: 'val_loss' was not in top 1\n"
     ]
    },
    {
     "name": "stdout",
     "output_type": "stream",
     "text": [
      "Epoch 53: 100%|██████████| 24/24 [00:00<00:00, 48.24it/s, loss=0.237, v_num=6]"
     ]
    },
    {
     "name": "stderr",
     "output_type": "stream",
     "text": [
      "Epoch 53, global step 1080: 'val_loss' reached 0.24809 (best 0.24809), saving model to 'D:\\\\Projects\\\\ComputerVision_CloudSegmentation\\\\Superpixel-UNET\\\\model_checkpt\\\\best-checkpoint-v6.ckpt' as top 1\n"
     ]
    },
    {
     "name": "stdout",
     "output_type": "stream",
     "text": [
      "Epoch 54: 100%|██████████| 24/24 [00:00<00:00, 52.46it/s, loss=0.232, v_num=6]"
     ]
    },
    {
     "name": "stderr",
     "output_type": "stream",
     "text": [
      "Epoch 54, global step 1100: 'val_loss' was not in top 1\n"
     ]
    },
    {
     "name": "stdout",
     "output_type": "stream",
     "text": [
      "Epoch 55: 100%|██████████| 24/24 [00:00<00:00, 52.27it/s, loss=0.229, v_num=6]"
     ]
    },
    {
     "name": "stderr",
     "output_type": "stream",
     "text": [
      "Epoch 55, global step 1120: 'val_loss' reached 0.24519 (best 0.24519), saving model to 'D:\\\\Projects\\\\ComputerVision_CloudSegmentation\\\\Superpixel-UNET\\\\model_checkpt\\\\best-checkpoint-v6.ckpt' as top 1\n"
     ]
    },
    {
     "name": "stdout",
     "output_type": "stream",
     "text": [
      "Epoch 56: 100%|██████████| 24/24 [00:00<00:00, 49.59it/s, loss=0.23, v_num=6] "
     ]
    },
    {
     "name": "stderr",
     "output_type": "stream",
     "text": [
      "Epoch 56, global step 1140: 'val_loss' was not in top 1\n"
     ]
    },
    {
     "name": "stdout",
     "output_type": "stream",
     "text": [
      "Epoch 57: 100%|██████████| 24/24 [00:00<00:00, 53.87it/s, loss=0.231, v_num=6]"
     ]
    },
    {
     "name": "stderr",
     "output_type": "stream",
     "text": [
      "Epoch 57, global step 1160: 'val_loss' was not in top 1\n"
     ]
    },
    {
     "name": "stdout",
     "output_type": "stream",
     "text": [
      "Epoch 58: 100%|██████████| 24/24 [00:00<00:00, 43.27it/s, loss=0.231, v_num=6]"
     ]
    },
    {
     "name": "stderr",
     "output_type": "stream",
     "text": [
      "Epoch 58, global step 1180: 'val_loss' was not in top 1\n"
     ]
    },
    {
     "name": "stdout",
     "output_type": "stream",
     "text": [
      "Epoch 59: 100%|██████████| 24/24 [00:00<00:00, 47.06it/s, loss=0.232, v_num=6]"
     ]
    },
    {
     "name": "stderr",
     "output_type": "stream",
     "text": [
      "Epoch 59, global step 1200: 'val_loss' was not in top 1\n"
     ]
    },
    {
     "name": "stdout",
     "output_type": "stream",
     "text": [
      "Epoch 60: 100%|██████████| 24/24 [00:00<00:00, 52.49it/s, loss=0.234, v_num=6]"
     ]
    },
    {
     "name": "stderr",
     "output_type": "stream",
     "text": [
      "Epoch 60, global step 1220: 'val_loss' was not in top 1\n"
     ]
    },
    {
     "name": "stdout",
     "output_type": "stream",
     "text": [
      "Epoch 61: 100%|██████████| 24/24 [00:00<00:00, 50.27it/s, loss=0.228, v_num=6]"
     ]
    },
    {
     "name": "stderr",
     "output_type": "stream",
     "text": [
      "Epoch 61, global step 1240: 'val_loss' was not in top 1\n"
     ]
    },
    {
     "name": "stdout",
     "output_type": "stream",
     "text": [
      "Epoch 62: 100%|██████████| 24/24 [00:00<00:00, 48.97it/s, loss=0.233, v_num=6]"
     ]
    },
    {
     "name": "stderr",
     "output_type": "stream",
     "text": [
      "Epoch 62, global step 1260: 'val_loss' was not in top 1\n"
     ]
    },
    {
     "name": "stdout",
     "output_type": "stream",
     "text": [
      "Epoch 63: 100%|██████████| 24/24 [00:00<00:00, 51.12it/s, loss=0.233, v_num=6]"
     ]
    },
    {
     "name": "stderr",
     "output_type": "stream",
     "text": [
      "Epoch 63, global step 1280: 'val_loss' was not in top 1\n"
     ]
    },
    {
     "name": "stdout",
     "output_type": "stream",
     "text": [
      "Epoch 64: 100%|██████████| 24/24 [00:00<00:00, 52.63it/s, loss=0.228, v_num=6]"
     ]
    },
    {
     "name": "stderr",
     "output_type": "stream",
     "text": [
      "Epoch 64, global step 1300: 'val_loss' reached 0.24057 (best 0.24057), saving model to 'D:\\\\Projects\\\\ComputerVision_CloudSegmentation\\\\Superpixel-UNET\\\\model_checkpt\\\\best-checkpoint-v6.ckpt' as top 1\n"
     ]
    },
    {
     "name": "stdout",
     "output_type": "stream",
     "text": [
      "Epoch 65: 100%|██████████| 24/24 [00:00<00:00, 53.27it/s, loss=0.223, v_num=6]"
     ]
    },
    {
     "name": "stderr",
     "output_type": "stream",
     "text": [
      "Epoch 65, global step 1320: 'val_loss' was not in top 1\n"
     ]
    },
    {
     "name": "stdout",
     "output_type": "stream",
     "text": [
      "Epoch 66: 100%|██████████| 24/24 [00:00<00:00, 57.28it/s, loss=0.232, v_num=6]"
     ]
    },
    {
     "name": "stderr",
     "output_type": "stream",
     "text": [
      "Epoch 66, global step 1340: 'val_loss' was not in top 1\n"
     ]
    },
    {
     "name": "stdout",
     "output_type": "stream",
     "text": [
      "Epoch 67: 100%|██████████| 24/24 [00:00<00:00, 53.45it/s, loss=0.233, v_num=6]"
     ]
    },
    {
     "name": "stderr",
     "output_type": "stream",
     "text": [
      "Epoch 67, global step 1360: 'val_loss' was not in top 1\n"
     ]
    },
    {
     "name": "stdout",
     "output_type": "stream",
     "text": [
      "Epoch 68: 100%|██████████| 24/24 [00:00<00:00, 50.67it/s, loss=0.228, v_num=6]"
     ]
    },
    {
     "name": "stderr",
     "output_type": "stream",
     "text": [
      "Epoch 68, global step 1380: 'val_loss' was not in top 1\n"
     ]
    },
    {
     "name": "stdout",
     "output_type": "stream",
     "text": [
      "Epoch 69: 100%|██████████| 24/24 [00:00<00:00, 51.33it/s, loss=0.233, v_num=6]"
     ]
    },
    {
     "name": "stderr",
     "output_type": "stream",
     "text": [
      "Epoch 69, global step 1400: 'val_loss' was not in top 1\n"
     ]
    },
    {
     "name": "stdout",
     "output_type": "stream",
     "text": [
      "Epoch 70: 100%|██████████| 24/24 [00:00<00:00, 52.86it/s, loss=0.226, v_num=6]"
     ]
    },
    {
     "name": "stderr",
     "output_type": "stream",
     "text": [
      "Epoch 70, global step 1420: 'val_loss' was not in top 1\n"
     ]
    },
    {
     "name": "stdout",
     "output_type": "stream",
     "text": [
      "Epoch 71: 100%|██████████| 24/24 [00:00<00:00, 53.22it/s, loss=0.231, v_num=6]"
     ]
    },
    {
     "name": "stderr",
     "output_type": "stream",
     "text": [
      "Epoch 71, global step 1440: 'val_loss' was not in top 1\n"
     ]
    },
    {
     "name": "stdout",
     "output_type": "stream",
     "text": [
      "Epoch 72: 100%|██████████| 24/24 [00:00<00:00, 55.04it/s, loss=0.224, v_num=6]"
     ]
    },
    {
     "name": "stderr",
     "output_type": "stream",
     "text": [
      "Epoch 72, global step 1460: 'val_loss' reached 0.23774 (best 0.23774), saving model to 'D:\\\\Projects\\\\ComputerVision_CloudSegmentation\\\\Superpixel-UNET\\\\model_checkpt\\\\best-checkpoint-v6.ckpt' as top 1\n"
     ]
    },
    {
     "name": "stdout",
     "output_type": "stream",
     "text": [
      "Epoch 73: 100%|██████████| 24/24 [00:00<00:00, 48.19it/s, loss=0.225, v_num=6]"
     ]
    },
    {
     "name": "stderr",
     "output_type": "stream",
     "text": [
      "Epoch 73, global step 1480: 'val_loss' was not in top 1\n"
     ]
    },
    {
     "name": "stdout",
     "output_type": "stream",
     "text": [
      "Epoch 74: 100%|██████████| 24/24 [00:00<00:00, 54.05it/s, loss=0.22, v_num=6] "
     ]
    },
    {
     "name": "stderr",
     "output_type": "stream",
     "text": [
      "Epoch 74, global step 1500: 'val_loss' was not in top 1\n"
     ]
    },
    {
     "name": "stdout",
     "output_type": "stream",
     "text": [
      "Epoch 75: 100%|██████████| 24/24 [00:00<00:00, 56.34it/s, loss=0.231, v_num=6]"
     ]
    },
    {
     "name": "stderr",
     "output_type": "stream",
     "text": [
      "Epoch 75, global step 1520: 'val_loss' reached 0.23423 (best 0.23423), saving model to 'D:\\\\Projects\\\\ComputerVision_CloudSegmentation\\\\Superpixel-UNET\\\\model_checkpt\\\\best-checkpoint-v6.ckpt' as top 1\n"
     ]
    },
    {
     "name": "stdout",
     "output_type": "stream",
     "text": [
      "Epoch 76: 100%|██████████| 24/24 [00:00<00:00, 54.67it/s, loss=0.22, v_num=6] "
     ]
    },
    {
     "name": "stderr",
     "output_type": "stream",
     "text": [
      "Epoch 76, global step 1540: 'val_loss' was not in top 1\n"
     ]
    },
    {
     "name": "stdout",
     "output_type": "stream",
     "text": [
      "Epoch 77: 100%|██████████| 24/24 [00:00<00:00, 55.30it/s, loss=0.218, v_num=6]"
     ]
    },
    {
     "name": "stderr",
     "output_type": "stream",
     "text": [
      "Epoch 77, global step 1560: 'val_loss' was not in top 1\n"
     ]
    },
    {
     "name": "stdout",
     "output_type": "stream",
     "text": [
      "Epoch 78: 100%|██████████| 24/24 [00:00<00:00, 55.36it/s, loss=0.221, v_num=6]"
     ]
    },
    {
     "name": "stderr",
     "output_type": "stream",
     "text": [
      "Epoch 78, global step 1580: 'val_loss' was not in top 1\n"
     ]
    },
    {
     "name": "stdout",
     "output_type": "stream",
     "text": [
      "Epoch 79: 100%|██████████| 24/24 [00:00<00:00, 53.86it/s, loss=0.22, v_num=6] "
     ]
    },
    {
     "name": "stderr",
     "output_type": "stream",
     "text": [
      "Epoch 79, global step 1600: 'val_loss' was not in top 1\n"
     ]
    },
    {
     "name": "stdout",
     "output_type": "stream",
     "text": [
      "Epoch 80: 100%|██████████| 24/24 [00:00<00:00, 54.09it/s, loss=0.217, v_num=6]"
     ]
    },
    {
     "name": "stderr",
     "output_type": "stream",
     "text": [
      "Epoch 80, global step 1620: 'val_loss' reached 0.23174 (best 0.23174), saving model to 'D:\\\\Projects\\\\ComputerVision_CloudSegmentation\\\\Superpixel-UNET\\\\model_checkpt\\\\best-checkpoint-v6.ckpt' as top 1\n"
     ]
    },
    {
     "name": "stdout",
     "output_type": "stream",
     "text": [
      "Epoch 81: 100%|██████████| 24/24 [00:00<00:00, 51.17it/s, loss=0.213, v_num=6]"
     ]
    },
    {
     "name": "stderr",
     "output_type": "stream",
     "text": [
      "Epoch 81, global step 1640: 'val_loss' was not in top 1\n"
     ]
    },
    {
     "name": "stdout",
     "output_type": "stream",
     "text": [
      "Epoch 82: 100%|██████████| 24/24 [00:00<00:00, 53.88it/s, loss=0.216, v_num=6]"
     ]
    },
    {
     "name": "stderr",
     "output_type": "stream",
     "text": [
      "Epoch 82, global step 1660: 'val_loss' reached 0.22951 (best 0.22951), saving model to 'D:\\\\Projects\\\\ComputerVision_CloudSegmentation\\\\Superpixel-UNET\\\\model_checkpt\\\\best-checkpoint-v6.ckpt' as top 1\n"
     ]
    },
    {
     "name": "stdout",
     "output_type": "stream",
     "text": [
      "Epoch 83: 100%|██████████| 24/24 [00:00<00:00, 55.94it/s, loss=0.217, v_num=6]"
     ]
    },
    {
     "name": "stderr",
     "output_type": "stream",
     "text": [
      "Epoch 83, global step 1680: 'val_loss' was not in top 1\n"
     ]
    },
    {
     "name": "stdout",
     "output_type": "stream",
     "text": [
      "Epoch 84: 100%|██████████| 24/24 [00:00<00:00, 52.18it/s, loss=0.22, v_num=6] "
     ]
    },
    {
     "name": "stderr",
     "output_type": "stream",
     "text": [
      "Epoch 84, global step 1700: 'val_loss' was not in top 1\n"
     ]
    },
    {
     "name": "stdout",
     "output_type": "stream",
     "text": [
      "Epoch 85: 100%|██████████| 24/24 [00:00<00:00, 55.54it/s, loss=0.224, v_num=6]"
     ]
    },
    {
     "name": "stderr",
     "output_type": "stream",
     "text": [
      "Epoch 85, global step 1720: 'val_loss' was not in top 1\n"
     ]
    },
    {
     "name": "stdout",
     "output_type": "stream",
     "text": [
      "Epoch 86: 100%|██████████| 24/24 [00:00<00:00, 54.79it/s, loss=0.219, v_num=6]"
     ]
    },
    {
     "name": "stderr",
     "output_type": "stream",
     "text": [
      "Epoch 86, global step 1740: 'val_loss' was not in top 1\n"
     ]
    },
    {
     "name": "stdout",
     "output_type": "stream",
     "text": [
      "Epoch 87: 100%|██████████| 24/24 [00:00<00:00, 54.30it/s, loss=0.212, v_num=6]"
     ]
    },
    {
     "name": "stderr",
     "output_type": "stream",
     "text": [
      "Epoch 87, global step 1760: 'val_loss' was not in top 1\n"
     ]
    },
    {
     "name": "stdout",
     "output_type": "stream",
     "text": [
      "Epoch 88: 100%|██████████| 24/24 [00:00<00:00, 54.98it/s, loss=0.214, v_num=6]"
     ]
    },
    {
     "name": "stderr",
     "output_type": "stream",
     "text": [
      "Epoch 88, global step 1780: 'val_loss' was not in top 1\n"
     ]
    },
    {
     "name": "stdout",
     "output_type": "stream",
     "text": [
      "Epoch 89: 100%|██████████| 24/24 [00:00<00:00, 51.28it/s, loss=0.218, v_num=6]"
     ]
    },
    {
     "name": "stderr",
     "output_type": "stream",
     "text": [
      "Epoch 89, global step 1800: 'val_loss' was not in top 1\n"
     ]
    },
    {
     "name": "stdout",
     "output_type": "stream",
     "text": [
      "Epoch 90: 100%|██████████| 24/24 [00:00<00:00, 54.20it/s, loss=0.212, v_num=6]"
     ]
    },
    {
     "name": "stderr",
     "output_type": "stream",
     "text": [
      "Epoch 90, global step 1820: 'val_loss' was not in top 1\n"
     ]
    },
    {
     "name": "stdout",
     "output_type": "stream",
     "text": [
      "Epoch 91: 100%|██████████| 24/24 [00:00<00:00, 52.86it/s, loss=0.207, v_num=6]"
     ]
    },
    {
     "name": "stderr",
     "output_type": "stream",
     "text": [
      "Epoch 91, global step 1840: 'val_loss' reached 0.22663 (best 0.22663), saving model to 'D:\\\\Projects\\\\ComputerVision_CloudSegmentation\\\\Superpixel-UNET\\\\model_checkpt\\\\best-checkpoint-v6.ckpt' as top 1\n"
     ]
    },
    {
     "name": "stdout",
     "output_type": "stream",
     "text": [
      "Epoch 92: 100%|██████████| 24/24 [00:00<00:00, 48.42it/s, loss=0.207, v_num=6]"
     ]
    },
    {
     "name": "stderr",
     "output_type": "stream",
     "text": [
      "Epoch 92, global step 1860: 'val_loss' was not in top 1\n"
     ]
    },
    {
     "name": "stdout",
     "output_type": "stream",
     "text": [
      "Epoch 93: 100%|██████████| 24/24 [00:00<00:00, 54.30it/s, loss=0.211, v_num=6]"
     ]
    },
    {
     "name": "stderr",
     "output_type": "stream",
     "text": [
      "Epoch 93, global step 1880: 'val_loss' was not in top 1\n"
     ]
    },
    {
     "name": "stdout",
     "output_type": "stream",
     "text": [
      "Epoch 94: 100%|██████████| 24/24 [00:00<00:00, 51.61it/s, loss=0.216, v_num=6]"
     ]
    },
    {
     "name": "stderr",
     "output_type": "stream",
     "text": [
      "Epoch 94, global step 1900: 'val_loss' was not in top 1\n"
     ]
    },
    {
     "name": "stdout",
     "output_type": "stream",
     "text": [
      "Epoch 95: 100%|██████████| 24/24 [00:00<00:00, 53.70it/s, loss=0.211, v_num=6]"
     ]
    },
    {
     "name": "stderr",
     "output_type": "stream",
     "text": [
      "Epoch 95, global step 1920: 'val_loss' was not in top 1\n"
     ]
    },
    {
     "name": "stdout",
     "output_type": "stream",
     "text": [
      "Epoch 96: 100%|██████████| 24/24 [00:00<00:00, 56.60it/s, loss=0.212, v_num=6]"
     ]
    },
    {
     "name": "stderr",
     "output_type": "stream",
     "text": [
      "Epoch 96, global step 1940: 'val_loss' was not in top 1\n"
     ]
    },
    {
     "name": "stdout",
     "output_type": "stream",
     "text": [
      "Epoch 97: 100%|██████████| 24/24 [00:00<00:00, 51.20it/s, loss=0.215, v_num=6]"
     ]
    },
    {
     "name": "stderr",
     "output_type": "stream",
     "text": [
      "Epoch 97, global step 1960: 'val_loss' was not in top 1\n"
     ]
    },
    {
     "name": "stdout",
     "output_type": "stream",
     "text": [
      "Epoch 98: 100%|██████████| 24/24 [00:00<00:00, 50.31it/s, loss=0.208, v_num=6]"
     ]
    },
    {
     "name": "stderr",
     "output_type": "stream",
     "text": [
      "Epoch 98, global step 1980: 'val_loss' was not in top 1\n"
     ]
    },
    {
     "name": "stdout",
     "output_type": "stream",
     "text": [
      "Epoch 99: 100%|██████████| 24/24 [00:00<00:00, 44.94it/s, loss=0.204, v_num=6]"
     ]
    },
    {
     "name": "stderr",
     "output_type": "stream",
     "text": [
      "Epoch 99, global step 2000: 'val_loss' was not in top 1\n"
     ]
    },
    {
     "name": "stdout",
     "output_type": "stream",
     "text": [
      "Epoch 100: 100%|██████████| 24/24 [00:00<00:00, 46.24it/s, loss=0.211, v_num=6]"
     ]
    },
    {
     "name": "stderr",
     "output_type": "stream",
     "text": [
      "Epoch 100, global step 2020: 'val_loss' reached 0.22502 (best 0.22502), saving model to 'D:\\\\Projects\\\\ComputerVision_CloudSegmentation\\\\Superpixel-UNET\\\\model_checkpt\\\\best-checkpoint-v6.ckpt' as top 1\n"
     ]
    },
    {
     "name": "stdout",
     "output_type": "stream",
     "text": [
      "Epoch 101: 100%|██████████| 24/24 [00:00<00:00, 46.19it/s, loss=0.205, v_num=6]"
     ]
    },
    {
     "name": "stderr",
     "output_type": "stream",
     "text": [
      "Epoch 101, global step 2040: 'val_loss' reached 0.22137 (best 0.22137), saving model to 'D:\\\\Projects\\\\ComputerVision_CloudSegmentation\\\\Superpixel-UNET\\\\model_checkpt\\\\best-checkpoint-v6.ckpt' as top 1\n"
     ]
    },
    {
     "name": "stdout",
     "output_type": "stream",
     "text": [
      "Epoch 102: 100%|██████████| 24/24 [00:00<00:00, 46.33it/s, loss=0.205, v_num=6]"
     ]
    },
    {
     "name": "stderr",
     "output_type": "stream",
     "text": [
      "Epoch 102, global step 2060: 'val_loss' was not in top 1\n"
     ]
    },
    {
     "name": "stdout",
     "output_type": "stream",
     "text": [
      "Epoch 103: 100%|██████████| 24/24 [00:00<00:00, 45.05it/s, loss=0.205, v_num=6]"
     ]
    },
    {
     "name": "stderr",
     "output_type": "stream",
     "text": [
      "Epoch 103, global step 2080: 'val_loss' was not in top 1\n"
     ]
    },
    {
     "name": "stdout",
     "output_type": "stream",
     "text": [
      "Epoch 104: 100%|██████████| 24/24 [00:00<00:00, 44.86it/s, loss=0.2, v_num=6]  "
     ]
    },
    {
     "name": "stderr",
     "output_type": "stream",
     "text": [
      "Epoch 104, global step 2100: 'val_loss' reached 0.22120 (best 0.22120), saving model to 'D:\\\\Projects\\\\ComputerVision_CloudSegmentation\\\\Superpixel-UNET\\\\model_checkpt\\\\best-checkpoint-v6.ckpt' as top 1\n"
     ]
    },
    {
     "name": "stdout",
     "output_type": "stream",
     "text": [
      "Epoch 105: 100%|██████████| 24/24 [00:00<00:00, 46.87it/s, loss=0.205, v_num=6]"
     ]
    },
    {
     "name": "stderr",
     "output_type": "stream",
     "text": [
      "Epoch 105, global step 2120: 'val_loss' was not in top 1\n"
     ]
    },
    {
     "name": "stdout",
     "output_type": "stream",
     "text": [
      "Epoch 106: 100%|██████████| 24/24 [00:00<00:00, 45.76it/s, loss=0.204, v_num=6]"
     ]
    },
    {
     "name": "stderr",
     "output_type": "stream",
     "text": [
      "Epoch 106, global step 2140: 'val_loss' was not in top 1\n"
     ]
    },
    {
     "name": "stdout",
     "output_type": "stream",
     "text": [
      "Epoch 107: 100%|██████████| 24/24 [00:00<00:00, 47.43it/s, loss=0.2, v_num=6]  "
     ]
    },
    {
     "name": "stderr",
     "output_type": "stream",
     "text": [
      "Epoch 107, global step 2160: 'val_loss' reached 0.22083 (best 0.22083), saving model to 'D:\\\\Projects\\\\ComputerVision_CloudSegmentation\\\\Superpixel-UNET\\\\model_checkpt\\\\best-checkpoint-v6.ckpt' as top 1\n"
     ]
    },
    {
     "name": "stdout",
     "output_type": "stream",
     "text": [
      "Epoch 108: 100%|██████████| 24/24 [00:00<00:00, 44.94it/s, loss=0.197, v_num=6]"
     ]
    },
    {
     "name": "stderr",
     "output_type": "stream",
     "text": [
      "Epoch 108, global step 2180: 'val_loss' reached 0.21729 (best 0.21729), saving model to 'D:\\\\Projects\\\\ComputerVision_CloudSegmentation\\\\Superpixel-UNET\\\\model_checkpt\\\\best-checkpoint-v6.ckpt' as top 1\n"
     ]
    },
    {
     "name": "stdout",
     "output_type": "stream",
     "text": [
      "Epoch 109: 100%|██████████| 24/24 [00:00<00:00, 48.27it/s, loss=0.201, v_num=6]"
     ]
    },
    {
     "name": "stderr",
     "output_type": "stream",
     "text": [
      "Epoch 109, global step 2200: 'val_loss' was not in top 1\n"
     ]
    },
    {
     "name": "stdout",
     "output_type": "stream",
     "text": [
      "Epoch 110: 100%|██████████| 24/24 [00:00<00:00, 48.97it/s, loss=0.206, v_num=6]"
     ]
    },
    {
     "name": "stderr",
     "output_type": "stream",
     "text": [
      "Epoch 110, global step 2220: 'val_loss' was not in top 1\n"
     ]
    },
    {
     "name": "stdout",
     "output_type": "stream",
     "text": [
      "Epoch 111: 100%|██████████| 24/24 [00:00<00:00, 51.89it/s, loss=0.204, v_num=6]"
     ]
    },
    {
     "name": "stderr",
     "output_type": "stream",
     "text": [
      "Epoch 111, global step 2240: 'val_loss' was not in top 1\n"
     ]
    },
    {
     "name": "stdout",
     "output_type": "stream",
     "text": [
      "Epoch 112: 100%|██████████| 24/24 [00:00<00:00, 50.42it/s, loss=0.198, v_num=6]"
     ]
    },
    {
     "name": "stderr",
     "output_type": "stream",
     "text": [
      "Epoch 112, global step 2260: 'val_loss' was not in top 1\n"
     ]
    },
    {
     "name": "stdout",
     "output_type": "stream",
     "text": [
      "Epoch 113: 100%|██████████| 24/24 [00:00<00:00, 43.72it/s, loss=0.207, v_num=6]"
     ]
    },
    {
     "name": "stderr",
     "output_type": "stream",
     "text": [
      "Epoch 113, global step 2280: 'val_loss' was not in top 1\n"
     ]
    },
    {
     "name": "stdout",
     "output_type": "stream",
     "text": [
      "Epoch 114: 100%|██████████| 24/24 [00:00<00:00, 51.06it/s, loss=0.209, v_num=6]"
     ]
    },
    {
     "name": "stderr",
     "output_type": "stream",
     "text": [
      "Epoch 114, global step 2300: 'val_loss' was not in top 1\n"
     ]
    },
    {
     "name": "stdout",
     "output_type": "stream",
     "text": [
      "Epoch 115: 100%|██████████| 24/24 [00:00<00:00, 49.38it/s, loss=0.204, v_num=6]"
     ]
    },
    {
     "name": "stderr",
     "output_type": "stream",
     "text": [
      "Epoch 115, global step 2320: 'val_loss' was not in top 1\n"
     ]
    },
    {
     "name": "stdout",
     "output_type": "stream",
     "text": [
      "Epoch 116: 100%|██████████| 24/24 [00:00<00:00, 49.28it/s, loss=0.2, v_num=6]  "
     ]
    },
    {
     "name": "stderr",
     "output_type": "stream",
     "text": [
      "Epoch 116, global step 2340: 'val_loss' was not in top 1\n"
     ]
    },
    {
     "name": "stdout",
     "output_type": "stream",
     "text": [
      "Epoch 117: 100%|██████████| 24/24 [00:00<00:00, 51.50it/s, loss=0.197, v_num=6]"
     ]
    },
    {
     "name": "stderr",
     "output_type": "stream",
     "text": [
      "Epoch 117, global step 2360: 'val_loss' was not in top 1\n"
     ]
    },
    {
     "name": "stdout",
     "output_type": "stream",
     "text": [
      "Epoch 118: 100%|██████████| 24/24 [00:00<00:00, 47.15it/s, loss=0.197, v_num=6]"
     ]
    },
    {
     "name": "stderr",
     "output_type": "stream",
     "text": [
      "Epoch 118, global step 2380: 'val_loss' was not in top 1\n"
     ]
    },
    {
     "name": "stdout",
     "output_type": "stream",
     "text": [
      "Epoch 119: 100%|██████████| 24/24 [00:00<00:00, 47.34it/s, loss=0.196, v_num=6]"
     ]
    },
    {
     "name": "stderr",
     "output_type": "stream",
     "text": [
      "Epoch 119, global step 2400: 'val_loss' was not in top 1\n"
     ]
    },
    {
     "name": "stdout",
     "output_type": "stream",
     "text": [
      "Epoch 120: 100%|██████████| 24/24 [00:00<00:00, 46.92it/s, loss=0.192, v_num=6]"
     ]
    },
    {
     "name": "stderr",
     "output_type": "stream",
     "text": [
      "Epoch 120, global step 2420: 'val_loss' was not in top 1\n"
     ]
    },
    {
     "name": "stdout",
     "output_type": "stream",
     "text": [
      "Epoch 121: 100%|██████████| 24/24 [00:00<00:00, 49.43it/s, loss=0.192, v_num=6]"
     ]
    },
    {
     "name": "stderr",
     "output_type": "stream",
     "text": [
      "Epoch 121, global step 2440: 'val_loss' was not in top 1\n"
     ]
    },
    {
     "name": "stdout",
     "output_type": "stream",
     "text": [
      "Epoch 122: 100%|██████████| 24/24 [00:00<00:00, 49.79it/s, loss=0.195, v_num=6]"
     ]
    },
    {
     "name": "stderr",
     "output_type": "stream",
     "text": [
      "Epoch 122, global step 2460: 'val_loss' reached 0.21527 (best 0.21527), saving model to 'D:\\\\Projects\\\\ComputerVision_CloudSegmentation\\\\Superpixel-UNET\\\\model_checkpt\\\\best-checkpoint-v6.ckpt' as top 1\n"
     ]
    },
    {
     "name": "stdout",
     "output_type": "stream",
     "text": [
      "Epoch 123: 100%|██████████| 24/24 [00:00<00:00, 46.33it/s, loss=0.191, v_num=6]"
     ]
    },
    {
     "name": "stderr",
     "output_type": "stream",
     "text": [
      "Epoch 123, global step 2480: 'val_loss' was not in top 1\n"
     ]
    },
    {
     "name": "stdout",
     "output_type": "stream",
     "text": [
      "Epoch 124: 100%|██████████| 24/24 [00:00<00:00, 48.48it/s, loss=0.194, v_num=6]"
     ]
    },
    {
     "name": "stderr",
     "output_type": "stream",
     "text": [
      "Epoch 124, global step 2500: 'val_loss' was not in top 1\n"
     ]
    },
    {
     "name": "stdout",
     "output_type": "stream",
     "text": [
      "Epoch 125: 100%|██████████| 24/24 [00:00<00:00, 44.28it/s, loss=0.202, v_num=6]"
     ]
    },
    {
     "name": "stderr",
     "output_type": "stream",
     "text": [
      "Epoch 125, global step 2520: 'val_loss' was not in top 1\n"
     ]
    },
    {
     "name": "stdout",
     "output_type": "stream",
     "text": [
      "Epoch 126: 100%|██████████| 24/24 [00:00<00:00, 48.58it/s, loss=0.19, v_num=6] "
     ]
    },
    {
     "name": "stderr",
     "output_type": "stream",
     "text": [
      "Epoch 126, global step 2540: 'val_loss' was not in top 1\n"
     ]
    },
    {
     "name": "stdout",
     "output_type": "stream",
     "text": [
      "Epoch 127: 100%|██████████| 24/24 [00:00<00:00, 49.74it/s, loss=0.189, v_num=6]"
     ]
    },
    {
     "name": "stderr",
     "output_type": "stream",
     "text": [
      "Epoch 127, global step 2560: 'val_loss' was not in top 1\n"
     ]
    },
    {
     "name": "stdout",
     "output_type": "stream",
     "text": [
      "Epoch 128: 100%|██████████| 24/24 [00:00<00:00, 45.93it/s, loss=0.192, v_num=6]"
     ]
    },
    {
     "name": "stderr",
     "output_type": "stream",
     "text": [
      "Epoch 128, global step 2580: 'val_loss' was not in top 1\n"
     ]
    },
    {
     "name": "stdout",
     "output_type": "stream",
     "text": [
      "Epoch 129: 100%|██████████| 24/24 [00:00<00:00, 46.16it/s, loss=0.192, v_num=6]"
     ]
    },
    {
     "name": "stderr",
     "output_type": "stream",
     "text": [
      "Epoch 129, global step 2600: 'val_loss' was not in top 1\n"
     ]
    },
    {
     "name": "stdout",
     "output_type": "stream",
     "text": [
      "Epoch 130: 100%|██████████| 24/24 [00:00<00:00, 49.43it/s, loss=0.186, v_num=6]"
     ]
    },
    {
     "name": "stderr",
     "output_type": "stream",
     "text": [
      "Epoch 130, global step 2620: 'val_loss' was not in top 1\n"
     ]
    },
    {
     "name": "stdout",
     "output_type": "stream",
     "text": [
      "Epoch 131: 100%|██████████| 24/24 [00:00<00:00, 52.92it/s, loss=0.193, v_num=6]"
     ]
    },
    {
     "name": "stderr",
     "output_type": "stream",
     "text": [
      "Epoch 131, global step 2640: 'val_loss' was not in top 1\n"
     ]
    },
    {
     "name": "stdout",
     "output_type": "stream",
     "text": [
      "Epoch 132: 100%|██████████| 24/24 [00:00<00:00, 48.58it/s, loss=0.191, v_num=6]"
     ]
    },
    {
     "name": "stderr",
     "output_type": "stream",
     "text": [
      "Epoch 132, global step 2660: 'val_loss' was not in top 1\n"
     ]
    },
    {
     "name": "stdout",
     "output_type": "stream",
     "text": [
      "Epoch 133: 100%|██████████| 24/24 [00:00<00:00, 47.62it/s, loss=0.186, v_num=6]"
     ]
    },
    {
     "name": "stderr",
     "output_type": "stream",
     "text": [
      "Epoch 133, global step 2680: 'val_loss' was not in top 1\n"
     ]
    },
    {
     "name": "stdout",
     "output_type": "stream",
     "text": [
      "Epoch 134: 100%|██████████| 24/24 [00:00<00:00, 52.01it/s, loss=0.19, v_num=6] "
     ]
    },
    {
     "name": "stderr",
     "output_type": "stream",
     "text": [
      "Epoch 134, global step 2700: 'val_loss' was not in top 1\n"
     ]
    },
    {
     "name": "stdout",
     "output_type": "stream",
     "text": [
      "Epoch 135: 100%|██████████| 24/24 [00:00<00:00, 48.58it/s, loss=0.186, v_num=6]"
     ]
    },
    {
     "name": "stderr",
     "output_type": "stream",
     "text": [
      "Epoch 135, global step 2720: 'val_loss' was not in top 1\n"
     ]
    },
    {
     "name": "stdout",
     "output_type": "stream",
     "text": [
      "Epoch 136: 100%|██████████| 24/24 [00:00<00:00, 46.88it/s, loss=0.194, v_num=6]"
     ]
    },
    {
     "name": "stderr",
     "output_type": "stream",
     "text": [
      "Epoch 136, global step 2740: 'val_loss' was not in top 1\n"
     ]
    },
    {
     "name": "stdout",
     "output_type": "stream",
     "text": [
      "Epoch 137: 100%|██████████| 24/24 [00:00<00:00, 48.39it/s, loss=0.19, v_num=6] "
     ]
    },
    {
     "name": "stderr",
     "output_type": "stream",
     "text": [
      "Epoch 137, global step 2760: 'val_loss' reached 0.21073 (best 0.21073), saving model to 'D:\\\\Projects\\\\ComputerVision_CloudSegmentation\\\\Superpixel-UNET\\\\model_checkpt\\\\best-checkpoint-v6.ckpt' as top 1\n"
     ]
    },
    {
     "name": "stdout",
     "output_type": "stream",
     "text": [
      "Epoch 138: 100%|██████████| 24/24 [00:00<00:00, 50.53it/s, loss=0.186, v_num=6]"
     ]
    },
    {
     "name": "stderr",
     "output_type": "stream",
     "text": [
      "Epoch 138, global step 2780: 'val_loss' was not in top 1\n"
     ]
    },
    {
     "name": "stdout",
     "output_type": "stream",
     "text": [
      "Epoch 139: 100%|██████████| 24/24 [00:00<00:00, 50.76it/s, loss=0.187, v_num=6]"
     ]
    },
    {
     "name": "stderr",
     "output_type": "stream",
     "text": [
      "Epoch 139, global step 2800: 'val_loss' was not in top 1\n"
     ]
    },
    {
     "name": "stdout",
     "output_type": "stream",
     "text": [
      "Epoch 140: 100%|██████████| 24/24 [00:00<00:00, 44.14it/s, loss=0.189, v_num=6]"
     ]
    },
    {
     "name": "stderr",
     "output_type": "stream",
     "text": [
      "Epoch 140, global step 2820: 'val_loss' was not in top 1\n"
     ]
    },
    {
     "name": "stdout",
     "output_type": "stream",
     "text": [
      "Epoch 141: 100%|██████████| 24/24 [00:00<00:00, 49.23it/s, loss=0.188, v_num=6]"
     ]
    },
    {
     "name": "stderr",
     "output_type": "stream",
     "text": [
      "Epoch 141, global step 2840: 'val_loss' was not in top 1\n"
     ]
    },
    {
     "name": "stdout",
     "output_type": "stream",
     "text": [
      "Epoch 142: 100%|██████████| 24/24 [00:00<00:00, 44.94it/s, loss=0.18, v_num=6] "
     ]
    },
    {
     "name": "stderr",
     "output_type": "stream",
     "text": [
      "Epoch 142, global step 2860: 'val_loss' reached 0.20959 (best 0.20959), saving model to 'D:\\\\Projects\\\\ComputerVision_CloudSegmentation\\\\Superpixel-UNET\\\\model_checkpt\\\\best-checkpoint-v6.ckpt' as top 1\n"
     ]
    },
    {
     "name": "stdout",
     "output_type": "stream",
     "text": [
      "Epoch 143: 100%|██████████| 24/24 [00:00<00:00, 49.84it/s, loss=0.181, v_num=6]"
     ]
    },
    {
     "name": "stderr",
     "output_type": "stream",
     "text": [
      "Epoch 143, global step 2880: 'val_loss' was not in top 1\n"
     ]
    },
    {
     "name": "stdout",
     "output_type": "stream",
     "text": [
      "Epoch 144: 100%|██████████| 24/24 [00:00<00:00, 50.95it/s, loss=0.184, v_num=6]"
     ]
    },
    {
     "name": "stderr",
     "output_type": "stream",
     "text": [
      "Epoch 144, global step 2900: 'val_loss' was not in top 1\n"
     ]
    },
    {
     "name": "stdout",
     "output_type": "stream",
     "text": [
      "Epoch 145: 100%|██████████| 24/24 [00:00<00:00, 50.53it/s, loss=0.181, v_num=6]"
     ]
    },
    {
     "name": "stderr",
     "output_type": "stream",
     "text": [
      "Epoch 145, global step 2920: 'val_loss' was not in top 1\n"
     ]
    },
    {
     "name": "stdout",
     "output_type": "stream",
     "text": [
      "Epoch 146: 100%|██████████| 24/24 [00:00<00:00, 50.63it/s, loss=0.178, v_num=6]"
     ]
    },
    {
     "name": "stderr",
     "output_type": "stream",
     "text": [
      "Epoch 146, global step 2940: 'val_loss' reached 0.20815 (best 0.20815), saving model to 'D:\\\\Projects\\\\ComputerVision_CloudSegmentation\\\\Superpixel-UNET\\\\model_checkpt\\\\best-checkpoint-v6.ckpt' as top 1\n"
     ]
    },
    {
     "name": "stdout",
     "output_type": "stream",
     "text": [
      "Epoch 147: 100%|██████████| 24/24 [00:00<00:00, 45.15it/s, loss=0.175, v_num=6]"
     ]
    },
    {
     "name": "stderr",
     "output_type": "stream",
     "text": [
      "Epoch 147, global step 2960: 'val_loss' was not in top 1\n"
     ]
    },
    {
     "name": "stdout",
     "output_type": "stream",
     "text": [
      "Epoch 148: 100%|██████████| 24/24 [00:00<00:00, 48.78it/s, loss=0.177, v_num=6]"
     ]
    },
    {
     "name": "stderr",
     "output_type": "stream",
     "text": [
      "Epoch 148, global step 2980: 'val_loss' was not in top 1\n"
     ]
    },
    {
     "name": "stdout",
     "output_type": "stream",
     "text": [
      "Epoch 149: 100%|██████████| 24/24 [00:00<00:00, 51.88it/s, loss=0.177, v_num=6]"
     ]
    },
    {
     "name": "stderr",
     "output_type": "stream",
     "text": [
      "Epoch 149, global step 3000: 'val_loss' was not in top 1\n"
     ]
    },
    {
     "name": "stdout",
     "output_type": "stream",
     "text": [
      "Epoch 150: 100%|██████████| 24/24 [00:00<00:00, 44.20it/s, loss=0.186, v_num=6]"
     ]
    },
    {
     "name": "stderr",
     "output_type": "stream",
     "text": [
      "Epoch 150, global step 3020: 'val_loss' was not in top 1\n"
     ]
    },
    {
     "name": "stdout",
     "output_type": "stream",
     "text": [
      "Epoch 151: 100%|██████████| 24/24 [00:00<00:00, 44.94it/s, loss=0.18, v_num=6] "
     ]
    },
    {
     "name": "stderr",
     "output_type": "stream",
     "text": [
      "Epoch 151, global step 3040: 'val_loss' was not in top 1\n"
     ]
    },
    {
     "name": "stdout",
     "output_type": "stream",
     "text": [
      "Epoch 152: 100%|██████████| 24/24 [00:00<00:00, 48.68it/s, loss=0.182, v_num=6]"
     ]
    },
    {
     "name": "stderr",
     "output_type": "stream",
     "text": [
      "Epoch 152, global step 3060: 'val_loss' was not in top 1\n"
     ]
    },
    {
     "name": "stdout",
     "output_type": "stream",
     "text": [
      "Epoch 153: 100%|██████████| 24/24 [00:00<00:00, 50.00it/s, loss=0.177, v_num=6]"
     ]
    },
    {
     "name": "stderr",
     "output_type": "stream",
     "text": [
      "Epoch 153, global step 3080: 'val_loss' was not in top 1\n"
     ]
    },
    {
     "name": "stdout",
     "output_type": "stream",
     "text": [
      "Epoch 154: 100%|██████████| 24/24 [00:00<00:00, 48.78it/s, loss=0.176, v_num=6]"
     ]
    },
    {
     "name": "stderr",
     "output_type": "stream",
     "text": [
      "Epoch 154, global step 3100: 'val_loss' was not in top 1\n"
     ]
    },
    {
     "name": "stdout",
     "output_type": "stream",
     "text": [
      "Epoch 155: 100%|██████████| 24/24 [00:00<00:00, 49.58it/s, loss=0.184, v_num=6]"
     ]
    },
    {
     "name": "stderr",
     "output_type": "stream",
     "text": [
      "Epoch 155, global step 3120: 'val_loss' was not in top 1\n"
     ]
    },
    {
     "name": "stdout",
     "output_type": "stream",
     "text": [
      "Epoch 156: 100%|██████████| 24/24 [00:00<00:00, 45.32it/s, loss=0.179, v_num=6]"
     ]
    },
    {
     "name": "stderr",
     "output_type": "stream",
     "text": [
      "Epoch 156, global step 3140: 'val_loss' was not in top 1\n"
     ]
    },
    {
     "name": "stdout",
     "output_type": "stream",
     "text": [
      "Epoch 157: 100%|██████████| 24/24 [00:00<00:00, 45.63it/s, loss=0.18, v_num=6] "
     ]
    },
    {
     "name": "stderr",
     "output_type": "stream",
     "text": [
      "Epoch 157, global step 3160: 'val_loss' was not in top 1\n"
     ]
    },
    {
     "name": "stdout",
     "output_type": "stream",
     "text": [
      "Epoch 158: 100%|██████████| 24/24 [00:00<00:00, 45.41it/s, loss=0.176, v_num=6]"
     ]
    },
    {
     "name": "stderr",
     "output_type": "stream",
     "text": [
      "Epoch 158, global step 3180: 'val_loss' was not in top 1\n"
     ]
    },
    {
     "name": "stdout",
     "output_type": "stream",
     "text": [
      "Epoch 159: 100%|██████████| 24/24 [00:00<00:00, 48.70it/s, loss=0.173, v_num=6]"
     ]
    },
    {
     "name": "stderr",
     "output_type": "stream",
     "text": [
      "Epoch 159, global step 3200: 'val_loss' reached 0.20527 (best 0.20527), saving model to 'D:\\\\Projects\\\\ComputerVision_CloudSegmentation\\\\Superpixel-UNET\\\\model_checkpt\\\\best-checkpoint-v6.ckpt' as top 1\n"
     ]
    },
    {
     "name": "stdout",
     "output_type": "stream",
     "text": [
      "Epoch 160: 100%|██████████| 24/24 [00:00<00:00, 46.24it/s, loss=0.17, v_num=6] "
     ]
    },
    {
     "name": "stderr",
     "output_type": "stream",
     "text": [
      "Epoch 160, global step 3220: 'val_loss' was not in top 1\n"
     ]
    },
    {
     "name": "stdout",
     "output_type": "stream",
     "text": [
      "Epoch 161: 100%|██████████| 24/24 [00:00<00:00, 46.71it/s, loss=0.172, v_num=6]"
     ]
    },
    {
     "name": "stderr",
     "output_type": "stream",
     "text": [
      "Epoch 161, global step 3240: 'val_loss' was not in top 1\n"
     ]
    },
    {
     "name": "stdout",
     "output_type": "stream",
     "text": [
      "Epoch 162: 100%|██████████| 24/24 [00:00<00:00, 45.28it/s, loss=0.173, v_num=6]"
     ]
    },
    {
     "name": "stderr",
     "output_type": "stream",
     "text": [
      "Epoch 162, global step 3260: 'val_loss' was not in top 1\n"
     ]
    },
    {
     "name": "stdout",
     "output_type": "stream",
     "text": [
      "Epoch 163: 100%|██████████| 24/24 [00:00<00:00, 50.21it/s, loss=0.17, v_num=6] "
     ]
    },
    {
     "name": "stderr",
     "output_type": "stream",
     "text": [
      "Epoch 163, global step 3280: 'val_loss' was not in top 1\n"
     ]
    },
    {
     "name": "stdout",
     "output_type": "stream",
     "text": [
      "Epoch 164: 100%|██████████| 24/24 [00:00<00:00, 50.00it/s, loss=0.168, v_num=6]"
     ]
    },
    {
     "name": "stderr",
     "output_type": "stream",
     "text": [
      "Epoch 164, global step 3300: 'val_loss' was not in top 1\n"
     ]
    },
    {
     "name": "stdout",
     "output_type": "stream",
     "text": [
      "Epoch 165: 100%|██████████| 24/24 [00:00<00:00, 49.18it/s, loss=0.173, v_num=6]"
     ]
    },
    {
     "name": "stderr",
     "output_type": "stream",
     "text": [
      "Epoch 165, global step 3320: 'val_loss' was not in top 1\n"
     ]
    },
    {
     "name": "stdout",
     "output_type": "stream",
     "text": [
      "Epoch 166: 100%|██████████| 24/24 [00:00<00:00, 45.03it/s, loss=0.172, v_num=6]"
     ]
    },
    {
     "name": "stderr",
     "output_type": "stream",
     "text": [
      "Epoch 166, global step 3340: 'val_loss' was not in top 1\n"
     ]
    },
    {
     "name": "stdout",
     "output_type": "stream",
     "text": [
      "Epoch 167: 100%|██████████| 24/24 [00:00<00:00, 48.10it/s, loss=0.169, v_num=6]"
     ]
    },
    {
     "name": "stderr",
     "output_type": "stream",
     "text": [
      "Epoch 167, global step 3360: 'val_loss' was not in top 1\n"
     ]
    },
    {
     "name": "stdout",
     "output_type": "stream",
     "text": [
      "Epoch 168: 100%|██████████| 24/24 [00:00<00:00, 42.76it/s, loss=0.171, v_num=6]"
     ]
    },
    {
     "name": "stderr",
     "output_type": "stream",
     "text": [
      "Epoch 168, global step 3380: 'val_loss' was not in top 1\n"
     ]
    },
    {
     "name": "stdout",
     "output_type": "stream",
     "text": [
      "Epoch 169: 100%|██████████| 24/24 [00:00<00:00, 47.71it/s, loss=0.171, v_num=6]"
     ]
    },
    {
     "name": "stderr",
     "output_type": "stream",
     "text": [
      "Epoch 169, global step 3400: 'val_loss' was not in top 1\n"
     ]
    },
    {
     "name": "stdout",
     "output_type": "stream",
     "text": [
      "Epoch 170: 100%|██████████| 24/24 [00:00<00:00, 51.17it/s, loss=0.172, v_num=6]"
     ]
    },
    {
     "name": "stderr",
     "output_type": "stream",
     "text": [
      "Epoch 170, global step 3420: 'val_loss' was not in top 1\n"
     ]
    },
    {
     "name": "stdout",
     "output_type": "stream",
     "text": [
      "Epoch 171: 100%|██████████| 24/24 [00:00<00:00, 47.20it/s, loss=0.166, v_num=6]"
     ]
    },
    {
     "name": "stderr",
     "output_type": "stream",
     "text": [
      "Epoch 171, global step 3440: 'val_loss' was not in top 1\n"
     ]
    },
    {
     "name": "stdout",
     "output_type": "stream",
     "text": [
      "Epoch 172: 100%|██████████| 24/24 [00:00<00:00, 48.88it/s, loss=0.17, v_num=6] "
     ]
    },
    {
     "name": "stderr",
     "output_type": "stream",
     "text": [
      "Epoch 172, global step 3460: 'val_loss' was not in top 1\n"
     ]
    },
    {
     "name": "stdout",
     "output_type": "stream",
     "text": [
      "Epoch 173: 100%|██████████| 24/24 [00:00<00:00, 46.28it/s, loss=0.167, v_num=6]"
     ]
    },
    {
     "name": "stderr",
     "output_type": "stream",
     "text": [
      "Epoch 173, global step 3480: 'val_loss' was not in top 1\n"
     ]
    },
    {
     "name": "stdout",
     "output_type": "stream",
     "text": [
      "Epoch 174: 100%|██████████| 24/24 [00:00<00:00, 49.48it/s, loss=0.165, v_num=6]"
     ]
    },
    {
     "name": "stderr",
     "output_type": "stream",
     "text": [
      "Epoch 174, global step 3500: 'val_loss' was not in top 1\n"
     ]
    },
    {
     "name": "stdout",
     "output_type": "stream",
     "text": [
      "Epoch 175: 100%|██████████| 24/24 [00:00<00:00, 48.88it/s, loss=0.169, v_num=6]"
     ]
    },
    {
     "name": "stderr",
     "output_type": "stream",
     "text": [
      "Epoch 175, global step 3520: 'val_loss' was not in top 1\n"
     ]
    },
    {
     "name": "stdout",
     "output_type": "stream",
     "text": [
      "Epoch 176: 100%|██████████| 24/24 [00:00<00:00, 48.00it/s, loss=0.171, v_num=6]"
     ]
    },
    {
     "name": "stderr",
     "output_type": "stream",
     "text": [
      "Epoch 176, global step 3540: 'val_loss' was not in top 1\n"
     ]
    },
    {
     "name": "stdout",
     "output_type": "stream",
     "text": [
      "Epoch 177: 100%|██████████| 24/24 [00:00<00:00, 51.94it/s, loss=0.165, v_num=6]"
     ]
    },
    {
     "name": "stderr",
     "output_type": "stream",
     "text": [
      "Epoch 177, global step 3560: 'val_loss' was not in top 1\n"
     ]
    },
    {
     "name": "stdout",
     "output_type": "stream",
     "text": [
      "Epoch 178: 100%|██████████| 24/24 [00:00<00:00, 50.31it/s, loss=0.165, v_num=6]"
     ]
    },
    {
     "name": "stderr",
     "output_type": "stream",
     "text": [
      "Epoch 178, global step 3580: 'val_loss' was not in top 1\n"
     ]
    },
    {
     "name": "stdout",
     "output_type": "stream",
     "text": [
      "Epoch 179: 100%|██████████| 24/24 [00:00<00:00, 48.93it/s, loss=0.162, v_num=6]"
     ]
    },
    {
     "name": "stderr",
     "output_type": "stream",
     "text": [
      "Epoch 179, global step 3600: 'val_loss' reached 0.20252 (best 0.20252), saving model to 'D:\\\\Projects\\\\ComputerVision_CloudSegmentation\\\\Superpixel-UNET\\\\model_checkpt\\\\best-checkpoint-v6.ckpt' as top 1\n"
     ]
    },
    {
     "name": "stdout",
     "output_type": "stream",
     "text": [
      "Epoch 180: 100%|██████████| 24/24 [00:00<00:00, 51.17it/s, loss=0.162, v_num=6]"
     ]
    },
    {
     "name": "stderr",
     "output_type": "stream",
     "text": [
      "Epoch 180, global step 3620: 'val_loss' was not in top 1\n"
     ]
    },
    {
     "name": "stdout",
     "output_type": "stream",
     "text": [
      "Epoch 181: 100%|██████████| 24/24 [00:00<00:00, 47.01it/s, loss=0.162, v_num=6]"
     ]
    },
    {
     "name": "stderr",
     "output_type": "stream",
     "text": [
      "Epoch 181, global step 3640: 'val_loss' reached 0.20150 (best 0.20150), saving model to 'D:\\\\Projects\\\\ComputerVision_CloudSegmentation\\\\Superpixel-UNET\\\\model_checkpt\\\\best-checkpoint-v6.ckpt' as top 1\n"
     ]
    },
    {
     "name": "stdout",
     "output_type": "stream",
     "text": [
      "Epoch 182: 100%|██████████| 24/24 [00:00<00:00, 43.17it/s, loss=0.16, v_num=6] "
     ]
    },
    {
     "name": "stderr",
     "output_type": "stream",
     "text": [
      "Epoch 182, global step 3660: 'val_loss' was not in top 1\n"
     ]
    },
    {
     "name": "stdout",
     "output_type": "stream",
     "text": [
      "Epoch 183: 100%|██████████| 24/24 [00:00<00:00, 49.45it/s, loss=0.16, v_num=6] "
     ]
    },
    {
     "name": "stderr",
     "output_type": "stream",
     "text": [
      "Epoch 183, global step 3680: 'val_loss' was not in top 1\n"
     ]
    },
    {
     "name": "stdout",
     "output_type": "stream",
     "text": [
      "Epoch 184: 100%|██████████| 24/24 [00:00<00:00, 53.33it/s, loss=0.165, v_num=6]"
     ]
    },
    {
     "name": "stderr",
     "output_type": "stream",
     "text": [
      "Epoch 184, global step 3700: 'val_loss' was not in top 1\n"
     ]
    },
    {
     "name": "stdout",
     "output_type": "stream",
     "text": [
      "Epoch 185: 100%|██████████| 24/24 [00:00<00:00, 46.79it/s, loss=0.168, v_num=6]"
     ]
    },
    {
     "name": "stderr",
     "output_type": "stream",
     "text": [
      "Epoch 185, global step 3720: 'val_loss' was not in top 1\n"
     ]
    },
    {
     "name": "stdout",
     "output_type": "stream",
     "text": [
      "Epoch 186: 100%|██████████| 24/24 [00:00<00:00, 46.37it/s, loss=0.169, v_num=6]"
     ]
    },
    {
     "name": "stderr",
     "output_type": "stream",
     "text": [
      "Epoch 186, global step 3740: 'val_loss' was not in top 1\n"
     ]
    },
    {
     "name": "stdout",
     "output_type": "stream",
     "text": [
      "Epoch 187: 100%|██████████| 24/24 [00:00<00:00, 50.84it/s, loss=0.165, v_num=6]"
     ]
    },
    {
     "name": "stderr",
     "output_type": "stream",
     "text": [
      "Epoch 187, global step 3760: 'val_loss' was not in top 1\n"
     ]
    },
    {
     "name": "stdout",
     "output_type": "stream",
     "text": [
      "Epoch 188: 100%|██████████| 24/24 [00:00<00:00, 47.65it/s, loss=0.166, v_num=6]"
     ]
    },
    {
     "name": "stderr",
     "output_type": "stream",
     "text": [
      "Epoch 188, global step 3780: 'val_loss' was not in top 1\n"
     ]
    },
    {
     "name": "stdout",
     "output_type": "stream",
     "text": [
      "Epoch 189: 100%|██████████| 24/24 [00:00<00:00, 50.17it/s, loss=0.163, v_num=6]"
     ]
    },
    {
     "name": "stderr",
     "output_type": "stream",
     "text": [
      "Epoch 189, global step 3800: 'val_loss' was not in top 1\n"
     ]
    },
    {
     "name": "stdout",
     "output_type": "stream",
     "text": [
      "Epoch 190: 100%|██████████| 24/24 [00:00<00:00, 45.63it/s, loss=0.166, v_num=6]"
     ]
    },
    {
     "name": "stderr",
     "output_type": "stream",
     "text": [
      "Epoch 190, global step 3820: 'val_loss' was not in top 1\n"
     ]
    },
    {
     "name": "stdout",
     "output_type": "stream",
     "text": [
      "Epoch 191: 100%|██████████| 24/24 [00:00<00:00, 50.58it/s, loss=0.161, v_num=6]"
     ]
    },
    {
     "name": "stderr",
     "output_type": "stream",
     "text": [
      "Epoch 191, global step 3840: 'val_loss' was not in top 1\n"
     ]
    },
    {
     "name": "stdout",
     "output_type": "stream",
     "text": [
      "Epoch 192: 100%|██████████| 24/24 [00:00<00:00, 48.48it/s, loss=0.158, v_num=6]"
     ]
    },
    {
     "name": "stderr",
     "output_type": "stream",
     "text": [
      "Epoch 192, global step 3860: 'val_loss' was not in top 1\n"
     ]
    },
    {
     "name": "stdout",
     "output_type": "stream",
     "text": [
      "Epoch 193: 100%|██████████| 24/24 [00:00<00:00, 49.59it/s, loss=0.153, v_num=6]"
     ]
    },
    {
     "name": "stderr",
     "output_type": "stream",
     "text": [
      "Epoch 193, global step 3880: 'val_loss' was not in top 1\n"
     ]
    },
    {
     "name": "stdout",
     "output_type": "stream",
     "text": [
      "Epoch 194: 100%|██████████| 24/24 [00:00<00:00, 51.89it/s, loss=0.16, v_num=6] "
     ]
    },
    {
     "name": "stderr",
     "output_type": "stream",
     "text": [
      "Epoch 194, global step 3900: 'val_loss' was not in top 1\n"
     ]
    },
    {
     "name": "stdout",
     "output_type": "stream",
     "text": [
      "Epoch 195: 100%|██████████| 24/24 [00:00<00:00, 47.71it/s, loss=0.154, v_num=6]"
     ]
    },
    {
     "name": "stderr",
     "output_type": "stream",
     "text": [
      "Epoch 195, global step 3920: 'val_loss' was not in top 1\n"
     ]
    },
    {
     "name": "stdout",
     "output_type": "stream",
     "text": [
      "Epoch 196: 100%|██████████| 24/24 [00:00<00:00, 47.10it/s, loss=0.153, v_num=6]"
     ]
    },
    {
     "name": "stderr",
     "output_type": "stream",
     "text": [
      "Epoch 196, global step 3940: 'val_loss' reached 0.20081 (best 0.20081), saving model to 'D:\\\\Projects\\\\ComputerVision_CloudSegmentation\\\\Superpixel-UNET\\\\model_checkpt\\\\best-checkpoint-v6.ckpt' as top 1\n"
     ]
    },
    {
     "name": "stdout",
     "output_type": "stream",
     "text": [
      "Epoch 197: 100%|██████████| 24/24 [00:00<00:00, 52.40it/s, loss=0.152, v_num=6]"
     ]
    },
    {
     "name": "stderr",
     "output_type": "stream",
     "text": [
      "Epoch 197, global step 3960: 'val_loss' was not in top 1\n"
     ]
    },
    {
     "name": "stdout",
     "output_type": "stream",
     "text": [
      "Epoch 198: 100%|██████████| 24/24 [00:00<00:00, 50.51it/s, loss=0.156, v_num=6]"
     ]
    },
    {
     "name": "stderr",
     "output_type": "stream",
     "text": [
      "Epoch 198, global step 3980: 'val_loss' was not in top 1\n"
     ]
    },
    {
     "name": "stdout",
     "output_type": "stream",
     "text": [
      "Epoch 199: 100%|██████████| 24/24 [00:00<00:00, 45.32it/s, loss=0.158, v_num=6]"
     ]
    },
    {
     "name": "stderr",
     "output_type": "stream",
     "text": [
      "Epoch 199, global step 4000: 'val_loss' was not in top 1\n"
     ]
    },
    {
     "name": "stdout",
     "output_type": "stream",
     "text": [
      "Epoch 200: 100%|██████████| 24/24 [00:00<00:00, 46.06it/s, loss=0.155, v_num=6]"
     ]
    },
    {
     "name": "stderr",
     "output_type": "stream",
     "text": [
      "Epoch 200, global step 4020: 'val_loss' was not in top 1\n"
     ]
    },
    {
     "name": "stdout",
     "output_type": "stream",
     "text": [
      "Epoch 201: 100%|██████████| 24/24 [00:00<00:00, 50.99it/s, loss=0.157, v_num=6]"
     ]
    },
    {
     "name": "stderr",
     "output_type": "stream",
     "text": [
      "Epoch 201, global step 4040: 'val_loss' was not in top 1\n"
     ]
    },
    {
     "name": "stdout",
     "output_type": "stream",
     "text": [
      "Epoch 202: 100%|██████████| 24/24 [00:00<00:00, 47.90it/s, loss=0.15, v_num=6] "
     ]
    },
    {
     "name": "stderr",
     "output_type": "stream",
     "text": [
      "Epoch 202, global step 4060: 'val_loss' was not in top 1\n"
     ]
    },
    {
     "name": "stdout",
     "output_type": "stream",
     "text": [
      "Epoch 203: 100%|██████████| 24/24 [00:00<00:00, 48.43it/s, loss=0.15, v_num=6] "
     ]
    },
    {
     "name": "stderr",
     "output_type": "stream",
     "text": [
      "Epoch 203, global step 4080: 'val_loss' was not in top 1\n"
     ]
    },
    {
     "name": "stdout",
     "output_type": "stream",
     "text": [
      "Epoch 204: 100%|██████████| 24/24 [00:00<00:00, 49.59it/s, loss=0.15, v_num=6] "
     ]
    },
    {
     "name": "stderr",
     "output_type": "stream",
     "text": [
      "Epoch 204, global step 4100: 'val_loss' was not in top 1\n"
     ]
    },
    {
     "name": "stdout",
     "output_type": "stream",
     "text": [
      "Epoch 205: 100%|██████████| 24/24 [00:00<00:00, 50.10it/s, loss=0.153, v_num=6]"
     ]
    },
    {
     "name": "stderr",
     "output_type": "stream",
     "text": [
      "Epoch 205, global step 4120: 'val_loss' was not in top 1\n"
     ]
    },
    {
     "name": "stdout",
     "output_type": "stream",
     "text": [
      "Epoch 206: 100%|██████████| 24/24 [00:00<00:00, 48.68it/s, loss=0.162, v_num=6]"
     ]
    },
    {
     "name": "stderr",
     "output_type": "stream",
     "text": [
      "Epoch 206, global step 4140: 'val_loss' was not in top 1\n"
     ]
    },
    {
     "name": "stdout",
     "output_type": "stream",
     "text": [
      "Epoch 207: 100%|██████████| 24/24 [00:00<00:00, 50.21it/s, loss=0.16, v_num=6] "
     ]
    },
    {
     "name": "stderr",
     "output_type": "stream",
     "text": [
      "Epoch 207, global step 4160: 'val_loss' was not in top 1\n"
     ]
    },
    {
     "name": "stdout",
     "output_type": "stream",
     "text": [
      "Epoch 208: 100%|██████████| 24/24 [00:00<00:00, 49.48it/s, loss=0.154, v_num=6]"
     ]
    },
    {
     "name": "stderr",
     "output_type": "stream",
     "text": [
      "Epoch 208, global step 4180: 'val_loss' was not in top 1\n"
     ]
    },
    {
     "name": "stdout",
     "output_type": "stream",
     "text": [
      "Epoch 209: 100%|██████████| 24/24 [00:00<00:00, 47.97it/s, loss=0.155, v_num=6]"
     ]
    },
    {
     "name": "stderr",
     "output_type": "stream",
     "text": [
      "Epoch 209, global step 4200: 'val_loss' was not in top 1\n"
     ]
    },
    {
     "name": "stdout",
     "output_type": "stream",
     "text": [
      "Epoch 210: 100%|██████████| 24/24 [00:00<00:00, 48.19it/s, loss=0.153, v_num=6]"
     ]
    },
    {
     "name": "stderr",
     "output_type": "stream",
     "text": [
      "Epoch 210, global step 4220: 'val_loss' was not in top 1\n"
     ]
    },
    {
     "name": "stdout",
     "output_type": "stream",
     "text": [
      "Epoch 211: 100%|██████████| 24/24 [00:00<00:00, 50.63it/s, loss=0.152, v_num=6]"
     ]
    },
    {
     "name": "stderr",
     "output_type": "stream",
     "text": [
      "Epoch 211, global step 4240: 'val_loss' was not in top 1\n"
     ]
    },
    {
     "name": "stdout",
     "output_type": "stream",
     "text": [
      "Epoch 212: 100%|██████████| 24/24 [00:00<00:00, 47.81it/s, loss=0.152, v_num=6]"
     ]
    },
    {
     "name": "stderr",
     "output_type": "stream",
     "text": [
      "Epoch 212, global step 4260: 'val_loss' reached 0.19880 (best 0.19880), saving model to 'D:\\\\Projects\\\\ComputerVision_CloudSegmentation\\\\Superpixel-UNET\\\\model_checkpt\\\\best-checkpoint-v6.ckpt' as top 1\n"
     ]
    },
    {
     "name": "stdout",
     "output_type": "stream",
     "text": [
      "Epoch 213: 100%|██████████| 24/24 [00:00<00:00, 49.08it/s, loss=0.148, v_num=6]"
     ]
    },
    {
     "name": "stderr",
     "output_type": "stream",
     "text": [
      "Epoch 213, global step 4280: 'val_loss' was not in top 1\n"
     ]
    },
    {
     "name": "stdout",
     "output_type": "stream",
     "text": [
      "Epoch 214: 100%|██████████| 24/24 [00:00<00:00, 46.97it/s, loss=0.15, v_num=6] "
     ]
    },
    {
     "name": "stderr",
     "output_type": "stream",
     "text": [
      "Epoch 214, global step 4300: 'val_loss' was not in top 1\n"
     ]
    },
    {
     "name": "stdout",
     "output_type": "stream",
     "text": [
      "Epoch 215: 100%|██████████| 24/24 [00:00<00:00, 47.33it/s, loss=0.154, v_num=6]"
     ]
    },
    {
     "name": "stderr",
     "output_type": "stream",
     "text": [
      "Epoch 215, global step 4320: 'val_loss' reached 0.19591 (best 0.19591), saving model to 'D:\\\\Projects\\\\ComputerVision_CloudSegmentation\\\\Superpixel-UNET\\\\model_checkpt\\\\best-checkpoint-v6.ckpt' as top 1\n"
     ]
    },
    {
     "name": "stdout",
     "output_type": "stream",
     "text": [
      "Epoch 216: 100%|██████████| 24/24 [00:00<00:00, 50.10it/s, loss=0.15, v_num=6] "
     ]
    },
    {
     "name": "stderr",
     "output_type": "stream",
     "text": [
      "Epoch 216, global step 4340: 'val_loss' was not in top 1\n"
     ]
    },
    {
     "name": "stdout",
     "output_type": "stream",
     "text": [
      "Epoch 217: 100%|██████████| 24/24 [00:00<00:00, 49.18it/s, loss=0.148, v_num=6]"
     ]
    },
    {
     "name": "stderr",
     "output_type": "stream",
     "text": [
      "Epoch 217, global step 4360: 'val_loss' was not in top 1\n"
     ]
    },
    {
     "name": "stdout",
     "output_type": "stream",
     "text": [
      "Epoch 218: 100%|██████████| 24/24 [00:00<00:00, 48.10it/s, loss=0.151, v_num=6]"
     ]
    },
    {
     "name": "stderr",
     "output_type": "stream",
     "text": [
      "Epoch 218, global step 4380: 'val_loss' was not in top 1\n"
     ]
    },
    {
     "name": "stdout",
     "output_type": "stream",
     "text": [
      "Epoch 219: 100%|██████████| 24/24 [00:00<00:00, 47.62it/s, loss=0.151, v_num=6]"
     ]
    },
    {
     "name": "stderr",
     "output_type": "stream",
     "text": [
      "Epoch 219, global step 4400: 'val_loss' was not in top 1\n"
     ]
    },
    {
     "name": "stdout",
     "output_type": "stream",
     "text": [
      "Epoch 220: 100%|██████████| 24/24 [00:00<00:00, 48.58it/s, loss=0.147, v_num=6]"
     ]
    },
    {
     "name": "stderr",
     "output_type": "stream",
     "text": [
      "Epoch 220, global step 4420: 'val_loss' was not in top 1\n"
     ]
    },
    {
     "name": "stdout",
     "output_type": "stream",
     "text": [
      "Epoch 221: 100%|██████████| 24/24 [00:00<00:00, 50.42it/s, loss=0.142, v_num=6]"
     ]
    },
    {
     "name": "stderr",
     "output_type": "stream",
     "text": [
      "Epoch 221, global step 4440: 'val_loss' was not in top 1\n"
     ]
    },
    {
     "name": "stdout",
     "output_type": "stream",
     "text": [
      "Epoch 222: 100%|██████████| 24/24 [00:00<00:00, 51.39it/s, loss=0.143, v_num=6]"
     ]
    },
    {
     "name": "stderr",
     "output_type": "stream",
     "text": [
      "Epoch 222, global step 4460: 'val_loss' was not in top 1\n"
     ]
    },
    {
     "name": "stdout",
     "output_type": "stream",
     "text": [
      "Epoch 223: 100%|██████████| 24/24 [00:00<00:00, 49.28it/s, loss=0.146, v_num=6]"
     ]
    },
    {
     "name": "stderr",
     "output_type": "stream",
     "text": [
      "Epoch 223, global step 4480: 'val_loss' was not in top 1\n"
     ]
    },
    {
     "name": "stdout",
     "output_type": "stream",
     "text": [
      "Epoch 224: 100%|██████████| 24/24 [00:00<00:00, 47.52it/s, loss=0.147, v_num=6]"
     ]
    },
    {
     "name": "stderr",
     "output_type": "stream",
     "text": [
      "Epoch 224, global step 4500: 'val_loss' was not in top 1\n"
     ]
    },
    {
     "name": "stdout",
     "output_type": "stream",
     "text": [
      "Epoch 225: 100%|██████████| 24/24 [00:00<00:00, 43.13it/s, loss=0.149, v_num=6]"
     ]
    },
    {
     "name": "stderr",
     "output_type": "stream",
     "text": [
      "Epoch 225, global step 4520: 'val_loss' was not in top 1\n"
     ]
    },
    {
     "name": "stdout",
     "output_type": "stream",
     "text": [
      "Epoch 226: 100%|██████████| 24/24 [00:00<00:00, 45.76it/s, loss=0.145, v_num=6]"
     ]
    },
    {
     "name": "stderr",
     "output_type": "stream",
     "text": [
      "Epoch 226, global step 4540: 'val_loss' was not in top 1\n"
     ]
    },
    {
     "name": "stdout",
     "output_type": "stream",
     "text": [
      "Epoch 227: 100%|██████████| 24/24 [00:00<00:00, 48.10it/s, loss=0.151, v_num=6]"
     ]
    },
    {
     "name": "stderr",
     "output_type": "stream",
     "text": [
      "Epoch 227, global step 4560: 'val_loss' was not in top 1\n"
     ]
    },
    {
     "name": "stdout",
     "output_type": "stream",
     "text": [
      "Epoch 228: 100%|██████████| 24/24 [00:00<00:00, 50.88it/s, loss=0.143, v_num=6]"
     ]
    },
    {
     "name": "stderr",
     "output_type": "stream",
     "text": [
      "Epoch 228, global step 4580: 'val_loss' was not in top 1\n"
     ]
    },
    {
     "name": "stdout",
     "output_type": "stream",
     "text": [
      "Epoch 229: 100%|██████████| 24/24 [00:00<00:00, 48.29it/s, loss=0.144, v_num=6]"
     ]
    },
    {
     "name": "stderr",
     "output_type": "stream",
     "text": [
      "Epoch 229, global step 4600: 'val_loss' was not in top 1\n"
     ]
    },
    {
     "name": "stdout",
     "output_type": "stream",
     "text": [
      "Epoch 230: 100%|██████████| 24/24 [00:00<00:00, 50.52it/s, loss=0.146, v_num=6]"
     ]
    },
    {
     "name": "stderr",
     "output_type": "stream",
     "text": [
      "Epoch 230, global step 4620: 'val_loss' was not in top 1\n"
     ]
    },
    {
     "name": "stdout",
     "output_type": "stream",
     "text": [
      "Epoch 231: 100%|██████████| 24/24 [00:00<00:00, 50.05it/s, loss=0.148, v_num=6]"
     ]
    },
    {
     "name": "stderr",
     "output_type": "stream",
     "text": [
      "Epoch 231, global step 4640: 'val_loss' was not in top 1\n"
     ]
    },
    {
     "name": "stdout",
     "output_type": "stream",
     "text": [
      "Epoch 232: 100%|██████████| 24/24 [00:00<00:00, 50.26it/s, loss=0.144, v_num=6]"
     ]
    },
    {
     "name": "stderr",
     "output_type": "stream",
     "text": [
      "Epoch 232, global step 4660: 'val_loss' was not in top 1\n"
     ]
    },
    {
     "name": "stdout",
     "output_type": "stream",
     "text": [
      "Epoch 233: 100%|██████████| 24/24 [00:00<00:00, 50.53it/s, loss=0.142, v_num=6]"
     ]
    },
    {
     "name": "stderr",
     "output_type": "stream",
     "text": [
      "Epoch 233, global step 4680: 'val_loss' was not in top 1\n"
     ]
    },
    {
     "name": "stdout",
     "output_type": "stream",
     "text": [
      "Epoch 234: 100%|██████████| 24/24 [00:00<00:00, 48.93it/s, loss=0.14, v_num=6] "
     ]
    },
    {
     "name": "stderr",
     "output_type": "stream",
     "text": [
      "Epoch 234, global step 4700: 'val_loss' was not in top 1\n"
     ]
    },
    {
     "name": "stdout",
     "output_type": "stream",
     "text": [
      "Epoch 235: 100%|██████████| 24/24 [00:00<00:00, 49.33it/s, loss=0.142, v_num=6]"
     ]
    },
    {
     "name": "stderr",
     "output_type": "stream",
     "text": [
      "Epoch 235, global step 4720: 'val_loss' was not in top 1\n"
     ]
    },
    {
     "name": "stdout",
     "output_type": "stream",
     "text": [
      "Epoch 235: 100%|██████████| 24/24 [00:00<00:00, 48.63it/s, loss=0.142, v_num=6]\n"
     ]
    }
   ],
   "source": [
    "trainer = Trainer(\n",
    "    logger = logger,\n",
    "    gpus=1 if torch.cuda.is_available() else None,\n",
    "    max_epochs=1000,\n",
    "    callbacks=[EarlyStopping(monitor='val_loss', patience=20), checkpoint_callback]\n",
    ")\n",
    "\n",
    "# Train the model using the trainer\n",
    "trainer.fit(segmentationModel, train_loader, test_loader)\n"
   ]
  },
  {
   "cell_type": "markdown",
   "metadata": {},
   "source": [
    "## Manual Model test"
   ]
  },
  {
   "cell_type": "code",
   "execution_count": 486,
   "metadata": {},
   "outputs": [
    {
     "name": "stderr",
     "output_type": "stream",
     "text": [
      "<ipython-input-434-e9d455cf8280>:8: FutureWarning: Using a non-tuple sequence for multidimensional indexing is deprecated; use `arr[tuple(seq)]` instead of `arr[seq]`. In the future this will be interpreted as an array index, `arr[np.array(seq)]`, which will result either in an error or a different result.\n",
      "  label = y[[X[:,0] != -1]]\n"
     ]
    },
    {
     "data": {
      "image/png": "[encoded data removed]",
      "text/plain": [
       "<Figure size 2500x1000 with 5 Axes>"
      ]
     },
     "metadata": {},
     "output_type": "display_data"
    }
   ],
   "source": [
    "##plot segmented_image_rgb\n",
    "i = 466\n",
    "\n",
    "y_true = unpad_and_map(X[i],y[i],original_ordering[i],slic_map[i])\n",
    "y_pred = np.round(segmentationModel(torch.tensor([X[i].T], dtype=torch.float32)).detach().numpy().reshape(-1))\n",
    "y_pred = unpad_and_map(X[i],y_pred,original_ordering[i],slic_map[i])\n",
    "## Make a 1x3 subplot\n",
    "fig, ax = plt.subplots(1, 5, figsize=(25, 10))\n",
    "\n",
    "## Plot the original image\n",
    "ax[0].imshow(patches[i])\n",
    "ax[0].set_title('Original Image')\n",
    "\n",
    "## Plot the true segmentation\n",
    "ax[1].imshow(mask[i])\n",
    "ax[1].set_title('True Map')\n",
    "\n",
    "## Plot the superpixel segmentation\n",
    "ax[2].imshow(raw[i])\n",
    "ax[2].set_title('Superpixel Image')\n",
    "\n",
    "## Plot the true segmentation\n",
    "ax[3].imshow(y_true)\n",
    "ax[3].set_title('Superpixel Map')\n",
    "\n",
    "## Plot the predicted segmentation\n",
    "ax[4].imshow(y_pred)\n",
    "ax[4].set_title('Predicted Map')\n",
    "\n",
    "## Show the plot\n",
    "plt.show()"
   ]
  },
  {
   "cell_type": "markdown",
   "metadata": {},
   "source": [
    "### Calculate DICE"
   ]
  },
  {
   "cell_type": "code",
   "execution_count": 514,
   "metadata": {},
   "outputs": [],
   "source": [
    "## Write a function to calculate the dice score between two images\n",
    "def get_jaccard_score(y_true, y_pred):\n",
    "    intersection = np.logical_and(y_true, y_pred)\n",
    "    union = np.logical_or(y_true, y_pred)\n",
    "    jaccard = np.sum(intersection) / np.sum(union)\n",
    "    return jaccard\n",
    "\n",
    "def get_dice_score(y_true, y_pred):\n",
    "    intersection = np.logical_and(y_true, y_pred)\n",
    "    dice = 2 * np.sum(intersection) / (np.sum(y_true) + np.sum(y_pred))\n",
    "    return dice\n"
   ]
  },
  {
   "cell_type": "code",
   "execution_count": 515,
   "metadata": {},
   "outputs": [
    {
     "data": {
      "application/vnd.jupyter.widget-view+json": {
       "model_id": "bcc886c8852c4bc58efaec812c01c5f7",
       "version_major": 2,
       "version_minor": 0
      },
      "text/plain": [
       "  0%|          | 0/200 [00:00<?, ?it/s]"
      ]
     },
     "metadata": {},
     "output_type": "display_data"
    },
    {
     "name": "stderr",
     "output_type": "stream",
     "text": [
      "<ipython-input-434-e9d455cf8280>:8: FutureWarning: Using a non-tuple sequence for multidimensional indexing is deprecated; use `arr[tuple(seq)]` instead of `arr[seq]`. In the future this will be interpreted as an array index, `arr[np.array(seq)]`, which will result either in an error or a different result.\n",
      "  label = y[[X[:,0] != -1]]\n"
     ]
    },
    {
     "data": {
      "application/vnd.jupyter.widget-view+json": {
       "model_id": "3d6634abaf744572a3eac8b75501bf48",
       "version_major": 2,
       "version_minor": 0
      },
      "text/plain": [
       "0it [00:00, ?it/s]"
      ]
     },
     "metadata": {},
     "output_type": "display_data"
    },
    {
     "data": {
      "application/vnd.jupyter.widget-view+json": {
       "model_id": "b7349a73a9304b71b057685af4b8cb7c",
       "version_major": 2,
       "version_minor": 0
      },
      "text/plain": [
       "0it [00:00, ?it/s]"
      ]
     },
     "metadata": {},
     "output_type": "display_data"
    }
   ],
   "source": [
    "pred_maps = []\n",
    "for i in tqdm(test_index):\n",
    "    y_pred = np.round(segmentationModel(torch.tensor([X[i].T], dtype=torch.float32)).detach().numpy().reshape(-1))\n",
    "    pred = unpad_and_map(X[i],y_pred,original_ordering[i],slic_map[i])\n",
    "    pred_maps.append(pred)\n",
    "\n",
    "dice = []\n",
    "for i,j in tqdm(zip(np.array(pred_maps),mask[test_index])):\n",
    "    dice.append(get_dice_score(i,j))\n",
    "\n",
    "jaccard = []\n",
    "for i,j in tqdm(zip(np.array(pred_maps),mask[test_index])):\n",
    "    jaccard.append(get_jaccard_score(i,j))"
   ]
  },
  {
   "cell_type": "code",
   "execution_count": 516,
   "metadata": {},
   "outputs": [
    {
     "name": "stdout",
     "output_type": "stream",
     "text": [
      "Overall Dice: 0.8024769273073467\n",
      "Overall Jaccard: 0.7165479934353844\n"
     ]
    }
   ],
   "source": [
    "print(\"Overall Dice:\", np.mean(dice))\n",
    "print(\"Overall Jaccard:\", np.mean(jaccard))"
   ]
  },
  {
   "cell_type": "markdown",
   "metadata": {},
   "source": [
    "# APPENDIX"
   ]
  },
  {
   "cell_type": "markdown",
   "metadata": {},
   "source": [
    "## Training the module"
   ]
  },
  {
   "cell_type": "code",
   "execution_count": 103,
   "metadata": {},
   "outputs": [
    {
     "data": {
      "application/vnd.jupyter.widget-view+json": {
       "model_id": "d8a995742e464990b4cd8c54d4865983",
       "version_major": 2,
       "version_minor": 0
      },
      "text/plain": [
       "  0%|          | 0/100 [00:00<?, ?it/s]"
      ]
     },
     "metadata": {},
     "output_type": "display_data"
    },
    {
     "name": "stdout",
     "output_type": "stream",
     "text": [
      "Epoch [1/100], Loss: 0.6364, Accuracy: 0.6186\n",
      "Test Loss: 0.5749, Accuracy: 0.6813\n",
      "Epoch [2/100], Loss: 0.5424, Accuracy: 0.8075\n",
      "Test Loss: 0.5319, Accuracy: 0.7332\n",
      "Epoch [3/100], Loss: 0.5089, Accuracy: 0.7436\n",
      "Test Loss: 0.5077, Accuracy: 0.7726\n",
      "Epoch [4/100], Loss: 0.4980, Accuracy: 0.7191\n",
      "Test Loss: 0.5190, Accuracy: 0.7041\n",
      "Epoch [5/100], Loss: 0.4874, Accuracy: 0.7807\n",
      "Test Loss: 0.5052, Accuracy: 0.7741\n",
      "Epoch [6/100], Loss: 0.4865, Accuracy: 0.8059\n",
      "Test Loss: 0.4932, Accuracy: 0.7659\n",
      "Epoch [7/100], Loss: 0.4706, Accuracy: 0.7999\n",
      "Test Loss: 0.4940, Accuracy: 0.6825\n",
      "Epoch [8/100], Loss: 0.4623, Accuracy: 0.7862\n",
      "Test Loss: 0.4570, Accuracy: 0.7324\n",
      "Epoch [9/100], Loss: 0.4311, Accuracy: 0.7923\n",
      "Test Loss: 0.4193, Accuracy: 0.8353\n",
      "Epoch [10/100], Loss: 0.4135, Accuracy: 0.8057\n",
      "Test Loss: 0.4009, Accuracy: 0.8276\n",
      "Epoch [11/100], Loss: 0.3908, Accuracy: 0.8448\n",
      "Test Loss: 0.3932, Accuracy: 0.8185\n",
      "Epoch [12/100], Loss: 0.3822, Accuracy: 0.8141\n",
      "Test Loss: 0.4353, Accuracy: 0.8000\n",
      "Epoch [13/100], Loss: 0.3903, Accuracy: 0.8330\n",
      "Test Loss: 0.4030, Accuracy: 0.7826\n",
      "Epoch [14/100], Loss: 0.3776, Accuracy: 0.8352\n",
      "Test Loss: 0.3858, Accuracy: 0.8310\n",
      "Epoch [15/100], Loss: 0.3726, Accuracy: 0.8716\n",
      "Test Loss: 0.4051, Accuracy: 0.8147\n",
      "Epoch [16/100], Loss: 0.3773, Accuracy: 0.8135\n",
      "Test Loss: 0.3749, Accuracy: 0.8522\n",
      "Epoch [17/100], Loss: 0.3691, Accuracy: 0.8159\n",
      "Test Loss: 0.3772, Accuracy: 0.8331\n",
      "Epoch [18/100], Loss: 0.3716, Accuracy: 0.8617\n",
      "Test Loss: 0.3750, Accuracy: 0.8180\n",
      "Epoch [19/100], Loss: 0.3648, Accuracy: 0.8038\n",
      "Test Loss: 0.3731, Accuracy: 0.8432\n",
      "Epoch [20/100], Loss: 0.3680, Accuracy: 0.8122\n",
      "Test Loss: 0.3747, Accuracy: 0.8600\n",
      "Epoch [21/100], Loss: 0.3588, Accuracy: 0.8341\n",
      "Test Loss: 0.3594, Accuracy: 0.8796\n",
      "Epoch [22/100], Loss: 0.3608, Accuracy: 0.7990\n",
      "Test Loss: 0.3704, Accuracy: 0.8431\n",
      "Epoch [23/100], Loss: 0.3631, Accuracy: 0.8094\n",
      "Test Loss: 0.3960, Accuracy: 0.8056\n",
      "Epoch [24/100], Loss: 0.3776, Accuracy: 0.7797\n",
      "Test Loss: 0.3749, Accuracy: 0.8666\n",
      "Epoch [25/100], Loss: 0.3576, Accuracy: 0.8825\n",
      "Test Loss: 0.3614, Accuracy: 0.8769\n",
      "Epoch [26/100], Loss: 0.3510, Accuracy: 0.8488\n",
      "Test Loss: 0.3588, Accuracy: 0.8504\n",
      "Epoch [27/100], Loss: 0.3499, Accuracy: 0.8520\n",
      "Test Loss: 0.3615, Accuracy: 0.8409\n",
      "Epoch [28/100], Loss: 0.3496, Accuracy: 0.8516\n",
      "Test Loss: 0.3797, Accuracy: 0.8279\n",
      "Epoch [29/100], Loss: 0.3544, Accuracy: 0.8322\n",
      "Test Loss: 0.3603, Accuracy: 0.8097\n",
      "Epoch [30/100], Loss: 0.3473, Accuracy: 0.8646\n",
      "Test Loss: 0.3570, Accuracy: 0.8493\n",
      "Epoch [31/100], Loss: 0.3488, Accuracy: 0.9014\n",
      "Test Loss: 0.3550, Accuracy: 0.8499\n",
      "Epoch [32/100], Loss: 0.3517, Accuracy: 0.8516\n",
      "Test Loss: 0.3578, Accuracy: 0.8639\n",
      "Epoch [33/100], Loss: 0.3530, Accuracy: 0.8925\n",
      "Test Loss: 0.3826, Accuracy: 0.8382\n",
      "Epoch [34/100], Loss: 0.3535, Accuracy: 0.8435\n",
      "Test Loss: 0.3542, Accuracy: 0.8590\n",
      "Epoch [35/100], Loss: 0.3512, Accuracy: 0.7968\n",
      "Test Loss: 0.3546, Accuracy: 0.8238\n",
      "Epoch [36/100], Loss: 0.3497, Accuracy: 0.8509\n",
      "Test Loss: 0.3586, Accuracy: 0.8158\n",
      "Epoch [37/100], Loss: 0.3487, Accuracy: 0.7954\n",
      "Test Loss: 0.3526, Accuracy: 0.8418\n",
      "Epoch [38/100], Loss: 0.3502, Accuracy: 0.8087\n",
      "Test Loss: 0.3545, Accuracy: 0.8582\n",
      "Epoch [39/100], Loss: 0.3475, Accuracy: 0.8507\n",
      "Test Loss: 0.3495, Accuracy: 0.8665\n",
      "Epoch [40/100], Loss: 0.3413, Accuracy: 0.8607\n",
      "Test Loss: 0.3610, Accuracy: 0.8598\n",
      "Epoch [41/100], Loss: 0.3411, Accuracy: 0.8588\n",
      "Test Loss: 0.3653, Accuracy: 0.8292\n",
      "Epoch [42/100], Loss: 0.3466, Accuracy: 0.7538\n",
      "Test Loss: 0.3583, Accuracy: 0.8170\n",
      "Epoch [43/100], Loss: 0.3496, Accuracy: 0.8058\n",
      "Test Loss: 0.3521, Accuracy: 0.8420\n",
      "Epoch [44/100], Loss: 0.3420, Accuracy: 0.8210\n",
      "Test Loss: 0.3560, Accuracy: 0.8351\n",
      "Epoch [45/100], Loss: 0.3438, Accuracy: 0.8623\n",
      "Test Loss: 0.3527, Accuracy: 0.8623\n",
      "Epoch [46/100], Loss: 0.3405, Accuracy: 0.8481\n",
      "Test Loss: 0.3668, Accuracy: 0.8190\n",
      "Epoch [47/100], Loss: 0.3431, Accuracy: 0.8677\n",
      "Test Loss: 0.3594, Accuracy: 0.8306\n",
      "Epoch [48/100], Loss: 0.3463, Accuracy: 0.8468\n",
      "Test Loss: 0.3480, Accuracy: 0.8651\n",
      "Epoch [49/100], Loss: 0.3455, Accuracy: 0.7896\n",
      "Test Loss: 0.3737, Accuracy: 0.8126\n",
      "Epoch [50/100], Loss: 0.3431, Accuracy: 0.9290\n",
      "Test Loss: 0.3562, Accuracy: 0.8020\n",
      "Epoch [51/100], Loss: 0.3423, Accuracy: 0.8465\n",
      "Test Loss: 0.3484, Accuracy: 0.8579\n",
      "Epoch [52/100], Loss: 0.3405, Accuracy: 0.8293\n",
      "Test Loss: 0.3506, Accuracy: 0.8332\n",
      "Epoch [53/100], Loss: 0.3412, Accuracy: 0.8622\n",
      "Test Loss: 0.3514, Accuracy: 0.8381\n",
      "Epoch [54/100], Loss: 0.3395, Accuracy: 0.9138\n",
      "Test Loss: 0.3631, Accuracy: 0.8173\n",
      "Epoch [55/100], Loss: 0.3398, Accuracy: 0.8867\n",
      "Test Loss: 0.3512, Accuracy: 0.8421\n",
      "Epoch [56/100], Loss: 0.3402, Accuracy: 0.8630\n",
      "Test Loss: 0.3523, Accuracy: 0.8228\n",
      "Epoch [57/100], Loss: 0.3406, Accuracy: 0.8338\n",
      "Test Loss: 0.3515, Accuracy: 0.8315\n",
      "Epoch [58/100], Loss: 0.3405, Accuracy: 0.8123\n",
      "Test Loss: 0.3505, Accuracy: 0.8230\n",
      "Epoch [59/100], Loss: 0.3371, Accuracy: 0.8132\n",
      "Test Loss: 0.3488, Accuracy: 0.8278\n",
      "Epoch [60/100], Loss: 0.3356, Accuracy: 0.8665\n",
      "Test Loss: 0.3484, Accuracy: 0.8620\n",
      "Epoch [61/100], Loss: 0.3388, Accuracy: 0.7607\n",
      "Test Loss: 0.3466, Accuracy: 0.8155\n",
      "Epoch [62/100], Loss: 0.3334, Accuracy: 0.8584\n",
      "Test Loss: 0.3791, Accuracy: 0.7952\n",
      "Epoch [63/100], Loss: 0.3352, Accuracy: 0.8583\n",
      "Test Loss: 0.3614, Accuracy: 0.8063\n",
      "Epoch [64/100], Loss: 0.3375, Accuracy: 0.8059\n",
      "Test Loss: 0.3466, Accuracy: 0.8413\n",
      "Epoch [65/100], Loss: 0.3425, Accuracy: 0.8849\n",
      "Test Loss: 0.3518, Accuracy: 0.8708\n",
      "Epoch [66/100], Loss: 0.3381, Accuracy: 0.8362\n",
      "Test Loss: 0.3440, Accuracy: 0.8552\n",
      "Epoch [67/100], Loss: 0.3365, Accuracy: 0.8391\n",
      "Test Loss: 0.3462, Accuracy: 0.8423\n",
      "Epoch [68/100], Loss: 0.3347, Accuracy: 0.8488\n",
      "Test Loss: 0.3419, Accuracy: 0.8739\n",
      "Epoch [69/100], Loss: 0.3337, Accuracy: 0.8443\n",
      "Test Loss: 0.3564, Accuracy: 0.8506\n",
      "Epoch [70/100], Loss: 0.3369, Accuracy: 0.8955\n",
      "Test Loss: 0.3504, Accuracy: 0.8238\n",
      "Epoch [71/100], Loss: 0.3372, Accuracy: 0.8067\n",
      "Test Loss: 0.3403, Accuracy: 0.8877\n",
      "Epoch [72/100], Loss: 0.3297, Accuracy: 0.9014\n",
      "Test Loss: 0.3503, Accuracy: 0.8435\n",
      "Epoch [73/100], Loss: 0.3399, Accuracy: 0.8719\n",
      "Test Loss: 0.3646, Accuracy: 0.7933\n",
      "Epoch [74/100], Loss: 0.3331, Accuracy: 0.8780\n",
      "Test Loss: 0.3443, Accuracy: 0.8454\n",
      "Epoch [75/100], Loss: 0.3314, Accuracy: 0.8387\n",
      "Test Loss: 0.3448, Accuracy: 0.8392\n",
      "Epoch [76/100], Loss: 0.3346, Accuracy: 0.8351\n",
      "Test Loss: 0.3460, Accuracy: 0.8326\n",
      "Epoch [77/100], Loss: 0.3315, Accuracy: 0.8116\n",
      "Test Loss: 0.3469, Accuracy: 0.8186\n",
      "Epoch [78/100], Loss: 0.3290, Accuracy: 0.8564\n",
      "Test Loss: 0.3455, Accuracy: 0.8140\n",
      "Epoch [79/100], Loss: 0.3299, Accuracy: 0.8400\n",
      "Test Loss: 0.3649, Accuracy: 0.8396\n",
      "Epoch [80/100], Loss: 0.3370, Accuracy: 0.8583\n",
      "Test Loss: 0.3443, Accuracy: 0.8694\n",
      "Epoch [81/100], Loss: 0.3326, Accuracy: 0.8290\n",
      "Test Loss: 0.3439, Accuracy: 0.8352\n",
      "Epoch [82/100], Loss: 0.3278, Accuracy: 0.8742\n",
      "Test Loss: 0.3449, Accuracy: 0.8613\n",
      "Epoch [83/100], Loss: 0.3290, Accuracy: 0.8429\n",
      "Test Loss: 0.3638, Accuracy: 0.8546\n",
      "Epoch [84/100], Loss: 0.3318, Accuracy: 0.8759\n",
      "Test Loss: 0.3491, Accuracy: 0.8474\n",
      "Epoch [85/100], Loss: 0.3278, Accuracy: 0.8246\n",
      "Test Loss: 0.3451, Accuracy: 0.8478\n",
      "Epoch [86/100], Loss: 0.3350, Accuracy: 0.8606\n",
      "Test Loss: 0.3441, Accuracy: 0.8777\n",
      "Epoch [87/100], Loss: 0.3339, Accuracy: 0.8345\n",
      "Test Loss: 0.3442, Accuracy: 0.8825\n",
      "Epoch [88/100], Loss: 0.3273, Accuracy: 0.8371\n",
      "Test Loss: 0.3466, Accuracy: 0.8483\n",
      "Epoch [89/100], Loss: 0.3297, Accuracy: 0.8358\n",
      "Test Loss: 0.3619, Accuracy: 0.8275\n",
      "Epoch [90/100], Loss: 0.3286, Accuracy: 0.8603\n",
      "Test Loss: 0.3437, Accuracy: 0.8082\n",
      "Epoch [91/100], Loss: 0.3276, Accuracy: 0.8488\n",
      "Test Loss: 0.3515, Accuracy: 0.7972\n",
      "Epoch [92/100], Loss: 0.3287, Accuracy: 0.8393\n",
      "Test Loss: 0.3449, Accuracy: 0.8115\n",
      "Epoch [93/100], Loss: 0.3278, Accuracy: 0.8246\n",
      "Test Loss: 0.3428, Accuracy: 0.8436\n",
      "Epoch [94/100], Loss: 0.3260, Accuracy: 0.8228\n",
      "Test Loss: 0.3425, Accuracy: 0.8222\n",
      "Epoch [95/100], Loss: 0.3251, Accuracy: 0.8642\n",
      "Test Loss: 0.3415, Accuracy: 0.8560\n",
      "Epoch [96/100], Loss: 0.3273, Accuracy: 0.7641\n",
      "Test Loss: 0.3389, Accuracy: 0.8261\n",
      "Epoch [97/100], Loss: 0.3258, Accuracy: 0.8796\n",
      "Test Loss: 0.3427, Accuracy: 0.8592\n",
      "Epoch [98/100], Loss: 0.3231, Accuracy: 0.9165\n",
      "Test Loss: 0.3357, Accuracy: 0.8521\n",
      "Epoch [99/100], Loss: 0.3241, Accuracy: 0.8581\n",
      "Test Loss: 0.3477, Accuracy: 0.7904\n",
      "Epoch [100/100], Loss: 0.3243, Accuracy: 0.7816\n",
      "Test Loss: 0.3445, Accuracy: 0.8157\n"
     ]
    }
   ],
   "source": [
    "device = torch.device('cuda' if torch.cuda.is_available() else 'cpu')\n",
    "\n",
    "segmentationModel = CloudSegmentationModel().to(device)\n",
    "\n",
    "# train_loader = None # Train loader for our dataset\n",
    "# test_loader = None # Test loader for our dataset\n",
    "\n",
    "# loss function and optimizer\n",
    "criterion = nn.BCELoss()\n",
    "optimizer = torch.optim.Adam(segmentationModel.parameters(), lr=0.001)\n",
    "\n",
    "# Training loop\n",
    "num_epochs = 100\n",
    "segmentationModel.train() \n",
    "\n",
    "for epoch in tqdm(range(num_epochs)):\n",
    "    running_loss = 0\n",
    "\n",
    "    segmentationModel.train()\n",
    "    for superpixel, label in train_loader:\n",
    "        superpixel = superpixel.to(device)\n",
    "        label = label.to(device)\n",
    "\n",
    "        # Forward pass\n",
    "        output = segmentationModel(superpixel)\n",
    "        loss = criterion(output, label)\n",
    "\n",
    "        # Backward pass and optimization\n",
    "        optimizer.zero_grad()\n",
    "        loss.backward()\n",
    "        optimizer.step()\n",
    "\n",
    "        running_loss += loss.item()\n",
    "\n",
    "        ## Calculate accuracy\n",
    "        predicted = torch.round(output)\n",
    "        correct = (predicted == label).sum().item()\n",
    "        total = label.size(0) * label.size(1) * label.size(2)\n",
    "        accuracy = correct / total\n",
    "\n",
    "\n",
    "    # Print epoch statistics\n",
    "    epoch_loss = running_loss / len(train_loader)\n",
    "    print(f'Epoch [{epoch+1}/{num_epochs}], Loss: {epoch_loss:.4f}, Accuracy: {accuracy:.4f}')\n",
    "\n",
    "    # Evaluation\n",
    "    segmentationModel.eval()\n",
    "    test_loss = 0\n",
    "\n",
    "    with torch.no_grad():\n",
    "        for superpixel, label in test_loader:\n",
    "            superpixel = superpixel.to(device)\n",
    "            label = label.to(device)\n",
    "\n",
    "            output = segmentationModel(superpixel)\n",
    "            test_loss += criterion(output, label).item()\n",
    "\n",
    "            ## Calculate accuracy\n",
    "            predicted = torch.round(output)\n",
    "            correct = (predicted == label).sum().item()\n",
    "            total = label.size(0) * label.size(1) * label.size(2)\n",
    "            accuracy = correct / total\n",
    "\n",
    "\n",
    "    test_loss /= len(test_loader)\n",
    "    ## Print loss and accuracy\n",
    "    print(f'Test Loss: {test_loss:.4f}, Accuracy: {accuracy:.4f}')\n"
   ]
  },
  {
   "cell_type": "code",
   "execution_count": null,
   "metadata": {},
   "outputs": [],
   "source": []
  }
 ],
 "metadata": {
  "kernelspec": {
   "display_name": "Python 3",
   "language": "python",
   "name": "python3"
  },
  "language_info": {
   "codemirror_mode": {
    "name": "ipython",
    "version": 3
   },
   "file_extension": ".py",
   "mimetype": "text/x-python",
   "name": "python",
   "nbconvert_exporter": "python",
   "pygments_lexer": "ipython3",
   "version": "3.8.8"
  },
  "orig_nbformat": 4
 },
 "nbformat": 4,
 "nbformat_minor": 2
}
