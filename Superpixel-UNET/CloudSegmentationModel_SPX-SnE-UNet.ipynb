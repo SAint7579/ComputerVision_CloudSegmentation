{
 "cells": [
  {
   "cell_type": "code",
   "execution_count": 84,
   "metadata": {},
   "outputs": [],
   "source": [
    "import numpy as np\n",
    "import torch\n",
    "from torch.utils.data import Dataset, DataLoader\n",
    "import torch.nn as nn\n",
    "import torch.nn.functional as F\n",
    "import pytorch_lightning as pl\n",
    "\n",
    "\n",
    "import sys\n",
    "sys.path.append('../Utilities/')\n",
    "\n",
    "from tqdm.notebook import tqdm\n",
    "\n",
    "import importlib\n",
    "import data_utils\n",
    "importlib.reload(data_utils)\n",
    "\n",
    "## Import MDS from sklearn\n",
    "from sklearn.manifold import MDS\n",
    "from sklearn.metrics import accuracy_score, f1_score\n",
    "mds = MDS(n_components=1, random_state=0, normalized_stress='auto')"
   ]
  },
  {
   "cell_type": "code",
   "execution_count": 3,
   "metadata": {},
   "outputs": [],
   "source": [
    "class SqueezeExciteBlock(nn.Module):\n",
    "    def __init__(self, in_channels, reduction_ratio=16):\n",
    "        super(SqueezeExciteBlock, self).__init__()\n",
    "        self.avg_pool = nn.AdaptiveAvgPool1d(1)\n",
    "        self.fc1 = nn.Linear(in_channels, in_channels // reduction_ratio)\n",
    "        self.fc2 = nn.Linear(in_channels // reduction_ratio, in_channels)\n",
    "        self.relu = nn.ReLU()\n",
    "        self.sigmoid = nn.Sigmoid()\n",
    "\n",
    "    def forward(self, x):\n",
    "        x_se = self.avg_pool(x)\n",
    "        x_se = torch.flatten(x_se, 1)\n",
    "        x_se = self.fc1(x_se)\n",
    "        x_se = self.relu(x_se)\n",
    "        x_se = self.fc2(x_se)\n",
    "        x_se = self.sigmoid(x_se)\n",
    "        x_se = x_se.unsqueeze(2)\n",
    "        return x * x_se"
   ]
  },
  {
   "cell_type": "code",
   "execution_count": 4,
   "metadata": {},
   "outputs": [
    {
     "name": "stdout",
     "output_type": "stream",
     "text": [
      "UNet1D_sne(\n",
      "  (encoder): ModuleList(\n",
      "    (0): Sequential(\n",
      "      (0): Conv1d(6, 32, kernel_size=(5,), stride=(1,), padding=(2,))\n",
      "      (1): ReLU()\n",
      "      (2): SqueezeExciteBlock(\n",
      "        (avg_pool): AdaptiveAvgPool1d(output_size=1)\n",
      "        (fc1): Linear(in_features=32, out_features=2, bias=True)\n",
      "        (fc2): Linear(in_features=2, out_features=32, bias=True)\n",
      "        (relu): ReLU()\n",
      "        (sigmoid): Sigmoid()\n",
      "      )\n",
      "    )\n",
      "    (1): Sequential(\n",
      "      (0): Conv1d(32, 64, kernel_size=(5,), stride=(1,), padding=(2,))\n",
      "      (1): ReLU()\n",
      "      (2): SqueezeExciteBlock(\n",
      "        (avg_pool): AdaptiveAvgPool1d(output_size=1)\n",
      "        (fc1): Linear(in_features=64, out_features=4, bias=True)\n",
      "        (fc2): Linear(in_features=4, out_features=64, bias=True)\n",
      "        (relu): ReLU()\n",
      "        (sigmoid): Sigmoid()\n",
      "      )\n",
      "    )\n",
      "    (2): Sequential(\n",
      "      (0): Conv1d(64, 128, kernel_size=(5,), stride=(1,), padding=(2,))\n",
      "      (1): ReLU()\n",
      "      (2): SqueezeExciteBlock(\n",
      "        (avg_pool): AdaptiveAvgPool1d(output_size=1)\n",
      "        (fc1): Linear(in_features=128, out_features=8, bias=True)\n",
      "        (fc2): Linear(in_features=8, out_features=128, bias=True)\n",
      "        (relu): ReLU()\n",
      "        (sigmoid): Sigmoid()\n",
      "      )\n",
      "    )\n",
      "  )\n",
      "  (decoder): ModuleList(\n",
      "    (0): ModuleList(\n",
      "      (0): ConvTranspose1d(256, 128, kernel_size=(2,), stride=(2,))\n",
      "      (1): Conv1d(256, 128, kernel_size=(5,), stride=(1,), padding=(2,))\n",
      "      (2): ReLU()\n",
      "      (3): SqueezeExciteBlock(\n",
      "        (avg_pool): AdaptiveAvgPool1d(output_size=1)\n",
      "        (fc1): Linear(in_features=128, out_features=8, bias=True)\n",
      "        (fc2): Linear(in_features=8, out_features=128, bias=True)\n",
      "        (relu): ReLU()\n",
      "        (sigmoid): Sigmoid()\n",
      "      )\n",
      "    )\n",
      "    (1): ModuleList(\n",
      "      (0): ConvTranspose1d(128, 64, kernel_size=(2,), stride=(2,))\n",
      "      (1): Conv1d(128, 64, kernel_size=(5,), stride=(1,), padding=(2,))\n",
      "      (2): ReLU()\n",
      "      (3): SqueezeExciteBlock(\n",
      "        (avg_pool): AdaptiveAvgPool1d(output_size=1)\n",
      "        (fc1): Linear(in_features=64, out_features=4, bias=True)\n",
      "        (fc2): Linear(in_features=4, out_features=64, bias=True)\n",
      "        (relu): ReLU()\n",
      "        (sigmoid): Sigmoid()\n",
      "      )\n",
      "    )\n",
      "    (2): ModuleList(\n",
      "      (0): ConvTranspose1d(64, 32, kernel_size=(2,), stride=(2,))\n",
      "      (1): Conv1d(64, 32, kernel_size=(5,), stride=(1,), padding=(2,))\n",
      "      (2): ReLU()\n",
      "      (3): SqueezeExciteBlock(\n",
      "        (avg_pool): AdaptiveAvgPool1d(output_size=1)\n",
      "        (fc1): Linear(in_features=32, out_features=2, bias=True)\n",
      "        (fc2): Linear(in_features=2, out_features=32, bias=True)\n",
      "        (relu): ReLU()\n",
      "        (sigmoid): Sigmoid()\n",
      "      )\n",
      "    )\n",
      "  )\n",
      "  (bottleneck): Sequential(\n",
      "    (0): Conv1d(128, 256, kernel_size=(1,), stride=(1,))\n",
      "    (1): ReLU()\n",
      "  )\n",
      "  (logits): Conv1d(32, 1, kernel_size=(1,), stride=(1,))\n",
      ")\n"
     ]
    }
   ],
   "source": [
    "class UNet1D_sne(nn.Module):\n",
    "    def __init__(self, in_channels, out_channels, depth=2, num_layers=2):\n",
    "        super(UNet1D_sne, self).__init__()\n",
    "\n",
    "        self.in_channels = in_channels\n",
    "        self.out_channels = out_channels\n",
    "        self.num_layers = num_layers\n",
    "        self.depth = depth\n",
    "        self.encoder = nn.ModuleList()\n",
    "        self.decoder = nn.ModuleList()\n",
    "        self.num_start_filters = 32\n",
    "\n",
    "        self._create_unet(self.in_channels, self.num_start_filters)\n",
    "\n",
    "        self.encoder_output_shape = int(np.floor(300/(2**depth)))\n",
    "        self.encoder_feature_maps = int(self.num_start_filters * 2 ** (self.depth - 1))\n",
    "\n",
    "        self.bottleneck = nn.Sequential(\n",
    "            nn.Conv1d(self.encoder_feature_maps, 2 * self.encoder_feature_maps, kernel_size=1, padding=0),\n",
    "            nn.ReLU()\n",
    "        )\n",
    "\n",
    "        self.logits = nn.Conv1d(self.num_start_filters, self.out_channels, 1, 1)\n",
    "\n",
    "    def _create_encoder_block(self, in_channels, out_channels):\n",
    "        return nn.Sequential(\n",
    "            nn.Conv1d(in_channels, out_channels, kernel_size=5, padding=2),\n",
    "            nn.ReLU(),\n",
    "            SqueezeExciteBlock(out_channels)\n",
    "        )\n",
    "\n",
    "    def _create_decoder_block(self, in_channels, out_channels):\n",
    "        return nn.ModuleList(\n",
    "            [nn.ConvTranspose1d(in_channels, in_channels//2, kernel_size=2, stride=2),\n",
    "            nn.Conv1d(in_channels, out_channels, kernel_size=5, padding=2),\n",
    "            nn.ReLU(),\n",
    "            SqueezeExciteBlock(out_channels)])\n",
    "\n",
    "    def _create_unet(self, in_channels, out_channels):\n",
    "        for _ in range(self.depth):\n",
    "            self.encoder.append(self._create_encoder_block(in_channels, out_channels))\n",
    "            in_channels, out_channels = out_channels, out_channels*2\n",
    "\n",
    "        out_channels = in_channels\n",
    "        in_channels = in_channels * 2\n",
    "        for _ in range(self.depth):\n",
    "            self.decoder.append(self._create_decoder_block(in_channels, out_channels))\n",
    "            in_channels, out_channels = out_channels, out_channels//2\n",
    "\n",
    "    def forward(self, x):\n",
    "        encoded = []\n",
    "        for enc in self.encoder:\n",
    "            x = enc(x)\n",
    "            encoded.append(x)\n",
    "            x = nn.MaxPool1d(kernel_size=2, stride=2)(x)\n",
    "            \n",
    "        x = self.bottleneck(x)  # Bottleneck layer\n",
    "        # x = torch.reshape(x, (-1, self.encoder_feature_maps*2, self.encoder_output_shape))\n",
    "\n",
    "\n",
    "        for dec in self.decoder:\n",
    "            ## Adding input with encoder concatenation\n",
    "            enc_output = encoded.pop()\n",
    "            x = dec[0](x)\n",
    "            ## Pad the decoder output to match the encoder output\n",
    "            diff = enc_output.shape[2] - x.shape[2]\n",
    "            x = F.pad(x, (diff // 2, diff - diff // 2))\n",
    "            x = torch.cat((enc_output, x), dim=1)\n",
    "            x = dec[1](x)\n",
    "            x = dec[2](x)\n",
    "        ## Add softmax to logits\n",
    "        # x = self.softmax(x)\n",
    "\n",
    "        return self.logits(x)\n",
    "\n",
    "input_channels = 6 \n",
    "output_channels = 1\n",
    "depth = 3\n",
    "num_layers = 2\n",
    "\n",
    "model = UNet1D_sne(input_channels, output_channels, depth, num_layers)\n",
    "# print(model)"
   ]
  },
  {
   "cell_type": "code",
   "execution_count": 5,
   "metadata": {},
   "outputs": [],
   "source": [
    "def count_parameters(model):\n",
    "    return sum(p.numel() for p in model.parameters())"
   ]
  },
  {
   "cell_type": "code",
   "execution_count": 6,
   "metadata": {},
   "outputs": [
    {
     "name": "stdout",
     "output_type": "stream",
     "text": [
      "Input shape: torch.Size([1, 6, 300])\n",
      "Output shape: torch.Size([1, 1, 300])\n"
     ]
    }
   ],
   "source": [
    "# Generate synthetic data\n",
    "num_superpixels = 300\n",
    "num_features = 6\n",
    "synthetic_data = np.random.rand(num_superpixels, num_features)\n",
    "synthetic_data = torch.tensor(synthetic_data, dtype=torch.float32)\n",
    "\n",
    "#Reshape\n",
    "synthetic_data = synthetic_data.unsqueeze(0).transpose(1, 2)\n",
    "\n",
    "# Pass the synthetic data through the U-Net model\n",
    "with torch.no_grad():\n",
    "    output = model(synthetic_data)\n",
    "\n",
    "print(\"Input shape:\", synthetic_data.shape)\n",
    "print(\"Output shape:\", output.shape)"
   ]
  },
  {
   "cell_type": "markdown",
   "metadata": {},
   "source": [
    "### Creating LightningModule "
   ]
  },
  {
   "cell_type": "code",
   "execution_count": 7,
   "metadata": {},
   "outputs": [],
   "source": [
    "class DiceBCELoss(nn.Module):\n",
    "    def __init__(self, weight=None, size_average=True):\n",
    "        super(DiceBCELoss, self).__init__()\n",
    "\n",
    "    def forward(self, inputs, targets, smooth=1):\n",
    "        \n",
    "        #comment out if your model contains a sigmoid or equivalent activation layer\n",
    "        inputs = F.sigmoid(inputs)       \n",
    "        \n",
    "        #flatten label and prediction tensors\n",
    "        inputs = inputs.view(-1)\n",
    "        targets = targets.view(-1)\n",
    "        \n",
    "        intersection = (inputs * targets).sum()                            \n",
    "        dice_loss = 1 - (2.*intersection + smooth)/(inputs.sum() + targets.sum() + smooth)  \n",
    "        BCE = F.binary_cross_entropy(inputs, targets, reduction='mean')\n",
    "        Dice_BCE = dice_loss + BCE\n",
    "        \n",
    "        return Dice_BCE"
   ]
  },
  {
   "cell_type": "code",
   "execution_count": 8,
   "metadata": {},
   "outputs": [],
   "source": [
    "class CloudSegmentationModel(pl.LightningModule):\n",
    "    def __init__(self, depth=2):\n",
    "        super(CloudSegmentationModel, self).__init__()\n",
    "        self.unet = UNet1D_sne(in_channels=6, out_channels=1, depth=depth)\n",
    "        \n",
    "    def forward(self, x):\n",
    "        return nn.Sigmoid()(self.unet(x))\n",
    "\n",
    "    def accuracy_score(self, y_true, y_pred):\n",
    "        y_true = y_true.cpu().detach().numpy()\n",
    "        y_pred = y_pred.cpu().detach().numpy()\n",
    "        y_pred = np.where(y_pred > 0.5, 1, 0)\n",
    "        return accuracy_score(y_true, y_pred)\n",
    "\n",
    "    def training_step(self, batch, batch_idx):\n",
    "        superpixel, label = batch\n",
    "        output = self(superpixel)\n",
    "        loss = nn.BCELoss()(output, label)\n",
    "\n",
    "        # Calculate accuracy\n",
    "        predicted = torch.round(output)\n",
    "        correct = (predicted == label).sum().item()\n",
    "        total = label.size(0) * label.size(1) * label.size(2)\n",
    "        accuracy = correct / total\n",
    "\n",
    "        self.log('train_loss', loss, on_step=False, on_epoch=True)\n",
    "        self.log('train_accuracy', accuracy, on_step=False, on_epoch=True)\n",
    "        return loss\n",
    "\n",
    "    def validation_step(self, batch, batch_idx):\n",
    "        superpixel, label = batch\n",
    "        output = self(superpixel)\n",
    "        loss = nn.BCELoss()(output, label)\n",
    "\n",
    "        # Calculate accuracy\n",
    "        predicted = torch.round(output)\n",
    "        correct = (predicted == label).sum().item()\n",
    "        total = label.size(0) * label.size(1) * label.size(2)\n",
    "        accuracy = correct / total\n",
    "\n",
    "        self.log('val_loss', loss, on_step=False, on_epoch=True)\n",
    "        self.log('val_accuracy', accuracy, on_step=False, on_epoch=True)\n",
    "\n",
    "\n",
    "    def configure_optimizers(self):\n",
    "        return torch.optim.Adam(self.parameters(), lr=0.001)"
   ]
  },
  {
   "cell_type": "code",
   "execution_count": 66,
   "metadata": {},
   "outputs": [
    {
     "name": "stdout",
     "output_type": "stream",
     "text": [
      "Parameters:  102079037\n",
      "Input shape: torch.Size([1, 6, 300])\n",
      "Output shape: torch.Size([1, 1, 300])\n"
     ]
    }
   ],
   "source": [
    "model = CloudSegmentationModel(depth=7)\n",
    "print(\"Parameters: \",count_parameters(model))\n",
    "\n",
    "with torch.no_grad():\n",
    "    output = model(synthetic_data)\n",
    "\n",
    "print(\"Input shape:\", synthetic_data.shape)\n",
    "print(\"Output shape:\", output.shape)"
   ]
  },
  {
   "cell_type": "markdown",
   "metadata": {},
   "source": [
    "### Creating Dataset"
   ]
  },
  {
   "cell_type": "code",
   "execution_count": 10,
   "metadata": {},
   "outputs": [
    {
     "name": "stderr",
     "output_type": "stream",
     "text": [
      "c:\\Users\\GP65\\anaconda3\\lib\\site-packages\\rasterio\\__init__.py:333: NotGeoreferencedWarning: Dataset has no geotransform, gcps, or rpcs. The identity matrix will be returned.\n",
      "  dataset = DatasetReader(path, driver=driver, sharing=sharing, **kwargs)\n"
     ]
    }
   ],
   "source": [
    "patches,mask = data_utils.get_patch(path_to_folders_images = \"../Dataset/Natural_False_Color/\", path_to_folders_labels = \"../Dataset/Entire_scene_gts/\")"
   ]
  },
  {
   "cell_type": "code",
   "execution_count": 13,
   "metadata": {},
   "outputs": [],
   "source": [
    "# np.save('../Dataset/X.npy', np.array(X))\n",
    "# np.save('../Dataset/Y.npy', np.array(y))\n",
    "# np.save('../Dataset/raw.npy', np.array(raw))\n",
    "# np.save('../Dataset/slic_map.npy', np.array(slic_map))\n",
    "# np.save('../Dataset/original_ordering.npy', np.array(original_ordering))\n",
    "\n",
    "\n",
    "X = np.load('../Dataset/X.npy')\n",
    "y = np.load('../Dataset/Y.npy')\n",
    "raw = np.load('../Dataset/raw.npy')\n",
    "slic_map = np.load('../Dataset/slic_map.npy')\n",
    "original_ordering = np.load('../Dataset/original_ordering.npy', allow_pickle=True)"
   ]
  },
  {
   "cell_type": "code",
   "execution_count": 14,
   "metadata": {},
   "outputs": [],
   "source": [
    "class CustomDataset(Dataset):\n",
    "    def __init__(self, X, y):\n",
    "        self.X = X\n",
    "        self.y = y\n",
    "\n",
    "    def __len__(self):\n",
    "        return len(self.X)\n",
    "\n",
    "    def __getitem__(self, idx):\n",
    "        x_item = torch.tensor(self.X[idx], dtype=torch.float32).T\n",
    "        y_item = torch.tensor(self.y[idx], dtype=torch.float32).T\n",
    "        return x_item, y_item\n",
    "\n",
    "def create_dataloader(X, y, batch_size=32, shuffle=True):\n",
    "    dataset = CustomDataset(X, y)\n",
    "    dataloader = DataLoader(dataset, batch_size=batch_size, shuffle=shuffle)\n",
    "    return dataloader"
   ]
  },
  {
   "cell_type": "code",
   "execution_count": 26,
   "metadata": {},
   "outputs": [],
   "source": [
    "## Divide X and Y into train and test sets\n",
    "np.random.seed(42)\n",
    "test_index = np.random.choice(range(len(X)), size=200, replace=False)\n",
    "train_index = [i for i in range(len(X)) if i not in test_index]\n",
    "\n",
    "X_train = X[train_index]\n",
    "X_test = X[test_index]\n",
    "y_train = y[train_index]\n",
    "y_test = y[test_index]"
   ]
  },
  {
   "cell_type": "code",
   "execution_count": 27,
   "metadata": {},
   "outputs": [],
   "source": [
    "train_loader = create_dataloader(X_train,y_train,batch_size=64,shuffle=True)\n",
    "test_loader = create_dataloader(X_test,y_test,batch_size=64,shuffle=True)"
   ]
  },
  {
   "cell_type": "markdown",
   "metadata": {},
   "source": [
    "## Training with PL"
   ]
  },
  {
   "cell_type": "code",
   "execution_count": 17,
   "metadata": {},
   "outputs": [],
   "source": [
    "import matplotlib.pyplot as plt\n",
    "from pytorch_lightning import Trainer\n",
    "from pytorch_lightning.callbacks import EarlyStopping, ModelCheckpoint\n",
    "from pytorch_lightning.callbacks.progress import TQDMProgressBar\n",
    "from pytorch_lightning.loggers import TensorBoardLogger"
   ]
  },
  {
   "cell_type": "code",
   "execution_count": 74,
   "metadata": {},
   "outputs": [],
   "source": [
    "# Initialize the model and trainer\n",
    "segmentationModel = CloudSegmentationModel(depth=2)"
   ]
  },
  {
   "cell_type": "code",
   "execution_count": 32,
   "metadata": {},
   "outputs": [],
   "source": [
    "logger = TensorBoardLogger('lightning_logs/', name='sgd_tagger_sne')"
   ]
  },
  {
   "cell_type": "code",
   "execution_count": 33,
   "metadata": {},
   "outputs": [],
   "source": [
    "checkpoint_callback = ModelCheckpoint(\n",
    "    dirpath = './sne_model_checkpt/',\n",
    "    filename = 'best-checkpoint',\n",
    "    save_top_k=1,\n",
    "    verbose = True,\n",
    "    monitor='val_loss',\n",
    "    mode='min'\n",
    ")"
   ]
  },
  {
   "cell_type": "code",
   "execution_count": 34,
   "metadata": {},
   "outputs": [
    {
     "name": "stderr",
     "output_type": "stream",
     "text": [
      "GPU available: True (cuda), used: True\n",
      "TPU available: False, using: 0 TPU cores\n",
      "IPU available: False, using: 0 IPUs\n",
      "HPU available: False, using: 0 HPUs\n",
      "c:\\Users\\GP65\\anaconda3\\lib\\site-packages\\pytorch_lightning\\callbacks\\model_checkpoint.py:616: UserWarning: Checkpoint directory D:\\Projects\\ComputerVision_CloudSegmentation\\Superpixel-UNET\\sne_model_checkpt exists and is not empty.\n",
      "  rank_zero_warn(f\"Checkpoint directory {dirpath} exists and is not empty.\")\n",
      "LOCAL_RANK: 0 - CUDA_VISIBLE_DEVICES: [0]\n",
      "\n",
      "  | Name | Type   | Params\n",
      "--------------------------------\n",
      "0 | unet | UNet1D | 392 K \n",
      "--------------------------------\n",
      "392 K     Trainable params\n",
      "0         Non-trainable params\n",
      "392 K     Total params\n",
      "1.571     Total estimated model params size (MB)\n"
     ]
    },
    {
     "name": "stdout",
     "output_type": "stream",
     "text": [
      "                                                                           "
     ]
    },
    {
     "name": "stderr",
     "output_type": "stream",
     "text": [
      "c:\\Users\\GP65\\anaconda3\\lib\\site-packages\\pytorch_lightning\\trainer\\connectors\\data_connector.py:489: PossibleUserWarning: Your `val_dataloader`'s sampler has shuffling enabled, it is strongly recommended that you turn shuffling off for val/test/predict dataloaders.\n",
      "  rank_zero_warn(\n",
      "c:\\Users\\GP65\\anaconda3\\lib\\site-packages\\pytorch_lightning\\trainer\\connectors\\data_connector.py:236: PossibleUserWarning: The dataloader, val_dataloader 0, does not have many workers which may be a bottleneck. Consider increasing the value of the `num_workers` argument` (try 12 which is the number of cpus on this machine) in the `DataLoader` init to improve performance.\n",
      "  rank_zero_warn(\n",
      "c:\\Users\\GP65\\anaconda3\\lib\\site-packages\\pytorch_lightning\\trainer\\connectors\\data_connector.py:236: PossibleUserWarning: The dataloader, train_dataloader, does not have many workers which may be a bottleneck. Consider increasing the value of the `num_workers` argument` (try 12 which is the number of cpus on this machine) in the `DataLoader` init to improve performance.\n",
      "  rank_zero_warn(\n",
      "c:\\Users\\GP65\\anaconda3\\lib\\site-packages\\pytorch_lightning\\trainer\\trainer.py:1892: PossibleUserWarning: The number of training batches (20) is smaller than the logging interval Trainer(log_every_n_steps=50). Set a lower value for log_every_n_steps if you want to see logs for the training epoch.\n",
      "  rank_zero_warn(\n"
     ]
    },
    {
     "name": "stdout",
     "output_type": "stream",
     "text": [
      "Epoch 0: 100%|██████████| 24/24 [00:00<00:00, 38.20it/s, loss=0.658, v_num=1]"
     ]
    },
    {
     "name": "stderr",
     "output_type": "stream",
     "text": [
      "Epoch 0, global step 20: 'val_loss' reached 0.59129 (best 0.59129), saving model to 'D:\\\\Projects\\\\ComputerVision_CloudSegmentation\\\\Superpixel-UNET\\\\sne_model_checkpt\\\\best-checkpoint-v1.ckpt' as top 1\n"
     ]
    },
    {
     "name": "stdout",
     "output_type": "stream",
     "text": [
      "Epoch 1: 100%|██████████| 24/24 [00:00<00:00, 62.51it/s, loss=0.578, v_num=1]"
     ]
    },
    {
     "name": "stderr",
     "output_type": "stream",
     "text": [
      "Epoch 1, global step 40: 'val_loss' reached 0.51905 (best 0.51905), saving model to 'D:\\\\Projects\\\\ComputerVision_CloudSegmentation\\\\Superpixel-UNET\\\\sne_model_checkpt\\\\best-checkpoint-v1.ckpt' as top 1\n"
     ]
    },
    {
     "name": "stdout",
     "output_type": "stream",
     "text": [
      "Epoch 2: 100%|██████████| 24/24 [00:00<00:00, 58.47it/s, loss=0.525, v_num=1]"
     ]
    },
    {
     "name": "stderr",
     "output_type": "stream",
     "text": [
      "Epoch 2, global step 60: 'val_loss' reached 0.47442 (best 0.47442), saving model to 'D:\\\\Projects\\\\ComputerVision_CloudSegmentation\\\\Superpixel-UNET\\\\sne_model_checkpt\\\\best-checkpoint-v1.ckpt' as top 1\n"
     ]
    },
    {
     "name": "stdout",
     "output_type": "stream",
     "text": [
      "Epoch 3: 100%|██████████| 24/24 [00:00<00:00, 56.00it/s, loss=0.506, v_num=1]"
     ]
    },
    {
     "name": "stderr",
     "output_type": "stream",
     "text": [
      "Epoch 3, global step 80: 'val_loss' reached 0.46974 (best 0.46974), saving model to 'D:\\\\Projects\\\\ComputerVision_CloudSegmentation\\\\Superpixel-UNET\\\\sne_model_checkpt\\\\best-checkpoint-v1.ckpt' as top 1\n"
     ]
    },
    {
     "name": "stdout",
     "output_type": "stream",
     "text": [
      "Epoch 4: 100%|██████████| 24/24 [00:00<00:00, 54.79it/s, loss=0.513, v_num=1]"
     ]
    },
    {
     "name": "stderr",
     "output_type": "stream",
     "text": [
      "Epoch 4, global step 100: 'val_loss' was not in top 1\n"
     ]
    },
    {
     "name": "stdout",
     "output_type": "stream",
     "text": [
      "Epoch 5: 100%|██████████| 24/24 [00:00<00:00, 53.33it/s, loss=0.503, v_num=1]"
     ]
    },
    {
     "name": "stderr",
     "output_type": "stream",
     "text": [
      "Epoch 5, global step 120: 'val_loss' reached 0.45530 (best 0.45530), saving model to 'D:\\\\Projects\\\\ComputerVision_CloudSegmentation\\\\Superpixel-UNET\\\\sne_model_checkpt\\\\best-checkpoint-v1.ckpt' as top 1\n"
     ]
    },
    {
     "name": "stdout",
     "output_type": "stream",
     "text": [
      "Epoch 6: 100%|██████████| 24/24 [00:00<00:00, 56.47it/s, loss=0.488, v_num=1]"
     ]
    },
    {
     "name": "stderr",
     "output_type": "stream",
     "text": [
      "Epoch 6, global step 140: 'val_loss' reached 0.44945 (best 0.44945), saving model to 'D:\\\\Projects\\\\ComputerVision_CloudSegmentation\\\\Superpixel-UNET\\\\sne_model_checkpt\\\\best-checkpoint-v1.ckpt' as top 1\n"
     ]
    },
    {
     "name": "stdout",
     "output_type": "stream",
     "text": [
      "Epoch 7: 100%|██████████| 24/24 [00:00<00:00, 56.74it/s, loss=0.482, v_num=1]"
     ]
    },
    {
     "name": "stderr",
     "output_type": "stream",
     "text": [
      "Epoch 7, global step 160: 'val_loss' reached 0.44083 (best 0.44083), saving model to 'D:\\\\Projects\\\\ComputerVision_CloudSegmentation\\\\Superpixel-UNET\\\\sne_model_checkpt\\\\best-checkpoint-v1.ckpt' as top 1\n"
     ]
    },
    {
     "name": "stdout",
     "output_type": "stream",
     "text": [
      "Epoch 8: 100%|██████████| 24/24 [00:00<00:00, 56.07it/s, loss=0.47, v_num=1] "
     ]
    },
    {
     "name": "stderr",
     "output_type": "stream",
     "text": [
      "Epoch 8, global step 180: 'val_loss' reached 0.43768 (best 0.43768), saving model to 'D:\\\\Projects\\\\ComputerVision_CloudSegmentation\\\\Superpixel-UNET\\\\sne_model_checkpt\\\\best-checkpoint-v1.ckpt' as top 1\n"
     ]
    },
    {
     "name": "stdout",
     "output_type": "stream",
     "text": [
      "Epoch 9: 100%|██████████| 24/24 [00:00<00:00, 58.68it/s, loss=0.456, v_num=1]"
     ]
    },
    {
     "name": "stderr",
     "output_type": "stream",
     "text": [
      "Epoch 9, global step 200: 'val_loss' reached 0.43125 (best 0.43125), saving model to 'D:\\\\Projects\\\\ComputerVision_CloudSegmentation\\\\Superpixel-UNET\\\\sne_model_checkpt\\\\best-checkpoint-v1.ckpt' as top 1\n"
     ]
    },
    {
     "name": "stdout",
     "output_type": "stream",
     "text": [
      "Epoch 10: 100%|██████████| 24/24 [00:00<00:00, 55.39it/s, loss=0.453, v_num=1]"
     ]
    },
    {
     "name": "stderr",
     "output_type": "stream",
     "text": [
      "Epoch 10, global step 220: 'val_loss' was not in top 1\n"
     ]
    },
    {
     "name": "stdout",
     "output_type": "stream",
     "text": [
      "Epoch 11: 100%|██████████| 24/24 [00:00<00:00, 57.88it/s, loss=0.446, v_num=1]"
     ]
    },
    {
     "name": "stderr",
     "output_type": "stream",
     "text": [
      "Epoch 11, global step 240: 'val_loss' reached 0.42605 (best 0.42605), saving model to 'D:\\\\Projects\\\\ComputerVision_CloudSegmentation\\\\Superpixel-UNET\\\\sne_model_checkpt\\\\best-checkpoint-v1.ckpt' as top 1\n"
     ]
    },
    {
     "name": "stdout",
     "output_type": "stream",
     "text": [
      "Epoch 12: 100%|██████████| 24/24 [00:00<00:00, 54.77it/s, loss=0.438, v_num=1]"
     ]
    },
    {
     "name": "stderr",
     "output_type": "stream",
     "text": [
      "Epoch 12, global step 260: 'val_loss' reached 0.41635 (best 0.41635), saving model to 'D:\\\\Projects\\\\ComputerVision_CloudSegmentation\\\\Superpixel-UNET\\\\sne_model_checkpt\\\\best-checkpoint-v1.ckpt' as top 1\n"
     ]
    },
    {
     "name": "stdout",
     "output_type": "stream",
     "text": [
      "Epoch 13: 100%|██████████| 24/24 [00:00<00:00, 55.43it/s, loss=0.428, v_num=1]"
     ]
    },
    {
     "name": "stderr",
     "output_type": "stream",
     "text": [
      "Epoch 13, global step 280: 'val_loss' reached 0.41035 (best 0.41035), saving model to 'D:\\\\Projects\\\\ComputerVision_CloudSegmentation\\\\Superpixel-UNET\\\\sne_model_checkpt\\\\best-checkpoint-v1.ckpt' as top 1\n"
     ]
    },
    {
     "name": "stdout",
     "output_type": "stream",
     "text": [
      "Epoch 14: 100%|██████████| 24/24 [00:00<00:00, 54.05it/s, loss=0.419, v_num=1]"
     ]
    },
    {
     "name": "stderr",
     "output_type": "stream",
     "text": [
      "Epoch 14, global step 300: 'val_loss' reached 0.40119 (best 0.40119), saving model to 'D:\\\\Projects\\\\ComputerVision_CloudSegmentation\\\\Superpixel-UNET\\\\sne_model_checkpt\\\\best-checkpoint-v1.ckpt' as top 1\n"
     ]
    },
    {
     "name": "stdout",
     "output_type": "stream",
     "text": [
      "Epoch 15: 100%|██████████| 24/24 [00:00<00:00, 53.43it/s, loss=0.41, v_num=1] "
     ]
    },
    {
     "name": "stderr",
     "output_type": "stream",
     "text": [
      "Epoch 15, global step 320: 'val_loss' reached 0.39494 (best 0.39494), saving model to 'D:\\\\Projects\\\\ComputerVision_CloudSegmentation\\\\Superpixel-UNET\\\\sne_model_checkpt\\\\best-checkpoint-v1.ckpt' as top 1\n"
     ]
    },
    {
     "name": "stdout",
     "output_type": "stream",
     "text": [
      "Epoch 16: 100%|██████████| 24/24 [00:00<00:00, 58.97it/s, loss=0.401, v_num=1]"
     ]
    },
    {
     "name": "stderr",
     "output_type": "stream",
     "text": [
      "Epoch 16, global step 340: 'val_loss' reached 0.38255 (best 0.38255), saving model to 'D:\\\\Projects\\\\ComputerVision_CloudSegmentation\\\\Superpixel-UNET\\\\sne_model_checkpt\\\\best-checkpoint-v1.ckpt' as top 1\n"
     ]
    },
    {
     "name": "stdout",
     "output_type": "stream",
     "text": [
      "Epoch 17: 100%|██████████| 24/24 [00:00<00:00, 57.28it/s, loss=0.392, v_num=1]"
     ]
    },
    {
     "name": "stderr",
     "output_type": "stream",
     "text": [
      "Epoch 17, global step 360: 'val_loss' reached 0.38250 (best 0.38250), saving model to 'D:\\\\Projects\\\\ComputerVision_CloudSegmentation\\\\Superpixel-UNET\\\\sne_model_checkpt\\\\best-checkpoint-v1.ckpt' as top 1\n"
     ]
    },
    {
     "name": "stdout",
     "output_type": "stream",
     "text": [
      "Epoch 18: 100%|██████████| 24/24 [00:00<00:00, 58.97it/s, loss=0.385, v_num=1]"
     ]
    },
    {
     "name": "stderr",
     "output_type": "stream",
     "text": [
      "Epoch 18, global step 380: 'val_loss' reached 0.37758 (best 0.37758), saving model to 'D:\\\\Projects\\\\ComputerVision_CloudSegmentation\\\\Superpixel-UNET\\\\sne_model_checkpt\\\\best-checkpoint-v1.ckpt' as top 1\n"
     ]
    },
    {
     "name": "stdout",
     "output_type": "stream",
     "text": [
      "Epoch 19: 100%|██████████| 24/24 [00:00<00:00, 58.54it/s, loss=0.372, v_num=1]"
     ]
    },
    {
     "name": "stderr",
     "output_type": "stream",
     "text": [
      "Epoch 19, global step 400: 'val_loss' reached 0.36970 (best 0.36970), saving model to 'D:\\\\Projects\\\\ComputerVision_CloudSegmentation\\\\Superpixel-UNET\\\\sne_model_checkpt\\\\best-checkpoint-v1.ckpt' as top 1\n"
     ]
    },
    {
     "name": "stdout",
     "output_type": "stream",
     "text": [
      "Epoch 20: 100%|██████████| 24/24 [00:00<00:00, 58.25it/s, loss=0.366, v_num=1]"
     ]
    },
    {
     "name": "stderr",
     "output_type": "stream",
     "text": [
      "Epoch 20, global step 420: 'val_loss' reached 0.36766 (best 0.36766), saving model to 'D:\\\\Projects\\\\ComputerVision_CloudSegmentation\\\\Superpixel-UNET\\\\sne_model_checkpt\\\\best-checkpoint-v1.ckpt' as top 1\n"
     ]
    },
    {
     "name": "stdout",
     "output_type": "stream",
     "text": [
      "Epoch 21: 100%|██████████| 24/24 [00:00<00:00, 57.14it/s, loss=0.363, v_num=1]"
     ]
    },
    {
     "name": "stderr",
     "output_type": "stream",
     "text": [
      "Epoch 21, global step 440: 'val_loss' reached 0.33940 (best 0.33940), saving model to 'D:\\\\Projects\\\\ComputerVision_CloudSegmentation\\\\Superpixel-UNET\\\\sne_model_checkpt\\\\best-checkpoint-v1.ckpt' as top 1\n"
     ]
    },
    {
     "name": "stdout",
     "output_type": "stream",
     "text": [
      "Epoch 22: 100%|██████████| 24/24 [00:00<00:00, 54.17it/s, loss=0.345, v_num=1]"
     ]
    },
    {
     "name": "stderr",
     "output_type": "stream",
     "text": [
      "Epoch 22, global step 460: 'val_loss' reached 0.33548 (best 0.33548), saving model to 'D:\\\\Projects\\\\ComputerVision_CloudSegmentation\\\\Superpixel-UNET\\\\sne_model_checkpt\\\\best-checkpoint-v1.ckpt' as top 1\n"
     ]
    },
    {
     "name": "stdout",
     "output_type": "stream",
     "text": [
      "Epoch 23: 100%|██████████| 24/24 [00:00<00:00, 58.95it/s, loss=0.348, v_num=1]"
     ]
    },
    {
     "name": "stderr",
     "output_type": "stream",
     "text": [
      "Epoch 23, global step 480: 'val_loss' was not in top 1\n"
     ]
    },
    {
     "name": "stdout",
     "output_type": "stream",
     "text": [
      "Epoch 24: 100%|██████████| 24/24 [00:00<00:00, 55.43it/s, loss=0.345, v_num=1]"
     ]
    },
    {
     "name": "stderr",
     "output_type": "stream",
     "text": [
      "Epoch 24, global step 500: 'val_loss' was not in top 1\n"
     ]
    },
    {
     "name": "stdout",
     "output_type": "stream",
     "text": [
      "Epoch 25: 100%|██████████| 24/24 [00:00<00:00, 55.29it/s, loss=0.319, v_num=1]"
     ]
    },
    {
     "name": "stderr",
     "output_type": "stream",
     "text": [
      "Epoch 25, global step 520: 'val_loss' reached 0.31171 (best 0.31171), saving model to 'D:\\\\Projects\\\\ComputerVision_CloudSegmentation\\\\Superpixel-UNET\\\\sne_model_checkpt\\\\best-checkpoint-v1.ckpt' as top 1\n"
     ]
    },
    {
     "name": "stdout",
     "output_type": "stream",
     "text": [
      "Epoch 26: 100%|██████████| 24/24 [00:00<00:00, 52.57it/s, loss=0.304, v_num=1]"
     ]
    },
    {
     "name": "stderr",
     "output_type": "stream",
     "text": [
      "Epoch 26, global step 540: 'val_loss' reached 0.28950 (best 0.28950), saving model to 'D:\\\\Projects\\\\ComputerVision_CloudSegmentation\\\\Superpixel-UNET\\\\sne_model_checkpt\\\\best-checkpoint-v1.ckpt' as top 1\n"
     ]
    },
    {
     "name": "stdout",
     "output_type": "stream",
     "text": [
      "Epoch 27: 100%|██████████| 24/24 [00:00<00:00, 51.84it/s, loss=0.296, v_num=1]"
     ]
    },
    {
     "name": "stderr",
     "output_type": "stream",
     "text": [
      "Epoch 27, global step 560: 'val_loss' was not in top 1\n"
     ]
    },
    {
     "name": "stdout",
     "output_type": "stream",
     "text": [
      "Epoch 28: 100%|██████████| 24/24 [00:00<00:00, 60.61it/s, loss=0.288, v_num=1]"
     ]
    },
    {
     "name": "stderr",
     "output_type": "stream",
     "text": [
      "Epoch 28, global step 580: 'val_loss' reached 0.27736 (best 0.27736), saving model to 'D:\\\\Projects\\\\ComputerVision_CloudSegmentation\\\\Superpixel-UNET\\\\sne_model_checkpt\\\\best-checkpoint-v1.ckpt' as top 1\n"
     ]
    },
    {
     "name": "stdout",
     "output_type": "stream",
     "text": [
      "Epoch 29: 100%|██████████| 24/24 [00:00<00:00, 57.55it/s, loss=0.269, v_num=1]"
     ]
    },
    {
     "name": "stderr",
     "output_type": "stream",
     "text": [
      "Epoch 29, global step 600: 'val_loss' reached 0.25198 (best 0.25198), saving model to 'D:\\\\Projects\\\\ComputerVision_CloudSegmentation\\\\Superpixel-UNET\\\\sne_model_checkpt\\\\best-checkpoint-v1.ckpt' as top 1\n"
     ]
    },
    {
     "name": "stdout",
     "output_type": "stream",
     "text": [
      "Epoch 30: 100%|██████████| 24/24 [00:00<00:00, 53.45it/s, loss=0.269, v_num=1]"
     ]
    },
    {
     "name": "stderr",
     "output_type": "stream",
     "text": [
      "Epoch 30, global step 620: 'val_loss' was not in top 1\n"
     ]
    },
    {
     "name": "stdout",
     "output_type": "stream",
     "text": [
      "Epoch 31: 100%|██████████| 24/24 [00:00<00:00, 57.41it/s, loss=0.265, v_num=1]"
     ]
    },
    {
     "name": "stderr",
     "output_type": "stream",
     "text": [
      "Epoch 31, global step 640: 'val_loss' reached 0.24963 (best 0.24963), saving model to 'D:\\\\Projects\\\\ComputerVision_CloudSegmentation\\\\Superpixel-UNET\\\\sne_model_checkpt\\\\best-checkpoint-v1.ckpt' as top 1\n"
     ]
    },
    {
     "name": "stdout",
     "output_type": "stream",
     "text": [
      "Epoch 32: 100%|██████████| 24/24 [00:00<00:00, 56.07it/s, loss=0.259, v_num=1]"
     ]
    },
    {
     "name": "stderr",
     "output_type": "stream",
     "text": [
      "Epoch 32, global step 660: 'val_loss' reached 0.24377 (best 0.24377), saving model to 'D:\\\\Projects\\\\ComputerVision_CloudSegmentation\\\\Superpixel-UNET\\\\sne_model_checkpt\\\\best-checkpoint-v1.ckpt' as top 1\n"
     ]
    },
    {
     "name": "stdout",
     "output_type": "stream",
     "text": [
      "Epoch 33: 100%|██████████| 24/24 [00:00<00:00, 53.87it/s, loss=0.265, v_num=1]"
     ]
    },
    {
     "name": "stderr",
     "output_type": "stream",
     "text": [
      "Epoch 33, global step 680: 'val_loss' was not in top 1\n"
     ]
    },
    {
     "name": "stdout",
     "output_type": "stream",
     "text": [
      "Epoch 34: 100%|██████████| 24/24 [00:00<00:00, 56.60it/s, loss=0.267, v_num=1]"
     ]
    },
    {
     "name": "stderr",
     "output_type": "stream",
     "text": [
      "Epoch 34, global step 700: 'val_loss' was not in top 1\n"
     ]
    },
    {
     "name": "stdout",
     "output_type": "stream",
     "text": [
      "Epoch 35: 100%|██████████| 24/24 [00:00<00:00, 53.78it/s, loss=0.265, v_num=1]"
     ]
    },
    {
     "name": "stderr",
     "output_type": "stream",
     "text": [
      "Epoch 35, global step 720: 'val_loss' was not in top 1\n"
     ]
    },
    {
     "name": "stdout",
     "output_type": "stream",
     "text": [
      "Epoch 36: 100%|██████████| 24/24 [00:00<00:00, 52.72it/s, loss=0.256, v_num=1]"
     ]
    },
    {
     "name": "stderr",
     "output_type": "stream",
     "text": [
      "Epoch 36, global step 740: 'val_loss' reached 0.24079 (best 0.24079), saving model to 'D:\\\\Projects\\\\ComputerVision_CloudSegmentation\\\\Superpixel-UNET\\\\sne_model_checkpt\\\\best-checkpoint-v1.ckpt' as top 1\n"
     ]
    },
    {
     "name": "stdout",
     "output_type": "stream",
     "text": [
      "Epoch 37: 100%|██████████| 24/24 [00:00<00:00, 57.69it/s, loss=0.253, v_num=1]"
     ]
    },
    {
     "name": "stderr",
     "output_type": "stream",
     "text": [
      "Epoch 37, global step 760: 'val_loss' was not in top 1\n"
     ]
    },
    {
     "name": "stdout",
     "output_type": "stream",
     "text": [
      "Epoch 38: 100%|██████████| 24/24 [00:00<00:00, 60.61it/s, loss=0.249, v_num=1]"
     ]
    },
    {
     "name": "stderr",
     "output_type": "stream",
     "text": [
      "Epoch 38, global step 780: 'val_loss' was not in top 1\n"
     ]
    },
    {
     "name": "stdout",
     "output_type": "stream",
     "text": [
      "Epoch 39: 100%|██████████| 24/24 [00:00<00:00, 56.07it/s, loss=0.249, v_num=1]"
     ]
    },
    {
     "name": "stderr",
     "output_type": "stream",
     "text": [
      "Epoch 39, global step 800: 'val_loss' reached 0.23789 (best 0.23789), saving model to 'D:\\\\Projects\\\\ComputerVision_CloudSegmentation\\\\Superpixel-UNET\\\\sne_model_checkpt\\\\best-checkpoint-v1.ckpt' as top 1\n"
     ]
    },
    {
     "name": "stdout",
     "output_type": "stream",
     "text": [
      "Epoch 40: 100%|██████████| 24/24 [00:00<00:00, 54.49it/s, loss=0.25, v_num=1] "
     ]
    },
    {
     "name": "stderr",
     "output_type": "stream",
     "text": [
      "Epoch 40, global step 820: 'val_loss' reached 0.23288 (best 0.23288), saving model to 'D:\\\\Projects\\\\ComputerVision_CloudSegmentation\\\\Superpixel-UNET\\\\sne_model_checkpt\\\\best-checkpoint-v1.ckpt' as top 1\n"
     ]
    },
    {
     "name": "stdout",
     "output_type": "stream",
     "text": [
      "Epoch 41: 100%|██████████| 24/24 [00:00<00:00, 54.79it/s, loss=0.255, v_num=1]"
     ]
    },
    {
     "name": "stderr",
     "output_type": "stream",
     "text": [
      "Epoch 41, global step 840: 'val_loss' was not in top 1\n"
     ]
    },
    {
     "name": "stdout",
     "output_type": "stream",
     "text": [
      "Epoch 42: 100%|██████████| 24/24 [00:00<00:00, 57.81it/s, loss=0.252, v_num=1]"
     ]
    },
    {
     "name": "stderr",
     "output_type": "stream",
     "text": [
      "Epoch 42, global step 860: 'val_loss' was not in top 1\n"
     ]
    },
    {
     "name": "stdout",
     "output_type": "stream",
     "text": [
      "Epoch 43: 100%|██████████| 24/24 [00:00<00:00, 50.53it/s, loss=0.25, v_num=1] "
     ]
    },
    {
     "name": "stderr",
     "output_type": "stream",
     "text": [
      "Epoch 43, global step 880: 'val_loss' was not in top 1\n"
     ]
    },
    {
     "name": "stdout",
     "output_type": "stream",
     "text": [
      "Epoch 44: 100%|██████████| 24/24 [00:00<00:00, 48.98it/s, loss=0.248, v_num=1]"
     ]
    },
    {
     "name": "stderr",
     "output_type": "stream",
     "text": [
      "Epoch 44, global step 900: 'val_loss' was not in top 1\n"
     ]
    },
    {
     "name": "stdout",
     "output_type": "stream",
     "text": [
      "Epoch 45: 100%|██████████| 24/24 [00:00<00:00, 52.52it/s, loss=0.249, v_num=1]"
     ]
    },
    {
     "name": "stderr",
     "output_type": "stream",
     "text": [
      "Epoch 45, global step 920: 'val_loss' was not in top 1\n"
     ]
    },
    {
     "name": "stdout",
     "output_type": "stream",
     "text": [
      "Epoch 46: 100%|██████████| 24/24 [00:00<00:00, 56.34it/s, loss=0.25, v_num=1] "
     ]
    },
    {
     "name": "stderr",
     "output_type": "stream",
     "text": [
      "Epoch 46, global step 940: 'val_loss' was not in top 1\n"
     ]
    },
    {
     "name": "stdout",
     "output_type": "stream",
     "text": [
      "Epoch 47: 100%|██████████| 24/24 [00:00<00:00, 57.55it/s, loss=0.243, v_num=1]"
     ]
    },
    {
     "name": "stderr",
     "output_type": "stream",
     "text": [
      "Epoch 47, global step 960: 'val_loss' was not in top 1\n"
     ]
    },
    {
     "name": "stdout",
     "output_type": "stream",
     "text": [
      "Epoch 48: 100%|██████████| 24/24 [00:00<00:00, 48.14it/s, loss=0.246, v_num=1]"
     ]
    },
    {
     "name": "stderr",
     "output_type": "stream",
     "text": [
      "Epoch 48, global step 980: 'val_loss' was not in top 1\n"
     ]
    },
    {
     "name": "stdout",
     "output_type": "stream",
     "text": [
      "Epoch 49: 100%|██████████| 24/24 [00:00<00:00, 56.67it/s, loss=0.24, v_num=1] "
     ]
    },
    {
     "name": "stderr",
     "output_type": "stream",
     "text": [
      "Epoch 49, global step 1000: 'val_loss' reached 0.22726 (best 0.22726), saving model to 'D:\\\\Projects\\\\ComputerVision_CloudSegmentation\\\\Superpixel-UNET\\\\sne_model_checkpt\\\\best-checkpoint-v1.ckpt' as top 1\n"
     ]
    },
    {
     "name": "stdout",
     "output_type": "stream",
     "text": [
      "Epoch 50: 100%|██████████| 24/24 [00:00<00:00, 56.70it/s, loss=0.237, v_num=1]"
     ]
    },
    {
     "name": "stderr",
     "output_type": "stream",
     "text": [
      "Epoch 50, global step 1020: 'val_loss' was not in top 1\n"
     ]
    },
    {
     "name": "stdout",
     "output_type": "stream",
     "text": [
      "Epoch 51: 100%|██████████| 24/24 [00:00<00:00, 57.08it/s, loss=0.239, v_num=1]"
     ]
    },
    {
     "name": "stderr",
     "output_type": "stream",
     "text": [
      "Epoch 51, global step 1040: 'val_loss' reached 0.22705 (best 0.22705), saving model to 'D:\\\\Projects\\\\ComputerVision_CloudSegmentation\\\\Superpixel-UNET\\\\sne_model_checkpt\\\\best-checkpoint-v1.ckpt' as top 1\n"
     ]
    },
    {
     "name": "stdout",
     "output_type": "stream",
     "text": [
      "Epoch 52: 100%|██████████| 24/24 [00:00<00:00, 57.14it/s, loss=0.236, v_num=1]"
     ]
    },
    {
     "name": "stderr",
     "output_type": "stream",
     "text": [
      "Epoch 52, global step 1060: 'val_loss' was not in top 1\n"
     ]
    },
    {
     "name": "stdout",
     "output_type": "stream",
     "text": [
      "Epoch 53: 100%|██████████| 24/24 [00:00<00:00, 52.20it/s, loss=0.238, v_num=1]"
     ]
    },
    {
     "name": "stderr",
     "output_type": "stream",
     "text": [
      "Epoch 53, global step 1080: 'val_loss' reached 0.22557 (best 0.22557), saving model to 'D:\\\\Projects\\\\ComputerVision_CloudSegmentation\\\\Superpixel-UNET\\\\sne_model_checkpt\\\\best-checkpoint-v1.ckpt' as top 1\n"
     ]
    },
    {
     "name": "stdout",
     "output_type": "stream",
     "text": [
      "Epoch 54: 100%|██████████| 24/24 [00:00<00:00, 53.91it/s, loss=0.244, v_num=1]"
     ]
    },
    {
     "name": "stderr",
     "output_type": "stream",
     "text": [
      "Epoch 54, global step 1100: 'val_loss' was not in top 1\n"
     ]
    },
    {
     "name": "stdout",
     "output_type": "stream",
     "text": [
      "Epoch 55: 100%|██████████| 24/24 [00:00<00:00, 56.93it/s, loss=0.243, v_num=1]"
     ]
    },
    {
     "name": "stderr",
     "output_type": "stream",
     "text": [
      "Epoch 55, global step 1120: 'val_loss' was not in top 1\n"
     ]
    },
    {
     "name": "stdout",
     "output_type": "stream",
     "text": [
      "Epoch 56: 100%|██████████| 24/24 [00:00<00:00, 56.21it/s, loss=0.238, v_num=1]"
     ]
    },
    {
     "name": "stderr",
     "output_type": "stream",
     "text": [
      "Epoch 56, global step 1140: 'val_loss' was not in top 1\n"
     ]
    },
    {
     "name": "stdout",
     "output_type": "stream",
     "text": [
      "Epoch 57: 100%|██████████| 24/24 [00:00<00:00, 49.73it/s, loss=0.247, v_num=1]"
     ]
    },
    {
     "name": "stderr",
     "output_type": "stream",
     "text": [
      "Epoch 57, global step 1160: 'val_loss' was not in top 1\n"
     ]
    },
    {
     "name": "stdout",
     "output_type": "stream",
     "text": [
      "Epoch 58: 100%|██████████| 24/24 [00:00<00:00, 55.42it/s, loss=0.243, v_num=1]"
     ]
    },
    {
     "name": "stderr",
     "output_type": "stream",
     "text": [
      "Epoch 58, global step 1180: 'val_loss' was not in top 1\n"
     ]
    },
    {
     "name": "stdout",
     "output_type": "stream",
     "text": [
      "Epoch 59: 100%|██████████| 24/24 [00:00<00:00, 53.45it/s, loss=0.238, v_num=1]"
     ]
    },
    {
     "name": "stderr",
     "output_type": "stream",
     "text": [
      "Epoch 59, global step 1200: 'val_loss' was not in top 1\n"
     ]
    },
    {
     "name": "stdout",
     "output_type": "stream",
     "text": [
      "Epoch 60: 100%|██████████| 24/24 [00:00<00:00, 55.42it/s, loss=0.234, v_num=1]"
     ]
    },
    {
     "name": "stderr",
     "output_type": "stream",
     "text": [
      "Epoch 60, global step 1220: 'val_loss' reached 0.22085 (best 0.22085), saving model to 'D:\\\\Projects\\\\ComputerVision_CloudSegmentation\\\\Superpixel-UNET\\\\sne_model_checkpt\\\\best-checkpoint-v1.ckpt' as top 1\n"
     ]
    },
    {
     "name": "stdout",
     "output_type": "stream",
     "text": [
      "Epoch 61: 100%|██████████| 24/24 [00:00<00:00, 59.85it/s, loss=0.232, v_num=1]"
     ]
    },
    {
     "name": "stderr",
     "output_type": "stream",
     "text": [
      "Epoch 61, global step 1240: 'val_loss' was not in top 1\n"
     ]
    },
    {
     "name": "stdout",
     "output_type": "stream",
     "text": [
      "Epoch 62: 100%|██████████| 24/24 [00:00<00:00, 52.52it/s, loss=0.233, v_num=1]"
     ]
    },
    {
     "name": "stderr",
     "output_type": "stream",
     "text": [
      "Epoch 62, global step 1260: 'val_loss' was not in top 1\n"
     ]
    },
    {
     "name": "stdout",
     "output_type": "stream",
     "text": [
      "Epoch 63: 100%|██████████| 24/24 [00:00<00:00, 51.77it/s, loss=0.23, v_num=1] "
     ]
    },
    {
     "name": "stderr",
     "output_type": "stream",
     "text": [
      "Epoch 63, global step 1280: 'val_loss' was not in top 1\n"
     ]
    },
    {
     "name": "stdout",
     "output_type": "stream",
     "text": [
      "Epoch 64: 100%|██████████| 24/24 [00:00<00:00, 53.21it/s, loss=0.234, v_num=1]"
     ]
    },
    {
     "name": "stderr",
     "output_type": "stream",
     "text": [
      "Epoch 64, global step 1300: 'val_loss' was not in top 1\n"
     ]
    },
    {
     "name": "stdout",
     "output_type": "stream",
     "text": [
      "Epoch 65: 100%|██████████| 24/24 [00:00<00:00, 55.30it/s, loss=0.234, v_num=1]"
     ]
    },
    {
     "name": "stderr",
     "output_type": "stream",
     "text": [
      "Epoch 65, global step 1320: 'val_loss' was not in top 1\n"
     ]
    },
    {
     "name": "stdout",
     "output_type": "stream",
     "text": [
      "Epoch 66: 100%|██████████| 24/24 [00:00<00:00, 56.41it/s, loss=0.238, v_num=1]"
     ]
    },
    {
     "name": "stderr",
     "output_type": "stream",
     "text": [
      "Epoch 66, global step 1340: 'val_loss' was not in top 1\n"
     ]
    },
    {
     "name": "stdout",
     "output_type": "stream",
     "text": [
      "Epoch 67: 100%|██████████| 24/24 [00:00<00:00, 54.06it/s, loss=0.231, v_num=1]"
     ]
    },
    {
     "name": "stderr",
     "output_type": "stream",
     "text": [
      "Epoch 67, global step 1360: 'val_loss' was not in top 1\n"
     ]
    },
    {
     "name": "stdout",
     "output_type": "stream",
     "text": [
      "Epoch 68: 100%|██████████| 24/24 [00:00<00:00, 54.79it/s, loss=0.228, v_num=1]"
     ]
    },
    {
     "name": "stderr",
     "output_type": "stream",
     "text": [
      "Epoch 68, global step 1380: 'val_loss' was not in top 1\n"
     ]
    },
    {
     "name": "stdout",
     "output_type": "stream",
     "text": [
      "Epoch 69: 100%|██████████| 24/24 [00:00<00:00, 52.63it/s, loss=0.229, v_num=1]"
     ]
    },
    {
     "name": "stderr",
     "output_type": "stream",
     "text": [
      "Epoch 69, global step 1400: 'val_loss' was not in top 1\n"
     ]
    },
    {
     "name": "stdout",
     "output_type": "stream",
     "text": [
      "Epoch 70: 100%|██████████| 24/24 [00:00<00:00, 58.58it/s, loss=0.23, v_num=1] "
     ]
    },
    {
     "name": "stderr",
     "output_type": "stream",
     "text": [
      "Epoch 70, global step 1420: 'val_loss' reached 0.21959 (best 0.21959), saving model to 'D:\\\\Projects\\\\ComputerVision_CloudSegmentation\\\\Superpixel-UNET\\\\sne_model_checkpt\\\\best-checkpoint-v1.ckpt' as top 1\n"
     ]
    },
    {
     "name": "stdout",
     "output_type": "stream",
     "text": [
      "Epoch 71: 100%|██████████| 24/24 [00:00<00:00, 51.12it/s, loss=0.231, v_num=1]"
     ]
    },
    {
     "name": "stderr",
     "output_type": "stream",
     "text": [
      "Epoch 71, global step 1440: 'val_loss' was not in top 1\n"
     ]
    },
    {
     "name": "stdout",
     "output_type": "stream",
     "text": [
      "Epoch 72: 100%|██████████| 24/24 [00:00<00:00, 55.76it/s, loss=0.229, v_num=1]"
     ]
    },
    {
     "name": "stderr",
     "output_type": "stream",
     "text": [
      "Epoch 72, global step 1460: 'val_loss' was not in top 1\n"
     ]
    },
    {
     "name": "stdout",
     "output_type": "stream",
     "text": [
      "Epoch 73: 100%|██████████| 24/24 [00:00<00:00, 57.21it/s, loss=0.226, v_num=1]"
     ]
    },
    {
     "name": "stderr",
     "output_type": "stream",
     "text": [
      "Epoch 73, global step 1480: 'val_loss' was not in top 1\n"
     ]
    },
    {
     "name": "stdout",
     "output_type": "stream",
     "text": [
      "Epoch 74: 100%|██████████| 24/24 [00:00<00:00, 51.61it/s, loss=0.228, v_num=1]"
     ]
    },
    {
     "name": "stderr",
     "output_type": "stream",
     "text": [
      "Epoch 74, global step 1500: 'val_loss' reached 0.21685 (best 0.21685), saving model to 'D:\\\\Projects\\\\ComputerVision_CloudSegmentation\\\\Superpixel-UNET\\\\sne_model_checkpt\\\\best-checkpoint-v1.ckpt' as top 1\n"
     ]
    },
    {
     "name": "stdout",
     "output_type": "stream",
     "text": [
      "Epoch 75: 100%|██████████| 24/24 [00:00<00:00, 53.47it/s, loss=0.228, v_num=1]"
     ]
    },
    {
     "name": "stderr",
     "output_type": "stream",
     "text": [
      "Epoch 75, global step 1520: 'val_loss' was not in top 1\n"
     ]
    },
    {
     "name": "stdout",
     "output_type": "stream",
     "text": [
      "Epoch 76: 100%|██████████| 24/24 [00:00<00:00, 50.53it/s, loss=0.227, v_num=1]"
     ]
    },
    {
     "name": "stderr",
     "output_type": "stream",
     "text": [
      "Epoch 76, global step 1540: 'val_loss' was not in top 1\n"
     ]
    },
    {
     "name": "stdout",
     "output_type": "stream",
     "text": [
      "Epoch 77: 100%|██████████| 24/24 [00:00<00:00, 53.33it/s, loss=0.23, v_num=1] "
     ]
    },
    {
     "name": "stderr",
     "output_type": "stream",
     "text": [
      "Epoch 77, global step 1560: 'val_loss' was not in top 1\n"
     ]
    },
    {
     "name": "stdout",
     "output_type": "stream",
     "text": [
      "Epoch 78: 100%|██████████| 24/24 [00:00<00:00, 57.14it/s, loss=0.23, v_num=1] "
     ]
    },
    {
     "name": "stderr",
     "output_type": "stream",
     "text": [
      "Epoch 78, global step 1580: 'val_loss' was not in top 1\n"
     ]
    },
    {
     "name": "stdout",
     "output_type": "stream",
     "text": [
      "Epoch 79: 100%|██████████| 24/24 [00:00<00:00, 52.75it/s, loss=0.225, v_num=1]"
     ]
    },
    {
     "name": "stderr",
     "output_type": "stream",
     "text": [
      "Epoch 79, global step 1600: 'val_loss' was not in top 1\n"
     ]
    },
    {
     "name": "stdout",
     "output_type": "stream",
     "text": [
      "Epoch 80: 100%|██████████| 24/24 [00:00<00:00, 52.86it/s, loss=0.225, v_num=1]"
     ]
    },
    {
     "name": "stderr",
     "output_type": "stream",
     "text": [
      "Epoch 80, global step 1620: 'val_loss' was not in top 1\n"
     ]
    },
    {
     "name": "stdout",
     "output_type": "stream",
     "text": [
      "Epoch 81: 100%|██████████| 24/24 [00:00<00:00, 52.06it/s, loss=0.236, v_num=1]"
     ]
    },
    {
     "name": "stderr",
     "output_type": "stream",
     "text": [
      "Epoch 81, global step 1640: 'val_loss' was not in top 1\n"
     ]
    },
    {
     "name": "stdout",
     "output_type": "stream",
     "text": [
      "Epoch 82: 100%|██████████| 24/24 [00:00<00:00, 53.21it/s, loss=0.228, v_num=1]"
     ]
    },
    {
     "name": "stderr",
     "output_type": "stream",
     "text": [
      "Epoch 82, global step 1660: 'val_loss' was not in top 1\n"
     ]
    },
    {
     "name": "stdout",
     "output_type": "stream",
     "text": [
      "Epoch 83: 100%|██████████| 24/24 [00:00<00:00, 53.45it/s, loss=0.225, v_num=1]"
     ]
    },
    {
     "name": "stderr",
     "output_type": "stream",
     "text": [
      "Epoch 83, global step 1680: 'val_loss' was not in top 1\n"
     ]
    },
    {
     "name": "stdout",
     "output_type": "stream",
     "text": [
      "Epoch 84: 100%|██████████| 24/24 [00:00<00:00, 53.27it/s, loss=0.227, v_num=1]"
     ]
    },
    {
     "name": "stderr",
     "output_type": "stream",
     "text": [
      "Epoch 84, global step 1700: 'val_loss' was not in top 1\n"
     ]
    },
    {
     "name": "stdout",
     "output_type": "stream",
     "text": [
      "Epoch 85: 100%|██████████| 24/24 [00:00<00:00, 57.28it/s, loss=0.224, v_num=1]"
     ]
    },
    {
     "name": "stderr",
     "output_type": "stream",
     "text": [
      "Epoch 85, global step 1720: 'val_loss' was not in top 1\n"
     ]
    },
    {
     "name": "stdout",
     "output_type": "stream",
     "text": [
      "Epoch 86: 100%|██████████| 24/24 [00:00<00:00, 54.84it/s, loss=0.224, v_num=1]"
     ]
    },
    {
     "name": "stderr",
     "output_type": "stream",
     "text": [
      "Epoch 86, global step 1740: 'val_loss' was not in top 1\n"
     ]
    },
    {
     "name": "stdout",
     "output_type": "stream",
     "text": [
      "Epoch 87: 100%|██████████| 24/24 [00:00<00:00, 56.54it/s, loss=0.22, v_num=1] "
     ]
    },
    {
     "name": "stderr",
     "output_type": "stream",
     "text": [
      "Epoch 87, global step 1760: 'val_loss' was not in top 1\n"
     ]
    },
    {
     "name": "stdout",
     "output_type": "stream",
     "text": [
      "Epoch 88: 100%|██████████| 24/24 [00:00<00:00, 46.66it/s, loss=0.225, v_num=1]"
     ]
    },
    {
     "name": "stderr",
     "output_type": "stream",
     "text": [
      "Epoch 88, global step 1780: 'val_loss' was not in top 1\n"
     ]
    },
    {
     "name": "stdout",
     "output_type": "stream",
     "text": [
      "Epoch 89: 100%|██████████| 24/24 [00:00<00:00, 56.34it/s, loss=0.222, v_num=1]"
     ]
    },
    {
     "name": "stderr",
     "output_type": "stream",
     "text": [
      "Epoch 89, global step 1800: 'val_loss' reached 0.21629 (best 0.21629), saving model to 'D:\\\\Projects\\\\ComputerVision_CloudSegmentation\\\\Superpixel-UNET\\\\sne_model_checkpt\\\\best-checkpoint-v1.ckpt' as top 1\n"
     ]
    },
    {
     "name": "stdout",
     "output_type": "stream",
     "text": [
      "Epoch 90: 100%|██████████| 24/24 [00:00<00:00, 58.56it/s, loss=0.217, v_num=1]"
     ]
    },
    {
     "name": "stderr",
     "output_type": "stream",
     "text": [
      "Epoch 90, global step 1820: 'val_loss' was not in top 1\n"
     ]
    },
    {
     "name": "stdout",
     "output_type": "stream",
     "text": [
      "Epoch 91: 100%|██████████| 24/24 [00:00<00:00, 55.10it/s, loss=0.22, v_num=1] "
     ]
    },
    {
     "name": "stderr",
     "output_type": "stream",
     "text": [
      "Epoch 91, global step 1840: 'val_loss' was not in top 1\n"
     ]
    },
    {
     "name": "stdout",
     "output_type": "stream",
     "text": [
      "Epoch 92: 100%|██████████| 24/24 [00:00<00:00, 55.81it/s, loss=0.222, v_num=1]"
     ]
    },
    {
     "name": "stderr",
     "output_type": "stream",
     "text": [
      "Epoch 92, global step 1860: 'val_loss' was not in top 1\n"
     ]
    },
    {
     "name": "stdout",
     "output_type": "stream",
     "text": [
      "Epoch 93: 100%|██████████| 24/24 [00:00<00:00, 49.13it/s, loss=0.215, v_num=1]"
     ]
    },
    {
     "name": "stderr",
     "output_type": "stream",
     "text": [
      "Epoch 93, global step 1880: 'val_loss' was not in top 1\n"
     ]
    },
    {
     "name": "stdout",
     "output_type": "stream",
     "text": [
      "Epoch 94: 100%|██████████| 24/24 [00:00<00:00, 47.81it/s, loss=0.218, v_num=1]"
     ]
    },
    {
     "name": "stderr",
     "output_type": "stream",
     "text": [
      "Epoch 94, global step 1900: 'val_loss' was not in top 1\n"
     ]
    },
    {
     "name": "stdout",
     "output_type": "stream",
     "text": [
      "Epoch 95: 100%|██████████| 24/24 [00:00<00:00, 55.75it/s, loss=0.219, v_num=1]"
     ]
    },
    {
     "name": "stderr",
     "output_type": "stream",
     "text": [
      "Epoch 95, global step 1920: 'val_loss' was not in top 1\n"
     ]
    },
    {
     "name": "stdout",
     "output_type": "stream",
     "text": [
      "Epoch 96: 100%|██████████| 24/24 [00:00<00:00, 55.19it/s, loss=0.217, v_num=1]"
     ]
    },
    {
     "name": "stderr",
     "output_type": "stream",
     "text": [
      "Epoch 96, global step 1940: 'val_loss' was not in top 1\n"
     ]
    },
    {
     "name": "stdout",
     "output_type": "stream",
     "text": [
      "Epoch 97: 100%|██████████| 24/24 [00:00<00:00, 48.62it/s, loss=0.216, v_num=1]"
     ]
    },
    {
     "name": "stderr",
     "output_type": "stream",
     "text": [
      "Epoch 97, global step 1960: 'val_loss' was not in top 1\n"
     ]
    },
    {
     "name": "stdout",
     "output_type": "stream",
     "text": [
      "Epoch 98: 100%|██████████| 24/24 [00:00<00:00, 52.75it/s, loss=0.221, v_num=1]"
     ]
    },
    {
     "name": "stderr",
     "output_type": "stream",
     "text": [
      "Epoch 98, global step 1980: 'val_loss' reached 0.21622 (best 0.21622), saving model to 'D:\\\\Projects\\\\ComputerVision_CloudSegmentation\\\\Superpixel-UNET\\\\sne_model_checkpt\\\\best-checkpoint-v1.ckpt' as top 1\n"
     ]
    },
    {
     "name": "stdout",
     "output_type": "stream",
     "text": [
      "Epoch 99: 100%|██████████| 24/24 [00:00<00:00, 54.05it/s, loss=0.223, v_num=1]"
     ]
    },
    {
     "name": "stderr",
     "output_type": "stream",
     "text": [
      "Epoch 99, global step 2000: 'val_loss' was not in top 1\n"
     ]
    },
    {
     "name": "stdout",
     "output_type": "stream",
     "text": [
      "Epoch 100: 100%|██████████| 24/24 [00:00<00:00, 56.07it/s, loss=0.222, v_num=1]"
     ]
    },
    {
     "name": "stderr",
     "output_type": "stream",
     "text": [
      "Epoch 100, global step 2020: 'val_loss' was not in top 1\n"
     ]
    },
    {
     "name": "stdout",
     "output_type": "stream",
     "text": [
      "Epoch 101: 100%|██████████| 24/24 [00:00<00:00, 52.29it/s, loss=0.22, v_num=1] "
     ]
    },
    {
     "name": "stderr",
     "output_type": "stream",
     "text": [
      "Epoch 101, global step 2040: 'val_loss' was not in top 1\n"
     ]
    },
    {
     "name": "stdout",
     "output_type": "stream",
     "text": [
      "Epoch 102: 100%|██████████| 24/24 [00:00<00:00, 53.51it/s, loss=0.209, v_num=1]"
     ]
    },
    {
     "name": "stderr",
     "output_type": "stream",
     "text": [
      "Epoch 102, global step 2060: 'val_loss' reached 0.21467 (best 0.21467), saving model to 'D:\\\\Projects\\\\ComputerVision_CloudSegmentation\\\\Superpixel-UNET\\\\sne_model_checkpt\\\\best-checkpoint-v1.ckpt' as top 1\n"
     ]
    },
    {
     "name": "stdout",
     "output_type": "stream",
     "text": [
      "Epoch 103: 100%|██████████| 24/24 [00:00<00:00, 54.42it/s, loss=0.209, v_num=1]"
     ]
    },
    {
     "name": "stderr",
     "output_type": "stream",
     "text": [
      "Epoch 103, global step 2080: 'val_loss' was not in top 1\n"
     ]
    },
    {
     "name": "stdout",
     "output_type": "stream",
     "text": [
      "Epoch 104: 100%|██████████| 24/24 [00:00<00:00, 57.01it/s, loss=0.207, v_num=1]"
     ]
    },
    {
     "name": "stderr",
     "output_type": "stream",
     "text": [
      "Epoch 104, global step 2100: 'val_loss' reached 0.21358 (best 0.21358), saving model to 'D:\\\\Projects\\\\ComputerVision_CloudSegmentation\\\\Superpixel-UNET\\\\sne_model_checkpt\\\\best-checkpoint-v1.ckpt' as top 1\n"
     ]
    },
    {
     "name": "stdout",
     "output_type": "stream",
     "text": [
      "Epoch 105: 100%|██████████| 24/24 [00:00<00:00, 48.24it/s, loss=0.21, v_num=1] "
     ]
    },
    {
     "name": "stderr",
     "output_type": "stream",
     "text": [
      "Epoch 105, global step 2120: 'val_loss' was not in top 1\n"
     ]
    },
    {
     "name": "stdout",
     "output_type": "stream",
     "text": [
      "Epoch 106: 100%|██████████| 24/24 [00:00<00:00, 51.16it/s, loss=0.209, v_num=1]"
     ]
    },
    {
     "name": "stderr",
     "output_type": "stream",
     "text": [
      "Epoch 106, global step 2140: 'val_loss' reached 0.21109 (best 0.21109), saving model to 'D:\\\\Projects\\\\ComputerVision_CloudSegmentation\\\\Superpixel-UNET\\\\sne_model_checkpt\\\\best-checkpoint-v1.ckpt' as top 1\n"
     ]
    },
    {
     "name": "stdout",
     "output_type": "stream",
     "text": [
      "Epoch 107: 100%|██████████| 24/24 [00:00<00:00, 48.87it/s, loss=0.21, v_num=1] "
     ]
    },
    {
     "name": "stderr",
     "output_type": "stream",
     "text": [
      "Epoch 107, global step 2160: 'val_loss' was not in top 1\n"
     ]
    },
    {
     "name": "stdout",
     "output_type": "stream",
     "text": [
      "Epoch 108: 100%|██████████| 24/24 [00:00<00:00, 54.55it/s, loss=0.21, v_num=1] "
     ]
    },
    {
     "name": "stderr",
     "output_type": "stream",
     "text": [
      "Epoch 108, global step 2180: 'val_loss' was not in top 1\n"
     ]
    },
    {
     "name": "stdout",
     "output_type": "stream",
     "text": [
      "Epoch 109: 100%|██████████| 24/24 [00:00<00:00, 53.33it/s, loss=0.211, v_num=1]"
     ]
    },
    {
     "name": "stderr",
     "output_type": "stream",
     "text": [
      "Epoch 109, global step 2200: 'val_loss' was not in top 1\n"
     ]
    },
    {
     "name": "stdout",
     "output_type": "stream",
     "text": [
      "Epoch 110: 100%|██████████| 24/24 [00:00<00:00, 50.20it/s, loss=0.208, v_num=1]"
     ]
    },
    {
     "name": "stderr",
     "output_type": "stream",
     "text": [
      "Epoch 110, global step 2220: 'val_loss' was not in top 1\n"
     ]
    },
    {
     "name": "stdout",
     "output_type": "stream",
     "text": [
      "Epoch 111: 100%|██████████| 24/24 [00:00<00:00, 45.32it/s, loss=0.207, v_num=1]"
     ]
    },
    {
     "name": "stderr",
     "output_type": "stream",
     "text": [
      "Epoch 111, global step 2240: 'val_loss' was not in top 1\n"
     ]
    },
    {
     "name": "stdout",
     "output_type": "stream",
     "text": [
      "Epoch 112: 100%|██████████| 24/24 [00:00<00:00, 55.17it/s, loss=0.205, v_num=1]"
     ]
    },
    {
     "name": "stderr",
     "output_type": "stream",
     "text": [
      "Epoch 112, global step 2260: 'val_loss' was not in top 1\n"
     ]
    },
    {
     "name": "stdout",
     "output_type": "stream",
     "text": [
      "Epoch 113: 100%|██████████| 24/24 [00:00<00:00, 51.39it/s, loss=0.211, v_num=1]"
     ]
    },
    {
     "name": "stderr",
     "output_type": "stream",
     "text": [
      "Epoch 113, global step 2280: 'val_loss' was not in top 1\n"
     ]
    },
    {
     "name": "stdout",
     "output_type": "stream",
     "text": [
      "Epoch 114: 100%|██████████| 24/24 [00:00<00:00, 53.22it/s, loss=0.208, v_num=1]"
     ]
    },
    {
     "name": "stderr",
     "output_type": "stream",
     "text": [
      "Epoch 114, global step 2300: 'val_loss' was not in top 1\n"
     ]
    },
    {
     "name": "stdout",
     "output_type": "stream",
     "text": [
      "Epoch 115: 100%|██████████| 24/24 [00:00<00:00, 52.39it/s, loss=0.204, v_num=1]"
     ]
    },
    {
     "name": "stderr",
     "output_type": "stream",
     "text": [
      "Epoch 115, global step 2320: 'val_loss' reached 0.21009 (best 0.21009), saving model to 'D:\\\\Projects\\\\ComputerVision_CloudSegmentation\\\\Superpixel-UNET\\\\sne_model_checkpt\\\\best-checkpoint-v1.ckpt' as top 1\n"
     ]
    },
    {
     "name": "stdout",
     "output_type": "stream",
     "text": [
      "Epoch 116: 100%|██████████| 24/24 [00:00<00:00, 51.70it/s, loss=0.205, v_num=1]"
     ]
    },
    {
     "name": "stderr",
     "output_type": "stream",
     "text": [
      "Epoch 116, global step 2340: 'val_loss' reached 0.20800 (best 0.20800), saving model to 'D:\\\\Projects\\\\ComputerVision_CloudSegmentation\\\\Superpixel-UNET\\\\sne_model_checkpt\\\\best-checkpoint-v1.ckpt' as top 1\n"
     ]
    },
    {
     "name": "stdout",
     "output_type": "stream",
     "text": [
      "Epoch 117: 100%|██████████| 24/24 [00:00<00:00, 53.25it/s, loss=0.2, v_num=1]  "
     ]
    },
    {
     "name": "stderr",
     "output_type": "stream",
     "text": [
      "Epoch 117, global step 2360: 'val_loss' was not in top 1\n"
     ]
    },
    {
     "name": "stdout",
     "output_type": "stream",
     "text": [
      "Epoch 118: 100%|██████████| 24/24 [00:00<00:00, 52.10it/s, loss=0.2, v_num=1]  "
     ]
    },
    {
     "name": "stderr",
     "output_type": "stream",
     "text": [
      "Epoch 118, global step 2380: 'val_loss' reached 0.20766 (best 0.20766), saving model to 'D:\\\\Projects\\\\ComputerVision_CloudSegmentation\\\\Superpixel-UNET\\\\sne_model_checkpt\\\\best-checkpoint-v1.ckpt' as top 1\n"
     ]
    },
    {
     "name": "stdout",
     "output_type": "stream",
     "text": [
      "Epoch 119: 100%|██████████| 24/24 [00:00<00:00, 55.29it/s, loss=0.198, v_num=1]"
     ]
    },
    {
     "name": "stderr",
     "output_type": "stream",
     "text": [
      "Epoch 119, global step 2400: 'val_loss' was not in top 1\n"
     ]
    },
    {
     "name": "stdout",
     "output_type": "stream",
     "text": [
      "Epoch 120: 100%|██████████| 24/24 [00:00<00:00, 52.06it/s, loss=0.198, v_num=1]"
     ]
    },
    {
     "name": "stderr",
     "output_type": "stream",
     "text": [
      "Epoch 120, global step 2420: 'val_loss' was not in top 1\n"
     ]
    },
    {
     "name": "stdout",
     "output_type": "stream",
     "text": [
      "Epoch 121: 100%|██████████| 24/24 [00:00<00:00, 51.28it/s, loss=0.197, v_num=1]"
     ]
    },
    {
     "name": "stderr",
     "output_type": "stream",
     "text": [
      "Epoch 121, global step 2440: 'val_loss' was not in top 1\n"
     ]
    },
    {
     "name": "stdout",
     "output_type": "stream",
     "text": [
      "Epoch 122: 100%|██████████| 24/24 [00:00<00:00, 50.42it/s, loss=0.197, v_num=1]"
     ]
    },
    {
     "name": "stderr",
     "output_type": "stream",
     "text": [
      "Epoch 122, global step 2460: 'val_loss' was not in top 1\n"
     ]
    },
    {
     "name": "stdout",
     "output_type": "stream",
     "text": [
      "Epoch 123: 100%|██████████| 24/24 [00:00<00:00, 50.05it/s, loss=0.195, v_num=1]"
     ]
    },
    {
     "name": "stderr",
     "output_type": "stream",
     "text": [
      "Epoch 123, global step 2480: 'val_loss' was not in top 1\n"
     ]
    },
    {
     "name": "stdout",
     "output_type": "stream",
     "text": [
      "Epoch 124: 100%|██████████| 24/24 [00:00<00:00, 56.51it/s, loss=0.192, v_num=1]"
     ]
    },
    {
     "name": "stderr",
     "output_type": "stream",
     "text": [
      "Epoch 124, global step 2500: 'val_loss' reached 0.20632 (best 0.20632), saving model to 'D:\\\\Projects\\\\ComputerVision_CloudSegmentation\\\\Superpixel-UNET\\\\sne_model_checkpt\\\\best-checkpoint-v1.ckpt' as top 1\n"
     ]
    },
    {
     "name": "stdout",
     "output_type": "stream",
     "text": [
      "Epoch 125: 100%|██████████| 24/24 [00:00<00:00, 46.78it/s, loss=0.19, v_num=1] "
     ]
    },
    {
     "name": "stderr",
     "output_type": "stream",
     "text": [
      "Epoch 125, global step 2520: 'val_loss' reached 0.20479 (best 0.20479), saving model to 'D:\\\\Projects\\\\ComputerVision_CloudSegmentation\\\\Superpixel-UNET\\\\sne_model_checkpt\\\\best-checkpoint-v1.ckpt' as top 1\n"
     ]
    },
    {
     "name": "stdout",
     "output_type": "stream",
     "text": [
      "Epoch 126: 100%|██████████| 24/24 [00:00<00:00, 46.76it/s, loss=0.195, v_num=1]"
     ]
    },
    {
     "name": "stderr",
     "output_type": "stream",
     "text": [
      "Epoch 126, global step 2540: 'val_loss' was not in top 1\n"
     ]
    },
    {
     "name": "stdout",
     "output_type": "stream",
     "text": [
      "Epoch 127: 100%|██████████| 24/24 [00:00<00:00, 52.27it/s, loss=0.19, v_num=1] "
     ]
    },
    {
     "name": "stderr",
     "output_type": "stream",
     "text": [
      "Epoch 127, global step 2560: 'val_loss' was not in top 1\n"
     ]
    },
    {
     "name": "stdout",
     "output_type": "stream",
     "text": [
      "Epoch 128: 100%|██████████| 24/24 [00:00<00:00, 52.61it/s, loss=0.19, v_num=1] "
     ]
    },
    {
     "name": "stderr",
     "output_type": "stream",
     "text": [
      "Epoch 128, global step 2580: 'val_loss' was not in top 1\n"
     ]
    },
    {
     "name": "stdout",
     "output_type": "stream",
     "text": [
      "Epoch 129: 100%|██████████| 24/24 [00:00<00:00, 54.61it/s, loss=0.189, v_num=1]"
     ]
    },
    {
     "name": "stderr",
     "output_type": "stream",
     "text": [
      "Epoch 129, global step 2600: 'val_loss' reached 0.20209 (best 0.20209), saving model to 'D:\\\\Projects\\\\ComputerVision_CloudSegmentation\\\\Superpixel-UNET\\\\sne_model_checkpt\\\\best-checkpoint-v1.ckpt' as top 1\n"
     ]
    },
    {
     "name": "stdout",
     "output_type": "stream",
     "text": [
      "Epoch 130: 100%|██████████| 24/24 [00:00<00:00, 51.95it/s, loss=0.193, v_num=1]"
     ]
    },
    {
     "name": "stderr",
     "output_type": "stream",
     "text": [
      "Epoch 130, global step 2620: 'val_loss' was not in top 1\n"
     ]
    },
    {
     "name": "stdout",
     "output_type": "stream",
     "text": [
      "Epoch 131: 100%|██████████| 24/24 [00:00<00:00, 52.57it/s, loss=0.199, v_num=1]"
     ]
    },
    {
     "name": "stderr",
     "output_type": "stream",
     "text": [
      "Epoch 131, global step 2640: 'val_loss' was not in top 1\n"
     ]
    },
    {
     "name": "stdout",
     "output_type": "stream",
     "text": [
      "Epoch 132: 100%|██████████| 24/24 [00:00<00:00, 49.00it/s, loss=0.191, v_num=1]"
     ]
    },
    {
     "name": "stderr",
     "output_type": "stream",
     "text": [
      "Epoch 132, global step 2660: 'val_loss' was not in top 1\n"
     ]
    },
    {
     "name": "stdout",
     "output_type": "stream",
     "text": [
      "Epoch 133: 100%|██████████| 24/24 [00:00<00:00, 50.85it/s, loss=0.186, v_num=1]"
     ]
    },
    {
     "name": "stderr",
     "output_type": "stream",
     "text": [
      "Epoch 133, global step 2680: 'val_loss' was not in top 1\n"
     ]
    },
    {
     "name": "stdout",
     "output_type": "stream",
     "text": [
      "Epoch 134: 100%|██████████| 24/24 [00:00<00:00, 51.95it/s, loss=0.191, v_num=1]"
     ]
    },
    {
     "name": "stderr",
     "output_type": "stream",
     "text": [
      "Epoch 134, global step 2700: 'val_loss' was not in top 1\n"
     ]
    },
    {
     "name": "stdout",
     "output_type": "stream",
     "text": [
      "Epoch 135: 100%|██████████| 24/24 [00:00<00:00, 51.39it/s, loss=0.188, v_num=1]"
     ]
    },
    {
     "name": "stderr",
     "output_type": "stream",
     "text": [
      "Epoch 135, global step 2720: 'val_loss' was not in top 1\n"
     ]
    },
    {
     "name": "stdout",
     "output_type": "stream",
     "text": [
      "Epoch 136: 100%|██████████| 24/24 [00:00<00:00, 49.59it/s, loss=0.186, v_num=1]"
     ]
    },
    {
     "name": "stderr",
     "output_type": "stream",
     "text": [
      "Epoch 136, global step 2740: 'val_loss' reached 0.20172 (best 0.20172), saving model to 'D:\\\\Projects\\\\ComputerVision_CloudSegmentation\\\\Superpixel-UNET\\\\sne_model_checkpt\\\\best-checkpoint-v1.ckpt' as top 1\n"
     ]
    },
    {
     "name": "stdout",
     "output_type": "stream",
     "text": [
      "Epoch 137: 100%|██████████| 24/24 [00:00<00:00, 45.03it/s, loss=0.189, v_num=1]"
     ]
    },
    {
     "name": "stderr",
     "output_type": "stream",
     "text": [
      "Epoch 137, global step 2760: 'val_loss' reached 0.20040 (best 0.20040), saving model to 'D:\\\\Projects\\\\ComputerVision_CloudSegmentation\\\\Superpixel-UNET\\\\sne_model_checkpt\\\\best-checkpoint-v1.ckpt' as top 1\n"
     ]
    },
    {
     "name": "stdout",
     "output_type": "stream",
     "text": [
      "Epoch 138: 100%|██████████| 24/24 [00:00<00:00, 50.86it/s, loss=0.186, v_num=1]"
     ]
    },
    {
     "name": "stderr",
     "output_type": "stream",
     "text": [
      "Epoch 138, global step 2780: 'val_loss' was not in top 1\n"
     ]
    },
    {
     "name": "stdout",
     "output_type": "stream",
     "text": [
      "Epoch 139: 100%|██████████| 24/24 [00:00<00:00, 48.88it/s, loss=0.183, v_num=1]"
     ]
    },
    {
     "name": "stderr",
     "output_type": "stream",
     "text": [
      "Epoch 139, global step 2800: 'val_loss' was not in top 1\n"
     ]
    },
    {
     "name": "stdout",
     "output_type": "stream",
     "text": [
      "Epoch 140: 100%|██████████| 24/24 [00:00<00:00, 52.14it/s, loss=0.181, v_num=1]"
     ]
    },
    {
     "name": "stderr",
     "output_type": "stream",
     "text": [
      "Epoch 140, global step 2820: 'val_loss' was not in top 1\n"
     ]
    },
    {
     "name": "stdout",
     "output_type": "stream",
     "text": [
      "Epoch 141: 100%|██████████| 24/24 [00:00<00:00, 52.52it/s, loss=0.183, v_num=1]"
     ]
    },
    {
     "name": "stderr",
     "output_type": "stream",
     "text": [
      "Epoch 141, global step 2840: 'val_loss' was not in top 1\n"
     ]
    },
    {
     "name": "stdout",
     "output_type": "stream",
     "text": [
      "Epoch 142: 100%|██████████| 24/24 [00:00<00:00, 51.61it/s, loss=0.184, v_num=1]"
     ]
    },
    {
     "name": "stderr",
     "output_type": "stream",
     "text": [
      "Epoch 142, global step 2860: 'val_loss' was not in top 1\n"
     ]
    },
    {
     "name": "stdout",
     "output_type": "stream",
     "text": [
      "Epoch 143: 100%|██████████| 24/24 [00:00<00:00, 49.60it/s, loss=0.183, v_num=1]"
     ]
    },
    {
     "name": "stderr",
     "output_type": "stream",
     "text": [
      "Epoch 143, global step 2880: 'val_loss' reached 0.19861 (best 0.19861), saving model to 'D:\\\\Projects\\\\ComputerVision_CloudSegmentation\\\\Superpixel-UNET\\\\sne_model_checkpt\\\\best-checkpoint-v1.ckpt' as top 1\n"
     ]
    },
    {
     "name": "stdout",
     "output_type": "stream",
     "text": [
      "Epoch 144: 100%|██████████| 24/24 [00:00<00:00, 51.06it/s, loss=0.184, v_num=1]"
     ]
    },
    {
     "name": "stderr",
     "output_type": "stream",
     "text": [
      "Epoch 144, global step 2900: 'val_loss' was not in top 1\n"
     ]
    },
    {
     "name": "stdout",
     "output_type": "stream",
     "text": [
      "Epoch 145: 100%|██████████| 24/24 [00:00<00:00, 53.62it/s, loss=0.182, v_num=1]"
     ]
    },
    {
     "name": "stderr",
     "output_type": "stream",
     "text": [
      "Epoch 145, global step 2920: 'val_loss' was not in top 1\n"
     ]
    },
    {
     "name": "stdout",
     "output_type": "stream",
     "text": [
      "Epoch 146: 100%|██████████| 24/24 [00:00<00:00, 49.69it/s, loss=0.188, v_num=1]"
     ]
    },
    {
     "name": "stderr",
     "output_type": "stream",
     "text": [
      "Epoch 146, global step 2940: 'val_loss' was not in top 1\n"
     ]
    },
    {
     "name": "stdout",
     "output_type": "stream",
     "text": [
      "Epoch 147: 100%|██████████| 24/24 [00:00<00:00, 51.72it/s, loss=0.186, v_num=1]"
     ]
    },
    {
     "name": "stderr",
     "output_type": "stream",
     "text": [
      "Epoch 147, global step 2960: 'val_loss' was not in top 1\n"
     ]
    },
    {
     "name": "stdout",
     "output_type": "stream",
     "text": [
      "Epoch 148: 100%|██████████| 24/24 [00:00<00:00, 48.94it/s, loss=0.185, v_num=1]"
     ]
    },
    {
     "name": "stderr",
     "output_type": "stream",
     "text": [
      "Epoch 148, global step 2980: 'val_loss' was not in top 1\n"
     ]
    },
    {
     "name": "stdout",
     "output_type": "stream",
     "text": [
      "Epoch 149: 100%|██████████| 24/24 [00:00<00:00, 54.05it/s, loss=0.186, v_num=1]"
     ]
    },
    {
     "name": "stderr",
     "output_type": "stream",
     "text": [
      "Epoch 149, global step 3000: 'val_loss' was not in top 1\n"
     ]
    },
    {
     "name": "stdout",
     "output_type": "stream",
     "text": [
      "Epoch 150: 100%|██████████| 24/24 [00:00<00:00, 43.44it/s, loss=0.182, v_num=1]"
     ]
    },
    {
     "name": "stderr",
     "output_type": "stream",
     "text": [
      "Epoch 150, global step 3020: 'val_loss' was not in top 1\n"
     ]
    },
    {
     "name": "stdout",
     "output_type": "stream",
     "text": [
      "Epoch 151: 100%|██████████| 24/24 [00:00<00:00, 42.70it/s, loss=0.181, v_num=1]"
     ]
    },
    {
     "name": "stderr",
     "output_type": "stream",
     "text": [
      "Epoch 151, global step 3040: 'val_loss' was not in top 1\n"
     ]
    },
    {
     "name": "stdout",
     "output_type": "stream",
     "text": [
      "Epoch 152: 100%|██████████| 24/24 [00:00<00:00, 47.06it/s, loss=0.178, v_num=1]"
     ]
    },
    {
     "name": "stderr",
     "output_type": "stream",
     "text": [
      "Epoch 152, global step 3060: 'val_loss' was not in top 1\n"
     ]
    },
    {
     "name": "stdout",
     "output_type": "stream",
     "text": [
      "Epoch 153: 100%|██████████| 24/24 [00:00<00:00, 41.10it/s, loss=0.175, v_num=1]"
     ]
    },
    {
     "name": "stderr",
     "output_type": "stream",
     "text": [
      "Epoch 153, global step 3080: 'val_loss' was not in top 1\n"
     ]
    },
    {
     "name": "stdout",
     "output_type": "stream",
     "text": [
      "Epoch 154: 100%|██████████| 24/24 [00:00<00:00, 39.93it/s, loss=0.171, v_num=1]"
     ]
    },
    {
     "name": "stderr",
     "output_type": "stream",
     "text": [
      "Epoch 154, global step 3100: 'val_loss' was not in top 1\n"
     ]
    },
    {
     "name": "stdout",
     "output_type": "stream",
     "text": [
      "Epoch 155: 100%|██████████| 24/24 [00:00<00:00, 48.66it/s, loss=0.171, v_num=1]"
     ]
    },
    {
     "name": "stderr",
     "output_type": "stream",
     "text": [
      "Epoch 155, global step 3120: 'val_loss' was not in top 1\n"
     ]
    },
    {
     "name": "stdout",
     "output_type": "stream",
     "text": [
      "Epoch 156: 100%|██████████| 24/24 [00:00<00:00, 48.53it/s, loss=0.176, v_num=1]"
     ]
    },
    {
     "name": "stderr",
     "output_type": "stream",
     "text": [
      "Epoch 156, global step 3140: 'val_loss' was not in top 1\n"
     ]
    },
    {
     "name": "stdout",
     "output_type": "stream",
     "text": [
      "Epoch 157: 100%|██████████| 24/24 [00:00<00:00, 48.00it/s, loss=0.176, v_num=1]"
     ]
    },
    {
     "name": "stderr",
     "output_type": "stream",
     "text": [
      "Epoch 157, global step 3160: 'val_loss' was not in top 1\n"
     ]
    },
    {
     "name": "stdout",
     "output_type": "stream",
     "text": [
      "Epoch 158: 100%|██████████| 24/24 [00:00<00:00, 48.04it/s, loss=0.178, v_num=1]"
     ]
    },
    {
     "name": "stderr",
     "output_type": "stream",
     "text": [
      "Epoch 158, global step 3180: 'val_loss' was not in top 1\n"
     ]
    },
    {
     "name": "stdout",
     "output_type": "stream",
     "text": [
      "Epoch 159: 100%|██████████| 24/24 [00:00<00:00, 41.59it/s, loss=0.175, v_num=1]"
     ]
    },
    {
     "name": "stderr",
     "output_type": "stream",
     "text": [
      "Epoch 159, global step 3200: 'val_loss' was not in top 1\n"
     ]
    },
    {
     "name": "stdout",
     "output_type": "stream",
     "text": [
      "Epoch 160: 100%|██████████| 24/24 [00:00<00:00, 44.44it/s, loss=0.17, v_num=1] "
     ]
    },
    {
     "name": "stderr",
     "output_type": "stream",
     "text": [
      "Epoch 160, global step 3220: 'val_loss' was not in top 1\n"
     ]
    },
    {
     "name": "stdout",
     "output_type": "stream",
     "text": [
      "Epoch 161: 100%|██████████| 24/24 [00:00<00:00, 52.57it/s, loss=0.169, v_num=1]"
     ]
    },
    {
     "name": "stderr",
     "output_type": "stream",
     "text": [
      "Epoch 161, global step 3240: 'val_loss' was not in top 1\n"
     ]
    },
    {
     "name": "stdout",
     "output_type": "stream",
     "text": [
      "Epoch 162: 100%|██████████| 24/24 [00:00<00:00, 42.36it/s, loss=0.168, v_num=1]"
     ]
    },
    {
     "name": "stderr",
     "output_type": "stream",
     "text": [
      "Epoch 162, global step 3260: 'val_loss' was not in top 1\n"
     ]
    },
    {
     "name": "stdout",
     "output_type": "stream",
     "text": [
      "Epoch 163: 100%|██████████| 24/24 [00:00<00:00, 51.28it/s, loss=0.167, v_num=1]"
     ]
    },
    {
     "name": "stderr",
     "output_type": "stream",
     "text": [
      "Epoch 163, global step 3280: 'val_loss' was not in top 1\n"
     ]
    },
    {
     "name": "stdout",
     "output_type": "stream",
     "text": [
      "Epoch 163: 100%|██████████| 24/24 [00:00<00:00, 50.74it/s, loss=0.167, v_num=1]\n"
     ]
    }
   ],
   "source": [
    "trainer = Trainer(\n",
    "    logger = logger,\n",
    "    accelerator=\"auto\",\n",
    "    max_epochs=1000,\n",
    "    callbacks=[EarlyStopping(monitor='val_loss', patience=20), checkpoint_callback]\n",
    ")\n",
    "\n",
    "# Train the model using the trainer\n",
    "# trainer.fit(segmentationModel, train_loader, test_loader)\n"
   ]
  },
  {
   "cell_type": "code",
   "execution_count": 18,
   "metadata": {},
   "outputs": [],
   "source": [
    "segmentationModel = CloudSegmentationModel(depth=2)\n",
    "segmentationModel = segmentationModel.load_from_checkpoint('./sne_model_checkpt/best-checkpoint.ckpt')"
   ]
  },
  {
   "cell_type": "markdown",
   "metadata": {},
   "source": [
    "## Manual Model test"
   ]
  },
  {
   "cell_type": "code",
   "execution_count": 45,
   "metadata": {},
   "outputs": [
    {
     "name": "stderr",
     "output_type": "stream",
     "text": [
      "<ipython-input-12-e9d455cf8280>:8: FutureWarning: Using a non-tuple sequence for multidimensional indexing is deprecated; use `arr[tuple(seq)]` instead of `arr[seq]`. In the future this will be interpreted as an array index, `arr[np.array(seq)]`, which will result either in an error or a different result.\n",
      "  label = y[[X[:,0] != -1]]\n"
     ]
    },
    {
     "data": {
      "image/png": "[encoded data removed]",
      "text/plain": [
       "<Figure size 2500x1000 with 5 Axes>"
      ]
     },
     "metadata": {},
     "output_type": "display_data"
    }
   ],
   "source": [
    "##plot segmented_image_rgb\n",
    "i = 5\n",
    "\n",
    "y_true = data_utils.unpad_and_map(X[i],y[i],original_ordering[i],slic_map[i])\n",
    "y_pred = np.round(segmentationModel(torch.tensor([X[i].T], dtype=torch.float32)).detach().numpy().reshape(-1))\n",
    "y_pred = data_utils.unpad_and_map(X[i],y_pred,original_ordering[i],slic_map[i])\n",
    "## Make a 1x3 subplot\n",
    "fig, ax = plt.subplots(1, 5, figsize=(25, 10))\n",
    "\n",
    "## Plot the original image\n",
    "ax[0].imshow(patches[i])\n",
    "ax[0].set_title('Original Image')\n",
    "\n",
    "## Plot the true segmentation\n",
    "ax[1].imshow(mask[i])\n",
    "ax[1].set_title('True Map')\n",
    "\n",
    "## Plot the superpixel segmentation\n",
    "ax[2].imshow(raw[i])\n",
    "ax[2].set_title('Superpixel Image')\n",
    "\n",
    "## Plot the true segmentation\n",
    "ax[3].imshow(y_true)\n",
    "ax[3].set_title('Superpixel Map')\n",
    "\n",
    "## Plot the predicted segmentation\n",
    "ax[4].imshow(y_pred)\n",
    "ax[4].set_title('Predicted Map')\n",
    "\n",
    "## Show the plot\n",
    "plt.show()"
   ]
  },
  {
   "cell_type": "markdown",
   "metadata": {},
   "source": [
    "### Calculate DICE and Jaccaard Index"
   ]
  },
  {
   "cell_type": "code",
   "execution_count": 20,
   "metadata": {},
   "outputs": [],
   "source": [
    "## Write a function to calculate the dice score between two images\n",
    "def get_jaccard_score(y_true, y_pred):\n",
    "    intersection = np.logical_and(y_true, y_pred)\n",
    "    union = np.logical_or(y_true, y_pred)\n",
    "    jaccard = np.sum(intersection) / np.sum(union)\n",
    "    return jaccard\n",
    "\n",
    "def get_dice_score(y_true, y_pred):\n",
    "    intersection = np.logical_and(y_true, y_pred)\n",
    "    dice = 2 * np.sum(intersection) / (np.sum(y_true) + np.sum(y_pred))\n",
    "    return dice"
   ]
  },
  {
   "cell_type": "markdown",
   "metadata": {},
   "source": [
    "### SLIC"
   ]
  },
  {
   "cell_type": "code",
   "execution_count": 28,
   "metadata": {},
   "outputs": [
    {
     "data": {
      "application/vnd.jupyter.widget-view+json": {
       "model_id": "6ec152b569544d6389f5901a74bc5201",
       "version_major": 2,
       "version_minor": 0
      },
      "text/plain": [
       "  0%|          | 0/200 [00:00<?, ?it/s]"
      ]
     },
     "metadata": {},
     "output_type": "display_data"
    },
    {
     "name": "stderr",
     "output_type": "stream",
     "text": [
      "<ipython-input-12-e9d455cf8280>:8: FutureWarning: Using a non-tuple sequence for multidimensional indexing is deprecated; use `arr[tuple(seq)]` instead of `arr[seq]`. In the future this will be interpreted as an array index, `arr[np.array(seq)]`, which will result either in an error or a different result.\n",
      "  label = y[[X[:,0] != -1]]\n"
     ]
    },
    {
     "data": {
      "application/vnd.jupyter.widget-view+json": {
       "model_id": "e006aa7b9ca141cc94232862b88551d0",
       "version_major": 2,
       "version_minor": 0
      },
      "text/plain": [
       "0it [00:00, ?it/s]"
      ]
     },
     "metadata": {},
     "output_type": "display_data"
    },
    {
     "data": {
      "application/vnd.jupyter.widget-view+json": {
       "model_id": "1e525fe864434ceda30cd3c97eecd177",
       "version_major": 2,
       "version_minor": 0
      },
      "text/plain": [
       "0it [00:00, ?it/s]"
      ]
     },
     "metadata": {},
     "output_type": "display_data"
    }
   ],
   "source": [
    "pred_maps = []\n",
    "true_maps = []\n",
    "for i in tqdm(test_index):\n",
    "    y_pred = np.round(segmentationModel(torch.tensor([X[i].T], dtype=torch.float32)).detach().numpy().reshape(-1))\n",
    "    pred = data_utils.unpad_and_map(X[i],y_pred,original_ordering[i],slic_map[i])\n",
    "    pred_maps.append(pred)\n",
    "\n",
    "    true = data_utils.unpad_and_map(X[i],y[i],original_ordering[i],slic_map[i])\n",
    "    true_maps.append(true)\n",
    "\n",
    "dice = []\n",
    "for i,j in tqdm(zip(np.array(pred_maps),np.array(true_maps))):\n",
    "    dice.append(get_dice_score(i,j))\n",
    "\n",
    "jaccard = []\n",
    "for i,j in tqdm(zip(np.array(pred_maps),np.array(true_maps))):\n",
    "    jaccard.append(get_jaccard_score(i,j))"
   ]
  },
  {
   "cell_type": "code",
   "execution_count": 29,
   "metadata": {},
   "outputs": [
    {
     "name": "stdout",
     "output_type": "stream",
     "text": [
      "SLIC Dice: 0.8888343538667036\n",
      "SLIC Jaccard: 0.8302473201320422\n"
     ]
    }
   ],
   "source": [
    "print(\"SLIC Dice:\", np.mean(dice))\n",
    "print(\"SLIC Jaccard:\", np.mean(jaccard))"
   ]
  },
  {
   "cell_type": "markdown",
   "metadata": {},
   "source": [
    "### Overall"
   ]
  },
  {
   "cell_type": "code",
   "execution_count": 30,
   "metadata": {},
   "outputs": [
    {
     "data": {
      "application/vnd.jupyter.widget-view+json": {
       "model_id": "5f6180dab8254f6494fdd0c6f4c2d8ca",
       "version_major": 2,
       "version_minor": 0
      },
      "text/plain": [
       "  0%|          | 0/200 [00:00<?, ?it/s]"
      ]
     },
     "metadata": {},
     "output_type": "display_data"
    },
    {
     "name": "stderr",
     "output_type": "stream",
     "text": [
      "<ipython-input-12-e9d455cf8280>:8: FutureWarning: Using a non-tuple sequence for multidimensional indexing is deprecated; use `arr[tuple(seq)]` instead of `arr[seq]`. In the future this will be interpreted as an array index, `arr[np.array(seq)]`, which will result either in an error or a different result.\n",
      "  label = y[[X[:,0] != -1]]\n"
     ]
    },
    {
     "data": {
      "application/vnd.jupyter.widget-view+json": {
       "model_id": "eb5ecdd77a774ef8bea27247f7da0822",
       "version_major": 2,
       "version_minor": 0
      },
      "text/plain": [
       "0it [00:00, ?it/s]"
      ]
     },
     "metadata": {},
     "output_type": "display_data"
    },
    {
     "data": {
      "application/vnd.jupyter.widget-view+json": {
       "model_id": "53f6c966ef734fc18b678a811779ecea",
       "version_major": 2,
       "version_minor": 0
      },
      "text/plain": [
       "0it [00:00, ?it/s]"
      ]
     },
     "metadata": {},
     "output_type": "display_data"
    }
   ],
   "source": [
    "pred_maps = []\n",
    "for i in tqdm(test_index):\n",
    "    y_pred = np.round(segmentationModel(torch.tensor([X[i].T], dtype=torch.float32)).detach().numpy().reshape(-1))\n",
    "    pred = data_utils.unpad_and_map(X[i],y_pred,original_ordering[i],slic_map[i])\n",
    "    pred_maps.append(pred)\n",
    "\n",
    "dice = []\n",
    "for i,j in tqdm(zip(np.array(pred_maps),mask[test_index])):\n",
    "    dice.append(get_dice_score(i,j))\n",
    "\n",
    "jaccard = []\n",
    "for i,j in tqdm(zip(np.array(pred_maps),mask[test_index])):\n",
    "    jaccard.append(get_jaccard_score(i,j))"
   ]
  },
  {
   "cell_type": "code",
   "execution_count": 42,
   "metadata": {},
   "outputs": [
    {
     "name": "stdout",
     "output_type": "stream",
     "text": [
      "Overall Dice: 0.8572865840921539\n",
      "Overall Jaccard: 0.7818095998947753\n"
     ]
    }
   ],
   "source": [
    "print(\"Overall Dice:\", np.mean(dice))\n",
    "print(\"Overall Jaccard:\", np.mean(jaccard))"
   ]
  }
 ],
 "metadata": {
  "kernelspec": {
   "display_name": "Python 3",
   "language": "python",
   "name": "python3"
  },
  "language_info": {
   "codemirror_mode": {
    "name": "ipython",
    "version": 3
   },
   "file_extension": ".py",
   "mimetype": "text/x-python",
   "name": "python",
   "nbconvert_exporter": "python",
   "pygments_lexer": "ipython3",
   "version": "3.8.8"
  },
  "orig_nbformat": 4
 },
 "nbformat": 4,
 "nbformat_minor": 2
}
