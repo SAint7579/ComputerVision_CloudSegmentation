{
 "cells": [
  {
   "cell_type": "code",
   "execution_count": 3,
   "metadata": {},
   "outputs": [
    {
     "name": "stderr",
     "output_type": "stream",
     "text": [
      "C:\\Users\\aniru\\AppData\\Local\\Temp\\ipykernel_13804\\3767632484.py:4: DeprecationWarning: Please use `center_of_mass` from the `scipy.ndimage` namespace, the `scipy.ndimage.measurements` namespace is deprecated.\n",
      "  from scipy.ndimage.measurements import center_of_mass\n"
     ]
    }
   ],
   "source": [
    "import numpy as np\n",
    "from skimage.segmentation import slic\n",
    "from skimage.color import rgb2gray\n",
    "from scipy.ndimage.measurements import center_of_mass\n",
    "\n",
    "def convert_image_array_to_slic_with_properties(image_array, n_segments=100, compactness=10, sigma=1):\n",
    "    \"\"\"\n",
    "    Convert an image array to a segmented grayscale image using SLIC (Simple Linear Iterative Clustering) algorithm,\n",
    "    and calculate properties for each superpixel including color, centroid x, centroid y, and number of pixels.\n",
    "\n",
    "    Args:\n",
    "        image_array (numpy.ndarray): Input image array.\n",
    "        n_segments (int, optional): Number of segments in SLIC. Default is 100.\n",
    "        compactness (float, optional): Compactness parameter for SLIC. Default is 10.\n",
    "        sigma (float, optional): Sigma parameter for SLIC. Default is 1.\n",
    "\n",
    "    Returns:\n",
    "        segmented_image_gray (numpy.ndarray): Segmented grayscale image.\n",
    "        properties (numpy.ndarray): Array of dictionaries containing properties for each superpixel.\n",
    "    \"\"\"\n",
    "    image_rgb = np.stack((image_array,) * 3, axis=-1)\n",
    "    segments = slic(image_rgb, n_segments=n_segments, compactness=compactness, sigma=sigma)\n",
    "    segmented_image = np.zeros_like(image_rgb)\n",
    "    properties = []  # List to store properties\n",
    "\n",
    "    for segment_id in np.unique(segments):\n",
    "        mask = segments == segment_id\n",
    "        segment_rgb = image_rgb[mask]\n",
    "\n",
    "        if np.any(mask):\n",
    "            num_pixels = np.sum(mask)\n",
    "            centroid = center_of_mass(mask)\n",
    "            centroid_x, centroid_y = centroid\n",
    "            mean_color = np.mean(segment_rgb, axis=0)\n",
    "\n",
    "            properties.append({\n",
    "                'color': mean_color, # RGB color values\n",
    "                'centroid_x': centroid_x, # x coordinate of centroid\n",
    "                'centroid_y': centroid_y, # y coordinate of centroid\n",
    "                'num_pixels': num_pixels # number of pixels in superpixel\n",
    "            })\n",
    "\n",
    "            segmented_image[mask] = mean_color\n",
    "    \n",
    "    properties = np.array(properties)  # Convert properties list to numpy array\n",
    "\n",
    "    segmented_image_gray = rgb2gray(segmented_image) # Convert segmented image to grayscale\n",
    "    return segmented_image_gray, properties\n"
   ]
  }
 ],
 "metadata": {
  "kernelspec": {
   "display_name": "py39",
   "language": "python",
   "name": "python3"
  },
  "language_info": {
   "codemirror_mode": {
    "name": "ipython",
    "version": 3
   },
   "file_extension": ".py",
   "mimetype": "text/x-python",
   "name": "python",
   "nbconvert_exporter": "python",
   "pygments_lexer": "ipython3",
   "version": "3.9.16"
  },
  "orig_nbformat": 4
 },
 "nbformat": 4,
 "nbformat_minor": 2
}
